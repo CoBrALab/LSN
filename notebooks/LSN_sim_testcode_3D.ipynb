{
 "cells": [
  {
   "cell_type": "markdown",
   "metadata": {
    "colab_type": "text",
    "id": "kLSLxAdBGHSd"
   },
   "source": [
    "# LSN - simulation test code\n",
    "* **Running things on compute canada (Graham)**\n",
    "\n",
    "- Submit jobs: sbatch tf_test_job.sh\n",
    "\n",
    "    #!/bin/bash\n",
    "    #SBATCH --gres=gpu:1        # request GPU \"generic resource\"\n",
    "    #SBATCH --cpus-per-task=6   # maximum CPU cores per GPU request: 6 on Cedar, 16 on Graham.\n",
    "    #SBATCH --mem=32000M        # memory per node\n",
    "    #SBATCH --account=def-mchakrav\n",
    "    #SBATCH --time=0-00:05      # time (DD-HH:MM)\n",
    "    #SBATCH --output=%N-%j.out  # %N for node name, %j for jobID\n",
    "\n",
    "    module load cuda cudnn python/3.5.2\n",
    "    module load scipy-stack/2018b\n",
    "    source ../tensorflow/bin/activate\n",
    "    python ./LSN_sim_testcode_3D.py\n",
    "    \n",
    "- Monitor jobs: squeue -u nikhil \n",
    "- Cancel jobs: scancel <jobid>"
   ]
  },
  {
   "cell_type": "code",
   "execution_count": 109,
   "metadata": {
    "colab": {
     "autoexec": {
      "startup": false,
      "wait_interval": 0
     }
    },
    "colab_type": "code",
    "id": "WYpfpG7UGLnX"
   },
   "outputs": [],
   "source": [
    "# Package imports\n",
    "%matplotlib inline\n",
    "import tensorflow as tf\n",
    "import numpy as np\n",
    "import random\n",
    "import time\n",
    "import math\n",
    "import pandas as pd\n",
    "from sklearn.preprocessing import LabelBinarizer\n",
    "from datetime import datetime\n",
    "\n",
    "# Main slim library\n",
    "slim = tf.contrib.slim"
   ]
  },
  {
   "cell_type": "markdown",
   "metadata": {},
   "source": [
    "# LSN Class and other functions"
   ]
  },
  {
   "cell_type": "code",
   "execution_count": 47,
   "metadata": {
    "colab": {
     "autoexec": {
      "startup": false,
      "wait_interval": 0
     }
    },
    "colab_type": "code",
    "id": "4nyoHfbQY-YJ"
   },
   "outputs": [],
   "source": [
    "# Main slim library\n",
    "slim = tf.contrib.slim\n",
    "\n",
    "class siamese_net(object):\n",
    "  \n",
    "    def __init__(self, net_arch):\n",
    "              \n",
    "        self.MR_input = tf.placeholder(tf.float32, [None, net_arch['input'],net_arch['input'],\n",
    "                                                    net_arch['input']],name='baseline')        \n",
    "        self.labels = tf.placeholder(tf.float32, [None,net_arch['output']],name='trajectory')                \n",
    "        self.is_training = True  #toggles dropout in slim\n",
    "        self.dropout = 1      \n",
    "        \n",
    "        self.branch = self.convnet_slim(self.MR_input, net_arch)\n",
    "        \n",
    "        # Create metrics              \n",
    "        self.preds = self.get_predictions(net_arch)\n",
    "        self.loss = self.get_loss()\n",
    "        self.accuracy = self.get_accuracy()\n",
    "\n",
    "    # Individual branch    \n",
    "    def convnet_slim(self, X, net_arch):\n",
    "        with slim.arg_scope([slim.conv3d], activation_fn=tf.nn.relu,\n",
    "                            weights_regularizer=slim.l2_regularizer(net_arch['reg'])):\n",
    "\n",
    "            # If needed, within the scope layer is made linear by setting activation_fn=None.\n",
    "            # Creates a fully connected layers \n",
    "            for l in range(net_arch['n_layers']):\n",
    "                net = slim.conv3d(X, net_arch['n_filters'], net_arch['filter_size'], normalizer_fn=slim.batch_norm,\n",
    "                                  scope='fc{}'.format(l))\n",
    "                net = slim.dropout(net, self.dropout, is_training=self.is_training)\n",
    "\n",
    "            # MR output\n",
    "            net = slim.flatten(net, scope='flatten3')\n",
    "            MR_predictions = slim.fully_connected(net, net_arch['MR_output'], \n",
    "                                                  normalizer_fn=slim.batch_norm, scope='MR_prediction')               \n",
    "\n",
    "            return MR_predictions #Later also return end_points \n",
    "    \n",
    "\n",
    "    def get_predictions(self, net_arch):\n",
    "        penult_predict = slim.fully_connected(self.branch, net_arch['output'], activation_fn=tf.nn.softmax, \n",
    "                                               normalizer_fn=slim.batch_norm, scope='aux_prediction')\n",
    "        return penult_predict\n",
    "\n",
    "   \n",
    "    # Set methods for class variables\n",
    "    def set_dropout(self, dropout):\n",
    "        self.dropout = dropout\n",
    "      \n",
    "    def set_train_mode(self,is_training):  \n",
    "        self.is_training = is_training\n",
    "      \n",
    "    # Get methods for loss and acc metrics\n",
    "    def get_loss(self):            \n",
    "        return tf.reduce_mean(tf.nn.softmax_cross_entropy_with_logits(labels=self.labels,logits=self.preds)) \n",
    "\n",
    "    def get_accuracy(self):\n",
    "        correct_preds = tf.equal(tf.argmax(self.labels,1), tf.argmax(self.preds,1))\n",
    "        return tf.reduce_mean(tf.cast(correct_preds, tf.float32)) \n",
    "\n",
    "    \n",
    "# Other helper functions\n",
    "def next_batch(s,e,mr_inputs,labels):\n",
    "    input1 = mr_inputs[s:e]     \n",
    "    y = labels[s:e]    \n",
    "    return input1,y\n",
    "  \n",
    "def check_data_shapes(data,net_arch):\n",
    "    check = True  \n",
    "    n_layers = net_arch['n_layers']\n",
    "    if data['X_MR'].shape[1] != 2:\n",
    "        print('wrong input data dimensions - need MR data for two branches')\n",
    "        check = False\n",
    "    elif data['X_MR'].shape[2] != net_arch['MR_shape']:\n",
    "        print('input MR data <-> LSN arch mismatch')\n",
    "        check = False\n",
    "    elif data['X_aux'].shape[1] != net_arch['aux_shape']:\n",
    "        print('input aux data <-> LSN arch mismatch')\n",
    "        check = False\n",
    "    elif data['y'].shape[1] != net_arch['output']:\n",
    "        print('number of classes (2,3) <-> LSN arch mismatch')\n",
    "        check = False\n",
    "    else:\n",
    "        for l in range(n_layers):\n",
    "            try:\n",
    "                _ = net_arch['l{}'.format(l+1)]\n",
    "            except:\n",
    "                print('Specify number of nodes for layer {}'.format(l))\n",
    "                check = False        \n",
    "\n",
    "    return check"
   ]
  },
  {
   "cell_type": "code",
   "execution_count": 31,
   "metadata": {},
   "outputs": [],
   "source": [
    "# Train and test defs\n",
    "def train_lsn(sess, lsn, data, optimizer, n_epochs, batch_size, dropout, validate_after, verbose):\n",
    "    valid_frac = int(0.1*len(data['y']))\n",
    "    \n",
    "    # Split into train and valid data for hyperparam tuning\n",
    "    X_MR_train = data['X_MR'][:1-valid_frac]    \n",
    "    y_train = data['y'][:1-valid_frac]\n",
    "\n",
    "    X_MR_valid = data['X_MR'][1-valid_frac:]    \n",
    "    y_valid = data['y'][1-valid_frac:]\n",
    "\n",
    "    total_batch = int(len(y_train)/batch_size)\n",
    "    #print('total_batch {}'.format(total_batch))\n",
    "    \n",
    "    train_acc_list = []\n",
    "    valid_acc_list = []\n",
    "    train_loss_list = []\n",
    "    valid_loss_list = []\n",
    "    \n",
    "    # Training cycle\n",
    "    for epoch in range(n_epochs):\n",
    "        avg_loss = 0.\n",
    "        avg_acc = 0.\n",
    "        start_time = time.time()\n",
    "        # Loop over all batches\n",
    "        for i in range(total_batch):\n",
    "            s  = i * batch_size\n",
    "            e = (i+1) *batch_size\n",
    "\n",
    "            # Fit training using batch data\n",
    "            MR_batch,y_batch = next_batch(s,e,X_MR_train,y_train)\n",
    "\n",
    "            # Train pass\n",
    "            lsn.set_dropout(dropout)\n",
    "            _,preds,loss_value,acc_value=sess.run([optimizer,lsn.preds,lsn.loss,lsn.accuracy], \n",
    "                                        feed_dict={lsn.MR_input:MR_batch,lsn.labels:y_batch})                \n",
    "\n",
    "            avg_loss += loss_value\n",
    "            avg_acc +=acc_value*100\n",
    "\n",
    "        duration = time.time() - start_time\n",
    "        if verbose:\n",
    "            print('epoch %d  time: %.2f loss %0.4f acc %0.2f' %(epoch,duration,avg_loss/total_batch,avg_acc/total_batch))      \n",
    "\n",
    "        #Compute perf on entire training and validation sets (no need after every epoch)\n",
    "        if epoch%validate_after == 0:\n",
    "            train_acc = lsn.accuracy.eval(feed_dict={lsn.MR_input:X_MR_train, lsn.labels:y_train})\n",
    "            valid_acc = lsn.accuracy.eval(feed_dict={lsn.MR_input:X_MR_valid, lsn.labels:y_valid})\n",
    "            train_loss = lsn.loss.eval(feed_dict={lsn.MR_input:X_MR_train, lsn.labels:y_train})\n",
    "            valid_loss = lsn.loss.eval(feed_dict={lsn.MR_input:X_MR_valid, lsn.labels:y_valid})\n",
    "            print('performance on entire train and valid subsets')\n",
    "            print('epoch {}\\t train_acc:{}\\t valid_acc:{}\\n'.format(epoch,train_acc,valid_acc))\n",
    "            train_acc_list.append(train_acc)\n",
    "            valid_acc_list.append(valid_acc)\n",
    "            train_loss_list.append(train_loss)\n",
    "            valid_loss_list.append(valid_loss)\n",
    "  \n",
    "    # Post training: Compute preds and metrics for entire train data\n",
    "    X_MR_train = data['X_MR']    \n",
    "    y_train = data['y']\n",
    "    train_feature = lsn.branch.eval(feed_dict={lsn.MR_input:X_MR_train})    \n",
    "    train_preds= lsn.preds.eval(feed_dict={lsn.MR_input:X_MR_train})\n",
    "\n",
    "    train_metrics = {'train_feature':train_feature,'train_preds':train_preds,\n",
    "                     'train_loss':train_loss_list,'train_acc':train_acc_list,\n",
    "                     'valid_loss':valid_loss_list,'valid_acc':valid_acc_list}\n",
    "\n",
    "    return lsn, train_metrics\n",
    "\n",
    "def test_lsn(sess,lsn,data):\n",
    "    print('Testing model')    \n",
    "    lsn.set_dropout(1)\n",
    "    lsn.set_train_mode(False) \n",
    "    X_MR_test = data['X_MR']    \n",
    "    y_test = data['y']\n",
    "    #print(lsn.dropout)\n",
    "\n",
    "    test_feature = lsn.branch.eval(feed_dict={lsn.MR_input:X_MR_test})    \n",
    "\n",
    "    test_preds = lsn.preds.eval(feed_dict={lsn.MR_input:X_MR_test})\n",
    "    test_acc = lsn.accuracy.eval(feed_dict={lsn.MR_input:X_MR_test, lsn.labels:y_test})\n",
    "\n",
    "    test_metrics = {'test_feature':test_feature,'test_preds':test_preds,'test_acc':test_acc}\n",
    "    print('Accuracy test set %0.2f' % (100 * test_acc))\n",
    "    return lsn, test_metrics\n"
   ]
  },
  {
   "cell_type": "markdown",
   "metadata": {},
   "source": [
    "# Generate simulation data "
   ]
  },
  {
   "cell_type": "code",
   "execution_count": null,
   "metadata": {
    "colab": {
     "autoexec": {
      "startup": false,
      "wait_interval": 0
     },
     "base_uri": "https://localhost:8080/",
     "height": 51
    },
    "colab_type": "code",
    "executionInfo": {
     "elapsed": 376,
     "status": "ok",
     "timestamp": 1528988676971,
     "user": {
      "displayName": "Nikhil Bhagwat",
      "photoUrl": "//lh4.googleusercontent.com/-rmY3GxNQ0TY/AAAAAAAAAAI/AAAAAAAAEdE/SePqq1Clrc4/s50-c-k-no/photo.jpg",
      "userId": "104945077116245412065"
     },
     "user_tz": 240
    },
    "id": "CoG7X_s41pch",
    "outputId": "4cc20727-22d6-437f-d5f9-bbb89efc12a2"
   },
   "outputs": [],
   "source": [
    "sampx = 1000\n",
    "classes = 2\n",
    "MR_size = 10\n",
    "\n",
    "# Simple random numbers with modulated mean\n",
    "X_MR = np.random.rand(classes*sampx,MR_size,MR_size,MR_size)\n",
    "y_cat = np.ones(sampx*classes)\n",
    "\n",
    "# Modify feature distributions\n",
    "for i in range(classes):\n",
    "    X_MR[i*sampx:(i+1)*sampx] = X_MR[i*sampx:(i+1)*sampx]/(i+1)\n",
    "    print('mean of i\\'th subset {:4.2}'.format(np.mean(X_MR[i*sampx:(i+1)*sampx])))\n",
    "    y_cat[i*sampx:(i+1)*sampx] = y_cat[i*sampx:(i+1)*sampx]*i"
   ]
  },
  {
   "cell_type": "code",
   "execution_count": 134,
   "metadata": {
    "scrolled": true
   },
   "outputs": [
    {
     "data": {
      "text/plain": [
       "(0.5, 0.125, 0.0625)"
      ]
     },
     "execution_count": 134,
     "metadata": {},
     "output_type": "execute_result"
    }
   ],
   "source": [
    "np.mean(X_box),np.mean(X_MR[:sampx]),np.mean(X_MR[sampx:2*sampx])\n"
   ]
  },
  {
   "cell_type": "code",
   "execution_count": 152,
   "metadata": {},
   "outputs": [
    {
     "name": "stdout",
     "output_type": "stream",
     "text": [
      "1.0 0.125 0.0\n",
      "0.5 0.125 0.0625\n"
     ]
    }
   ],
   "source": [
    "# Spatially varying boxes\n",
    "from random import randint\n",
    "\n",
    "sampx = 1000\n",
    "classes = 2\n",
    "MR_size = 10\n",
    "X_MR = np.zeros((classes*sampx,MR_size,MR_size,MR_size))\n",
    "box_size = 5\n",
    "offset = MR_size - box_size\n",
    "\n",
    "X_box = np.ones((box_size,box_size,box_size))\n",
    "for s in range(sampx):\n",
    "    a,b,c = randint(0,offset),randint(0,offset),randint(0,offset)\n",
    "    X_MR[s,a:a+box_size,b:b+box_size,c:c+box_size] = X_box\n",
    "    \n",
    "print(np.mean(X_box),np.mean(X_MR[:sampx]),np.mean(X_MR[sampx:2*sampx]))\n",
    "    \n",
    "X_box = 0.5*np.ones((box_size,box_size,box_size))\n",
    "for s in range(sampx,2*sampx):\n",
    "    a,b,c = randint(0,offset),randint(0,offset),randint(0,offset)\n",
    "    X_MR[s,a:a+box_size,b:b+box_size,c:c+box_size] = X_box\n",
    "\n",
    "print(np.mean(X_box),np.mean(X_MR[:sampx]),np.mean(X_MR[sampx:2*sampx]))\n"
   ]
  },
  {
   "cell_type": "code",
   "execution_count": 153,
   "metadata": {
    "colab": {
     "autoexec": {
      "startup": false,
      "wait_interval": 0
     },
     "base_uri": "https://localhost:8080/",
     "height": 51
    },
    "colab_type": "code",
    "executionInfo": {
     "elapsed": 376,
     "status": "ok",
     "timestamp": 1528988676971,
     "user": {
      "displayName": "Nikhil Bhagwat",
      "photoUrl": "//lh4.googleusercontent.com/-rmY3GxNQ0TY/AAAAAAAAAAI/AAAAAAAAEdE/SePqq1Clrc4/s50-c-k-no/photo.jpg",
      "userId": "104945077116245412065"
     },
     "user_tz": 240
    },
    "id": "CoG7X_s41pch",
    "outputId": "4cc20727-22d6-437f-d5f9-bbb89efc12a2"
   },
   "outputs": [
    {
     "name": "stdout",
     "output_type": "stream",
     "text": [
      "shapes of X_MR_train:(1800, 10, 10, 10), y_train:(1800, 2), \n",
      "\t X_MR_test:(200, 10, 10, 10), y_test:(200, 2)\n"
     ]
    }
   ],
   "source": [
    "# Produce one-hot labels\n",
    "if classes > 2:\n",
    "    lb = LabelBinarizer()\n",
    "    y = lb.fit_transform(y_cat)\n",
    "else:\n",
    "    y = np.zeros((sampx*classes,2))\n",
    "    y[:sampx,1]=np.ones(sampx)\n",
    "    y[sampx:2*sampx,0]=np.ones(sampx)\n",
    "    \n",
    "# Shuffle data before train-test split\n",
    "indx_shuff = np.arange(classes*sampx)\n",
    "np.random.shuffle(indx_shuff)\n",
    "X_MR = np.squeeze(X_MR[indx_shuff])\n",
    "y = np.squeeze(y[indx_shuff])\n",
    "\n",
    "# Train-test splits\n",
    "train_frac = int(0.9*(classes*sampx))\n",
    "X_MR_train = X_MR[:train_frac]\n",
    "y_train = y[:train_frac]\n",
    "\n",
    "X_MR_test = X_MR[train_frac:]\n",
    "y_test = y[train_frac:]\n",
    "subject_idx_test = indx_shuff[train_frac:]\n",
    "\n",
    "print('shapes of X_MR_train:{}, y_train:{}, \\n\\t X_MR_test:{}, y_test:{}'.format(X_MR_train.shape,y_train.shape,\n",
    "                                                                                 X_MR_test.shape,y_test.shape)) "
   ]
  },
  {
   "cell_type": "markdown",
   "metadata": {},
   "source": [
    "# Train and test a sample LSN"
   ]
  },
  {
   "cell_type": "code",
   "execution_count": 155,
   "metadata": {
    "colab": {
     "autoexec": {
      "startup": false,
      "wait_interval": 0
     },
     "base_uri": "https://localhost:8080/",
     "height": 510
    },
    "colab_type": "code",
    "executionInfo": {
     "elapsed": 2258,
     "status": "ok",
     "timestamp": 1528990262472,
     "user": {
      "displayName": "Nikhil Bhagwat",
      "photoUrl": "//lh4.googleusercontent.com/-rmY3GxNQ0TY/AAAAAAAAAAI/AAAAAAAAEdE/SePqq1Clrc4/s50-c-k-no/photo.jpg",
      "userId": "104945077116245412065"
     },
     "user_tz": 240
    },
    "id": "tvUx-7fivyzv",
    "outputId": "17b66e25-2448-47a4-9224-022ba21e34e5",
    "scrolled": true
   },
   "outputs": [
    {
     "name": "stdout",
     "output_type": "stream",
     "text": [
      "train data <-> net_arch check passed\n",
      "\n",
      "Start training time: 12:26:06.443996\n",
      "performance on entire train and valid subsets\n",
      "epoch 0\t train_acc:0.9561998844146729\t valid_acc:0.9329608678817749\n",
      "\n",
      "performance on entire train and valid subsets\n",
      "epoch 10\t train_acc:1.0\t valid_acc:1.0\n",
      "\n",
      "performance on entire train and valid subsets\n",
      "epoch 20\t train_acc:1.0\t valid_acc:1.0\n",
      "\n",
      "performance on entire train and valid subsets\n",
      "epoch 30\t train_acc:1.0\t valid_acc:1.0\n",
      "\n",
      "performance on entire train and valid subsets\n",
      "epoch 40\t train_acc:1.0\t valid_acc:1.0\n",
      "\n",
      "performance on entire train and valid subsets\n",
      "epoch 50\t train_acc:1.0\t valid_acc:1.0\n",
      "\n",
      "performance on entire train and valid subsets\n",
      "epoch 60\t train_acc:1.0\t valid_acc:1.0\n",
      "\n",
      "performance on entire train and valid subsets\n",
      "epoch 70\t train_acc:1.0\t valid_acc:1.0\n",
      "\n",
      "performance on entire train and valid subsets\n",
      "epoch 80\t train_acc:1.0\t valid_acc:1.0\n",
      "\n",
      "performance on entire train and valid subsets\n",
      "epoch 90\t train_acc:1.0\t valid_acc:1.0\n",
      "\n",
      "saving model at /data/chamal/projects/nikhil/data/Traj_prediction/ADNI/exp_setup/TF_trained_models/lsn_example\n",
      "End training time: 12:26:10.234664\n",
      "\n",
      "test data <-> net_arch check passed\n",
      "Testing model\n",
      "Accuracy test set 100.00\n"
     ]
    }
   ],
   "source": [
    "# training params\n",
    "lr = 0.001\n",
    "n_epochs = 100\n",
    "validate_after = 10\n",
    "batch_size = 100\n",
    "dropout = 0.8 #keep_prob\n",
    "verbose = False # Do you want to print perf after every epoch?? \n",
    "save_model = True\n",
    "save_model_path = '/data/chamal/projects/nikhil/data/Traj_prediction/ADNI/exp_setup/TF_trained_models/'\n",
    "\n",
    "net_arch = {'input':MR_size,'n_filters':5,'filter_size':3,'n_layers':10,'MR_output':10,\n",
    "            'output':classes,'reg':0.1}\n",
    "\n",
    "# minimal perf df --> append CV related attributes downstream. \n",
    "perf_df = pd.DataFrame(columns=['subject_id','label','pred_prob','pred_label'])\n",
    "\n",
    "tf.reset_default_graph()\n",
    "with tf.Session(config=tf.ConfigProto(log_device_placement=True)) as sess:        \n",
    "    # Train model    \n",
    "    data = {'X_MR':X_MR_train,'y':y_train}    \n",
    "    if True: #check_data_shapes(data,net_arch):      \n",
    "        print('train data <-> net_arch check passed')   \n",
    "        lsn = siamese_net(net_arch)                \n",
    "        optimizer = tf.train.AdamOptimizer(learning_rate = lr).minimize(lsn.loss)\n",
    "        tf.global_variables_initializer().run()\n",
    "        saver = tf.train.Saver()\n",
    "\n",
    "        cur_time = datetime.time(datetime.now())\n",
    "        print('\\nStart training time: {}'.format(cur_time))                \n",
    "        lsn, train_metrics = train_lsn(sess, lsn, data, optimizer, n_epochs, batch_size, dropout,\n",
    "                                       validate_after,verbose)\n",
    "        \n",
    "        #Save trained model\n",
    "        if save_model:\n",
    "            print('saving model at {}'.format(save_model_path + 'lsn_example'))\n",
    "            saver.save(sess, save_model_path + 'lsn_example')\n",
    "        \n",
    "        cur_time = datetime.time(datetime.now())\n",
    "        print('End training time: {}\\n'.format(cur_time))  \n",
    "      \n",
    "    else:\n",
    "        print('train data <-> net_arch check failed')\n",
    "\n",
    "    # Test model      \n",
    "    data = {'X_MR':X_MR_test,'y':y_test}\n",
    "    if True: #check_data_shapes(data,net_arch):\n",
    "        print('test data <-> net_arch check passed')   \n",
    "        _,test_metrics = test_lsn(sess,lsn,data)        \n",
    "        # populate perf dataframe\n",
    "        perf_df['subject_id']  = subject_idx_test\n",
    "        perf_df['label'] = np.argmax(y_test,1)\n",
    "        perf_df['pred_prob'] = list(test_metrics['test_preds'])\n",
    "        perf_df['pred_label'] = np.argmax(test_metrics['test_preds'],1)\n",
    "    else:\n",
    "        print('test data <-> net_arch check failed')   \n"
   ]
  },
  {
   "cell_type": "markdown",
   "metadata": {},
   "source": [
    "# Restore dave TF session with pretrained model"
   ]
  },
  {
   "cell_type": "code",
   "execution_count": 10,
   "metadata": {},
   "outputs": [
    {
     "name": "stdout",
     "output_type": "stream",
     "text": [
      "INFO:tensorflow:Restoring parameters from /data/chamal/projects/nikhil/data/Traj_prediction/ADNI/exp_setup/TF_trained_models/lsn_example\n",
      "Testing model\n",
      "Accuracy test set 99.20\n"
     ]
    }
   ],
   "source": [
    "with tf.Session() as sess:\n",
    "    new_saver = tf.train.import_meta_graph(save_model_path + 'lsn_example.meta')\n",
    "    new_saver.restore(sess, tf.train.latest_checkpoint(save_model_path))\n",
    "    _,test_metrics = test_lsn(sess,lsn,data) \n",
    "    "
   ]
  },
  {
   "cell_type": "code",
   "execution_count": 72,
   "metadata": {
    "scrolled": true
   },
   "outputs": [],
   "source": [
    "#sns.distplot(perf_df['label'].values)"
   ]
  },
  {
   "cell_type": "markdown",
   "metadata": {},
   "source": [
    "# Plots"
   ]
  },
  {
   "cell_type": "code",
   "execution_count": 156,
   "metadata": {
    "colab": {
     "autoexec": {
      "startup": false,
      "wait_interval": 0
     },
     "base_uri": "https://localhost:8080/",
     "height": 729
    },
    "colab_type": "code",
    "executionInfo": {
     "elapsed": 10585,
     "status": "ok",
     "timestamp": 1528990279108,
     "user": {
      "displayName": "Nikhil Bhagwat",
      "photoUrl": "//lh4.googleusercontent.com/-rmY3GxNQ0TY/AAAAAAAAAAI/AAAAAAAAEdE/SePqq1Clrc4/s50-c-k-no/photo.jpg",
      "userId": "104945077116245412065"
     },
     "user_tz": 240
    },
    "id": "uwCrzzgCQJJP",
    "outputId": "34495065-a74d-41cb-fdee-3f5f847e6956"
   },
   "outputs": [
    {
     "data": {
      "text/plain": [
       "<matplotlib.legend.Legend at 0x7f163adce278>"
      ]
     },
     "execution_count": 156,
     "metadata": {},
     "output_type": "execute_result"
    },
    {
     "data": {
      "image/png": "[encoded data removed]",
      "text/plain": [
       "<Figure size 1152x648 with 2 Axes>"
      ]
     },
     "metadata": {},
     "output_type": "display_data"
    }
   ],
   "source": [
    "import matplotlib.pyplot as plt\n",
    "import seaborn as sns\n",
    "from sklearn.manifold import TSNE\n",
    "\n",
    "plt.figure(figsize=(16,9))\n",
    "plt.style.use('seaborn-white')\n",
    "sns.set(font_scale=2)\n",
    "train_loss = train_metrics['train_loss']\n",
    "valid_loss = train_metrics['valid_loss']\n",
    "train_acc = train_metrics['train_acc']\n",
    "valid_acc = train_metrics['valid_acc']\n",
    "\n",
    "plt.subplot(2,2,1)\n",
    "plt.plot(train_loss,label='train');\n",
    "plt.plot(valid_loss,label='valid');\n",
    "plt.title('Loss (innerloop)')\n",
    "plt.xlabel('number of epoch x{}'.format(validate_after))\n",
    "plt.legend()\n",
    "\n",
    "plt.subplot(2,2,2)\n",
    "plt.plot(train_acc,label='train');\n",
    "plt.plot(valid_acc,label='valid');\n",
    "plt.plot(np.tile(test_metrics['test_acc'],len(train_acc)),'--',label='test')\n",
    "plt.title('Acc')\n",
    "plt.xlabel('number of epoch x{}'.format(validate_after))\n",
    "plt.legend()"
   ]
  },
  {
   "cell_type": "code",
   "execution_count": 157,
   "metadata": {},
   "outputs": [
    {
     "data": {
      "image/png": "[encoded data removed]",
      "text/plain": [
       "<Figure size 1235.12x576 with 2 Axes>"
      ]
     },
     "metadata": {},
     "output_type": "display_data"
    }
   ],
   "source": [
    "#Plot TSNE\n",
    "tsne_sampx = 1000 #Too slow for large number of samples\n",
    "train_embed = train_metrics['train_feature']\n",
    "test_embed = test_metrics['test_feature']\n",
    "\n",
    "\n",
    "train_tsne_embed = TSNE(n_components=2,init='pca').fit_transform(train_embed[:tsne_sampx])\n",
    "test_tsne_embed = TSNE(n_components=2,init='pca').fit_transform(test_embed[:tsne_sampx])\n",
    "\n",
    "train_df = pd.DataFrame(columns=['x','y','labels','subset'])\n",
    "test_df = pd.DataFrame(columns=['x','y','labels','subset'])\n",
    "\n",
    "train_df['x'] = train_tsne_embed[:,0] \n",
    "train_df['y'] = train_tsne_embed[:,1] \n",
    "train_df['labels'] = np.argmax(y_train[:tsne_sampx],1)\n",
    "train_df['subset'] = np.tile('train',len(y_train[:tsne_sampx]))\n",
    "\n",
    "test_df['x'] = test_tsne_embed[:,0] \n",
    "test_df['y'] = test_tsne_embed[:,1] \n",
    "test_df['labels'] = np.argmax(y_test[:tsne_sampx],1)\n",
    "test_df['subset'] = np.tile('test',len(y_test[:tsne_sampx]))\n",
    "\n",
    "plot_df = train_df.append(test_df)\n",
    "with sns.axes_style(\"whitegrid\"):\n",
    "    sns.lmplot(x='x',y='y',hue='labels',col='subset',col_wrap=2, \n",
    "               fit_reg=False, markers='.',data=plot_df,size=8);"
   ]
  },
  {
   "cell_type": "code",
   "execution_count": 100,
   "metadata": {
    "colab": {
     "autoexec": {
      "startup": false,
      "wait_interval": 0
     },
     "base_uri": "https://localhost:8080/",
     "height": 369
    },
    "colab_type": "code",
    "executionInfo": {
     "elapsed": 804,
     "status": "ok",
     "timestamp": 1528989626700,
     "user": {
      "displayName": "Nikhil Bhagwat",
      "photoUrl": "//lh4.googleusercontent.com/-rmY3GxNQ0TY/AAAAAAAAAAI/AAAAAAAAEdE/SePqq1Clrc4/s50-c-k-no/photo.jpg",
      "userId": "104945077116245412065"
     },
     "user_tz": 240
    },
    "id": "2IA_YZkNHaVy",
    "outputId": "871ac4c9-2385-4a70-fcab-c2aa52e13aae"
   },
   "outputs": [
    {
     "data": {
      "image/png": "[encoded data removed]",
      "text/plain": [
       "<Figure size 803.125x360 with 2 Axes>"
      ]
     },
     "metadata": {},
     "output_type": "display_data"
    }
   ],
   "source": [
    "# Plot preds\n",
    "train_features = train_metrics['train_preds']\n",
    "test_features = test_metrics['test_preds']\n",
    "\n",
    "train_df = pd.DataFrame(columns=['x','y','labels','subset'])\n",
    "test_df = pd.DataFrame(columns=['x','y','labels','subset'])\n",
    "train_df['x'] = train_features[:,0] \n",
    "train_df['y'] = train_features[:,1] \n",
    "train_df['labels'] = np.argmax(y_train,1)\n",
    "train_df['subset'] = np.tile('train',len(y_train))\n",
    "test_df['x'] = test_features[:,0] \n",
    "test_df['y'] = test_features[:,1] \n",
    "test_df['labels'] = np.argmax(y_test,1)\n",
    "test_df['subset'] = np.tile('test',len(y_test))\n",
    "plot_df = train_df.append(test_df)\n",
    "with sns.axes_style(\"whitegrid\"):\n",
    "    sns.lmplot(x='x',y='y',hue='labels',col='subset',fit_reg=False, markers='.',data=plot_df);\n"
   ]
  },
  {
   "cell_type": "code",
   "execution_count": 107,
   "metadata": {
    "colab": {
     "autoexec": {
      "startup": false,
      "wait_interval": 0
     }
    },
    "colab_type": "code",
    "id": "N6VZGx8n8Y1O"
   },
   "outputs": [
    {
     "name": "stdout",
     "output_type": "stream",
     "text": [
      "exp_name: Exp_502_ALL_ADNI_traj_MMSE_tp_var_tp, number of subjects:1116\n",
      "label counts: 0:674, 1:442\n"
     ]
    },
    {
     "data": {
      "text/plain": [
       "Index(['Unnamed: 0', 'PTID', 'AGE', 'APOE4', 'PTGENDER', 'DX_bl',\n",
       "       'PreCG.L_CT_bl', 'PreCG.R_CT_bl', 'SFGdor.L_CT_bl', 'SFGdor.R_CT_bl',\n",
       "       ...\n",
       "       'TPOsup.R_CT_rate', 'MTG.L_CT_rate', 'MTG.R_CT_rate',\n",
       "       'TPOmid.L_CT_rate', 'TPOmid.R_CT_rate', 'ITG.L_CT_rate',\n",
       "       'ITG.R_CT_rate', 'traj', 'ORIGPROT', 'strata'],\n",
       "      dtype='object', length=248)"
      ]
     },
     "execution_count": 107,
     "metadata": {},
     "output_type": "execute_result"
    }
   ],
   "source": [
    "# Tmp delete after reading csv\n",
    "baseline_dir = '/data/chamal/projects/nikhil/data/Traj_prediction/ADNI/exp_setup/'\n",
    "clinical_scale = 'MMSE'\n",
    "cohort = 'ALL_ADNI'\n",
    "exp_name = 'Exp_502_{}_traj_{}_tp_var_tp'.format(cohort,clinical_scale)\n",
    "exp_setup_path = baseline_dir + 'KFolds/' + exp_name + '_sKF.pkl'\n",
    "exp_setup = pd.read_pickle(exp_setup_path)\n",
    "df = exp_setup['df']\n",
    "print('exp_name: {}, number of subjects:{}'.format(exp_name,len(set(df['PTID'].values))))\n",
    "print('label counts: 0:{}, 1:{}'.format(len(df[df['traj']==0]),len(df[df['traj']==1])))\n",
    "df.columns\n"
   ]
  },
  {
   "cell_type": "code",
   "execution_count": 108,
   "metadata": {},
   "outputs": [],
   "source": [
    "# G_df = df[['PTID','traj','AGE','APOE4','PTGENDER','DX_bl','ORIGPROT']]\n",
    "# G_df.to_csv('/data/chamal/projects/nikhil/data/Traj_prediction/ADNI/adni_traj_demograph.csv')"
   ]
  },
  {
   "cell_type": "code",
   "execution_count": null,
   "metadata": {},
   "outputs": [],
   "source": []
  }
 ],
 "metadata": {
  "accelerator": "GPU",
  "colab": {
   "collapsed_sections": [],
   "default_view": {},
   "name": "LSN.ipynb",
   "provenance": [],
   "version": "0.3.2",
   "views": {}
  },
  "kernelspec": {
   "display_name": "Python 3",
   "language": "python",
   "name": "python3"
  },
  "language_info": {
   "codemirror_mode": {
    "name": "ipython",
    "version": 3
   },
   "file_extension": ".py",
   "mimetype": "text/x-python",
   "name": "python",
   "nbconvert_exporter": "python",
   "pygments_lexer": "ipython3",
   "version": "3.5.5"
  }
 },
 "nbformat": 4,
 "nbformat_minor": 1
}
