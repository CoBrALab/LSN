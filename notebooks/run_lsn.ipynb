{
 "cells": [
  {
   "cell_type": "markdown",
   "metadata": {
    "colab_type": "text",
    "id": "kLSLxAdBGHSd"
   },
   "source": [
    "# Notebook for building and evaluating LSN\n",
    "\n",
    "* **Data shapes**\n",
    "    - X_MR: samples x 2 x ROIs (baseline and follow-up) \n",
    "    - X_aux: samples x 4 (gentic, age, clinical_score_bl, clinical_score_followup) #Can be user defined\n",
    "    - y: samples x n_classes (needs to be one-hot i.e. [0,1] )\n",
    "    \n",
    "    \n",
    "* **network architecture names**\n",
    "    - MR_shape: number of MR ROIs\n",
    "    - n_layers: number of layers for MR Siamese net\n",
    "    - l1,l2, etc: number of nodes in each layer\n",
    "    - MR_output: number of output nodes (embedding dimension) for each MR branch (baseline, follow-up)\n",
    "    - use_aux: LSN can be built just with MR or MR + aux_features\n",
    "    - aux_shape: number of aux features excluding genetic (i.e. apoe4 status)  \n",
    "    - aux_output: number nodes for aux output (single layer ANN) \n",
    "    - output: final output of LSN == number of classes \n",
    "    - reg: weight regulalization for the network \n",
    "    - Example: net_arch = {'MR_shape':78,'n_layers':4,'l1':50,'l2':50,'l3':50,'l4':25,'MR_output':20,'use_aux':True,'aux_shape':3,'aux_output':2,'output':2,'reg':0.01}"
   ]
  },
  {
   "cell_type": "code",
   "execution_count": 1,
   "metadata": {
    "colab": {
     "autoexec": {
      "startup": false,
      "wait_interval": 0
     }
    },
    "colab_type": "code",
    "id": "WYpfpG7UGLnX"
   },
   "outputs": [],
   "source": [
    "# Basic imports\n",
    "%matplotlib inline\n",
    "import tensorflow as tf\n",
    "import numpy as np\n",
    "import random\n",
    "import time\n",
    "import math\n",
    "import pandas as pd\n",
    "from datetime import datetime\n",
    "import sys \n",
    "import os\n",
    "import pickle\n",
    "sys.path.append(os.path.relpath(\"../lib/\"))\n",
    "from lsn import *"
   ]
  },
  {
   "cell_type": "markdown",
   "metadata": {},
   "source": [
    "# Real CT + aux data example"
   ]
  },
  {
   "cell_type": "code",
   "execution_count": 2,
   "metadata": {
    "colab": {
     "autoexec": {
      "startup": false,
      "wait_interval": 0
     },
     "base_uri": "https://localhost:8080/",
     "height": 51
    },
    "colab_type": "code",
    "executionInfo": {
     "elapsed": 376,
     "status": "ok",
     "timestamp": 1528988676971,
     "user": {
      "displayName": "Nikhil Bhagwat",
      "photoUrl": "//lh4.googleusercontent.com/-rmY3GxNQ0TY/AAAAAAAAAAI/AAAAAAAAEdE/SePqq1Clrc4/s50-c-k-no/photo.jpg",
      "userId": "104945077116245412065"
     },
     "user_tz": 240
    },
    "id": "CoG7X_s41pch",
    "outputId": "4cc20727-22d6-437f-d5f9-bbb89efc12a2"
   },
   "outputs": [
    {
     "name": "stdout",
     "output_type": "stream",
     "text": [
      "exp_name: Exp_502_ALL_ADNI_traj_MMSE_tp_var_tp_sKF.pkl\n",
      "shapes of X_MR_train:(1116, 2, 78), X_aux_train:(1116, 4), y_train:(1116, 2), \n",
      "\t X_MR_test:(1116, 2, 78), X_aux_test:(1116, 4), y_test:(1116, 2)\n"
     ]
    },
    {
     "name": "stderr",
     "output_type": "stream",
     "text": [
      "/data/chamal/projects/nikhil/code/python/conda/anaconda2/envs/tensorflow_v14/lib/python3.5/site-packages/sklearn/cross_validation.py:41: DeprecationWarning: This module was deprecated in version 0.18 in favor of the model_selection module into which all the refactored classes and functions are moved. Also note that the interface of the new CV iterators are different from that of this module. This module will be removed in 0.20.\n",
      "  \"This module will be removed in 0.20.\", DeprecationWarning)\n"
     ]
    }
   ],
   "source": [
    "kfold_dir = '/data/chamal/projects/nikhil/data/Traj_prediction/ADNI/exp_setup/KFolds/'\n",
    "exp_name = 'Exp_502_ALL_ADNI_traj_MMSE_tp_var_tp_sKF.pkl'\n",
    "exp_setup = pd.read_pickle(kfold_dir+exp_name) \n",
    "print('exp_name: {}'.format(exp_name))\n",
    "    \n",
    "df = exp_setup['df']\n",
    "ct_cols_bl = list(df.columns[pd.Series(df.columns).str.contains('CT_bl')]) \n",
    "ct_cols_followup =list(df.columns[pd.Series(df.columns).str.contains('CT_var_tp')])\n",
    "\n",
    "subject_idx_test = df['PTID']\n",
    "\n",
    "# Train-test splits\n",
    "X_MR_train = np.stack((df[ct_cols_bl].values,df[ct_cols_followup].values),axis=1)\n",
    "X_aux_train = df[['APOE4','AGE','MMSE_bl','MMSE_var_tp']].values\n",
    "y_train = df['traj'].values\n",
    "y_train = np.squeeze(np.vstack((1-y_train,y_train)).T)\n",
    "\n",
    "X_MR_test = np.stack((df[ct_cols_bl].values,df[ct_cols_followup].values),axis=1)\n",
    "X_aux_test = df[['APOE4','AGE','MMSE_bl','MMSE_var_tp']].values\n",
    "y_test = df['traj'].values\n",
    "y_test = np.squeeze(np.vstack((1-y_test,y_test)).T)\n",
    "\n",
    "print('shapes of X_MR_train:{}, X_aux_train:{}, y_train:{}, \\n\\t X_MR_test:{}, X_aux_test:{}, y_test:{}'.format(X_MR_train.shape,X_aux_train.shape,y_train.shape,X_MR_test.shape,X_aux_train.shape,y_test.shape)) "
   ]
  },
  {
   "cell_type": "code",
   "execution_count": 3,
   "metadata": {
    "colab": {
     "autoexec": {
      "startup": false,
      "wait_interval": 0
     },
     "base_uri": "https://localhost:8080/",
     "height": 85
    },
    "colab_type": "code",
    "executionInfo": {
     "elapsed": 243,
     "status": "ok",
     "timestamp": 1528988735549,
     "user": {
      "displayName": "Nikhil Bhagwat",
      "photoUrl": "//lh4.googleusercontent.com/-rmY3GxNQ0TY/AAAAAAAAAAI/AAAAAAAAEdE/SePqq1Clrc4/s50-c-k-no/photo.jpg",
      "userId": "104945077116245412065"
     },
     "user_tz": 240
    },
    "id": "BoTQj0-C5oD2",
    "outputId": "8bb452a7-b82d-45fb-f0c5-2438bcfa5783"
   },
   "outputs": [
    {
     "name": "stdout",
     "output_type": "stream",
     "text": [
      "train aux distributions\n",
      "[ 0.81447964 74.83846154 25.22850679 23.39366516] [ 0.39614243 72.84807122 28.78189911 28.81008902]\n",
      "test aux distributions\n",
      "[ 0.81447964 74.83846154 25.22850679 23.39366516] [ 0.39614243 72.84807122 28.78189911 28.81008902]\n"
     ]
    }
   ],
   "source": [
    "# Check differences in aux_feature distributions\n",
    "print('train aux distributions')\n",
    "class_0 = np.mean(X_aux_train[y_train[:,0]==0],axis=0)\n",
    "class_1 = np.mean(X_aux_train[y_train[:,0]==1],axis=0)\n",
    "print(class_0,class_1)\n",
    "print('test aux distributions')\n",
    "class_0 = np.mean(X_aux_test[y_test[:,0]==0],axis=0)\n",
    "class_1 = np.mean(X_aux_test[y_test[:,0]==1],axis=0)\n",
    "print(class_0,class_1)"
   ]
  },
  {
   "cell_type": "markdown",
   "metadata": {},
   "source": [
    "# Train and test a sample LSN\n",
    "\n",
    "**Note there is no hyper param tuning in this example **"
   ]
  },
  {
   "cell_type": "code",
   "execution_count": 4,
   "metadata": {
    "colab": {
     "autoexec": {
      "startup": false,
      "wait_interval": 0
     },
     "base_uri": "https://localhost:8080/",
     "height": 510
    },
    "colab_type": "code",
    "executionInfo": {
     "elapsed": 2258,
     "status": "ok",
     "timestamp": 1528990262472,
     "user": {
      "displayName": "Nikhil Bhagwat",
      "photoUrl": "//lh4.googleusercontent.com/-rmY3GxNQ0TY/AAAAAAAAAAI/AAAAAAAAEdE/SePqq1Clrc4/s50-c-k-no/photo.jpg",
      "userId": "104945077116245412065"
     },
     "user_tz": 240
    },
    "id": "tvUx-7fivyzv",
    "outputId": "17b66e25-2448-47a4-9224-022ba21e34e5",
    "scrolled": true
   },
   "outputs": [
    {
     "name": "stdout",
     "output_type": "stream",
     "text": [
      "train data <-> net_arch check passed\n",
      "Using MR and aux features\n",
      "Start training time: 17:07:47.388099\n",
      "total_batch 1\n",
      "epoch 0  time: 0.48 loss 0.7739 acc 52.00\n",
      "performance on entire train and valid subsets\n",
      "epoch 0\t train_acc:0.5\t valid_acc:0.4636363685131073\n",
      "\n",
      "epoch 1  time: 0.00 loss 0.7283 acc 57.00\n",
      "epoch 2  time: 0.00 loss 0.6980 acc 58.00\n",
      "epoch 3  time: 0.00 loss 0.6641 acc 60.00\n",
      "epoch 4  time: 0.00 loss 0.6405 acc 61.00\n",
      "epoch 5  time: 0.00 loss 0.6233 acc 63.00\n",
      "epoch 6  time: 0.00 loss 0.6078 acc 66.00\n",
      "epoch 7  time: 0.00 loss 0.5933 acc 67.00\n",
      "epoch 8  time: 0.00 loss 0.5800 acc 70.00\n",
      "epoch 9  time: 0.00 loss 0.5677 acc 73.00\n",
      "epoch 10  time: 0.00 loss 0.5565 acc 75.00\n",
      "performance on entire train and valid subsets\n",
      "epoch 10\t train_acc:0.6898608207702637\t valid_acc:0.6363636255264282\n",
      "\n",
      "epoch 11  time: 0.00 loss 0.5470 acc 77.00\n",
      "epoch 12  time: 0.00 loss 0.5378 acc 79.00\n",
      "epoch 13  time: 0.00 loss 0.5298 acc 82.00\n",
      "epoch 14  time: 0.00 loss 0.5223 acc 84.00\n",
      "epoch 15  time: 0.00 loss 0.5159 acc 83.00\n",
      "epoch 16  time: 0.00 loss 0.5098 acc 84.00\n",
      "epoch 17  time: 0.00 loss 0.5043 acc 86.00\n",
      "epoch 18  time: 0.00 loss 0.4989 acc 85.00\n",
      "epoch 19  time: 0.00 loss 0.4932 acc 87.00\n",
      "epoch 20  time: 0.00 loss 0.4855 acc 88.00\n",
      "performance on entire train and valid subsets\n",
      "epoch 20\t train_acc:0.8230616450309753\t valid_acc:0.7545454502105713\n",
      "\n",
      "epoch 21  time: 0.00 loss 0.4774 acc 89.00\n",
      "epoch 22  time: 0.00 loss 0.4709 acc 88.00\n",
      "epoch 23  time: 0.00 loss 0.4665 acc 89.00\n",
      "epoch 24  time: 0.00 loss 0.4626 acc 89.00\n",
      "epoch 25  time: 0.00 loss 0.4590 acc 88.00\n",
      "epoch 26  time: 0.00 loss 0.4556 acc 89.00\n",
      "epoch 27  time: 0.00 loss 0.4525 acc 89.00\n",
      "epoch 28  time: 0.00 loss 0.4497 acc 93.00\n",
      "epoch 29  time: 0.00 loss 0.4476 acc 93.00\n",
      "epoch 30  time: 0.00 loss 0.4456 acc 93.00\n",
      "performance on entire train and valid subsets\n",
      "epoch 30\t train_acc:0.8638170957565308\t valid_acc:0.8363636136054993\n",
      "\n",
      "epoch 31  time: 0.00 loss 0.4438 acc 94.00\n",
      "epoch 32  time: 0.00 loss 0.4422 acc 94.00\n",
      "epoch 33  time: 0.00 loss 0.4406 acc 94.00\n",
      "epoch 34  time: 0.00 loss 0.4393 acc 94.00\n",
      "epoch 35  time: 0.00 loss 0.4381 acc 94.00\n",
      "epoch 36  time: 0.00 loss 0.4371 acc 94.00\n",
      "epoch 37  time: 0.00 loss 0.4364 acc 95.00\n",
      "epoch 38  time: 0.00 loss 0.4357 acc 95.00\n",
      "epoch 39  time: 0.00 loss 0.4351 acc 95.00\n",
      "epoch 40  time: 0.00 loss 0.4345 acc 95.00\n",
      "performance on entire train and valid subsets\n",
      "epoch 40\t train_acc:0.8817097544670105\t valid_acc:0.8545454740524292\n",
      "\n",
      "epoch 41  time: 0.00 loss 0.4339 acc 95.00\n",
      "epoch 42  time: 0.00 loss 0.4334 acc 95.00\n",
      "epoch 43  time: 0.00 loss 0.4330 acc 95.00\n",
      "epoch 44  time: 0.00 loss 0.4326 acc 95.00\n",
      "epoch 45  time: 0.00 loss 0.4322 acc 95.00\n",
      "epoch 46  time: 0.00 loss 0.4319 acc 95.00\n",
      "epoch 47  time: 0.00 loss 0.4316 acc 95.00\n",
      "epoch 48  time: 0.00 loss 0.4312 acc 95.00\n",
      "epoch 49  time: 0.00 loss 0.4310 acc 95.00\n",
      "End training time: 17:07:48.000068\n",
      "\n",
      "test data <-> net_arch check passed\n",
      "Testing model\n",
      "Accuracy test set 88.17\n"
     ]
    }
   ],
   "source": [
    "# training params\n",
    "lr = 0.01\n",
    "n_epochs = 50\n",
    "validate_after = 10\n",
    "batch_size = 100\n",
    "dropout = 0.5\n",
    "net_arch = {'input_shape':78,'n_layers':4,'l1':50,'l2':50,'l3':50,'l4':25,'mr_output':20,\n",
    "            'use_aux':True,'aux_clinical_shape':3,'aux_output':2,'output':2,'reg':0.01}\n",
    "\n",
    "\n",
    "# minimal perf df --> append CV related attributes downstream. \n",
    "perf_df = pd.DataFrame(columns=['subject_id','label','pred_prob','pred_label'])\n",
    "\n",
    "tf.reset_default_graph()\n",
    "with tf.Session(config=tf.ConfigProto(log_device_placement=True)) as sess:        \n",
    "    # Train model    \n",
    "    data = {'X_MR':X_MR_train,'X_aux':X_aux_train,'y':y_train}    \n",
    "    if check_data_shapes(data,net_arch):      \n",
    "        print('train data <-> net_arch check passed')   \n",
    "        lsn = siamese_net(net_arch)        \n",
    "        optimizer = tf.train.AdamOptimizer(learning_rate = lr).minimize(lsn.loss)\n",
    "        tf.global_variables_initializer().run()\n",
    "\n",
    "        cur_time = datetime.time(datetime.now())\n",
    "        print('Start training time: {}'.format(cur_time))                \n",
    "        lsn, train_metrics = train_lsn(sess, lsn, data, optimizer, n_epochs, batch_size, dropout,validate_after)\n",
    "        cur_time = datetime.time(datetime.now())\n",
    "        print('End training time: {}\\n'.format(cur_time))  \n",
    "      \n",
    "    else:\n",
    "        print('train data <-> net_arch check failed')\n",
    "\n",
    "    # Test model      \n",
    "    data = {'X_MR':X_MR_test,'X_aux':X_aux_test,'y':y_test}\n",
    "    if check_data_shapes(data,net_arch):\n",
    "        print('test data <-> net_arch check passed')   \n",
    "        _,test_metrics = test_lsn(sess,lsn,data)\n",
    "\n",
    "        # populate perf dataframe\n",
    "        perf_df['subject_id']  = subject_idx_test\n",
    "        perf_df['label'] = np.argmax(y_test,1)\n",
    "        perf_df['pred_prob'] = list(test_metrics['test_preds'])\n",
    "        perf_df['pred_label'] = np.argmax(test_metrics['test_preds'],1)\n",
    "    else:\n",
    "        print('test data <-> net_arch check failed')   \n"
   ]
  },
  {
   "cell_type": "code",
   "execution_count": 5,
   "metadata": {
    "colab": {
     "autoexec": {
      "startup": false,
      "wait_interval": 0
     },
     "base_uri": "https://localhost:8080/",
     "height": 729
    },
    "colab_type": "code",
    "executionInfo": {
     "elapsed": 10585,
     "status": "ok",
     "timestamp": 1528990279108,
     "user": {
      "displayName": "Nikhil Bhagwat",
      "photoUrl": "//lh4.googleusercontent.com/-rmY3GxNQ0TY/AAAAAAAAAAI/AAAAAAAAEdE/SePqq1Clrc4/s50-c-k-no/photo.jpg",
      "userId": "104945077116245412065"
     },
     "user_tz": 240
    },
    "id": "uwCrzzgCQJJP",
    "outputId": "34495065-a74d-41cb-fdee-3f5f847e6956"
   },
   "outputs": [
    {
     "name": "stderr",
     "output_type": "stream",
     "text": [
      "/data/chamal/projects/nikhil/code/python/conda/anaconda2/envs/tensorflow_v14/lib/python3.5/site-packages/sklearn/neighbors/base.py:371: RuntimeWarning: invalid value encountered in sqrt\n",
      "  result = np.sqrt(dist[sample_range, neigh_ind]), neigh_ind\n"
     ]
    },
    {
     "data": {
      "image/png": "[encoded data removed]",
      "text/plain": [
       "<Figure size 659.125x576 with 4 Axes>"
      ]
     },
     "metadata": {},
     "output_type": "display_data"
    }
   ],
   "source": [
    "#Plots \n",
    "import matplotlib.pyplot as plt\n",
    "import seaborn as sns\n",
    "from sklearn.manifold import TSNE\n",
    "plt.style.use('seaborn-white')\n",
    "sns.set(font_scale=2)\n",
    "\n",
    "#Plot TSNE\n",
    "tsne_sampx = 100 #Too slow for large number of samples\n",
    "train_embed_L = train_metrics['train_feature_L']\n",
    "train_embed_R = train_metrics['train_feature_R']\n",
    "\n",
    "test_embed_L = test_metrics['test_feature_L']\n",
    "test_embed_R = test_metrics['test_feature_R']\n",
    "\n",
    "train_tsne_embed_L = TSNE(n_components=2,init='pca').fit_transform(train_embed_L[:tsne_sampx])\n",
    "test_tsne_embed_L = TSNE(n_components=2,init='pca').fit_transform(test_embed_L[:tsne_sampx])\n",
    "train_tsne_embed_R = TSNE(n_components=2,init='pca').fit_transform(train_embed_R[:tsne_sampx])\n",
    "test_tsne_embed_R = TSNE(n_components=2,init='pca').fit_transform(test_embed_R[:tsne_sampx])\n",
    "\n",
    "\n",
    "train_df_L = pd.DataFrame(columns=['x','y','labels','subset'])\n",
    "test_df_L = pd.DataFrame(columns=['x','y','labels','subset'])\n",
    "train_df_R = pd.DataFrame(columns=['x','y','labels','subset'])\n",
    "test_df_R = pd.DataFrame(columns=['x','y','labels','subset'])\n",
    "\n",
    "train_df_L['x'] = train_tsne_embed_L[:,0] \n",
    "train_df_L['y'] = train_tsne_embed_L[:,1] \n",
    "train_df_L['labels'] = y_train[:tsne_sampx]\n",
    "train_df_L['subset'] = np.tile('train_L',len(y_train[:tsne_sampx]))\n",
    "\n",
    "train_df_R['x'] = train_tsne_embed_R[:,0] \n",
    "train_df_R['y'] = train_tsne_embed_R[:,1] \n",
    "train_df_R['labels'] = y_train[:tsne_sampx]\n",
    "train_df_R['subset'] = np.tile('train_R',len(y_train[:tsne_sampx]))\n",
    "\n",
    "test_df_L['x'] = test_tsne_embed_L[:,0] \n",
    "test_df_L['y'] = test_tsne_embed_L[:,1] \n",
    "test_df_L['labels'] = y_test[:tsne_sampx]\n",
    "test_df_L['subset'] = np.tile('test_L',len(y_test[:tsne_sampx]))\n",
    "\n",
    "test_df_R['x'] = test_tsne_embed_R[:,0] \n",
    "test_df_R['y'] = test_tsne_embed_R[:,1] \n",
    "test_df_R['labels'] = y_test[:tsne_sampx]\n",
    "test_df_R['subset'] = np.tile('test_R',len(y_test[:tsne_sampx]))\n",
    "\n",
    "\n",
    "plot_df = train_df_L.append(train_df_R).append(test_df_L).append(test_df_R)\n",
    "sns.lmplot(x='x',y='y',hue='labels',col='subset',col_wrap=2, fit_reg=False, markers='.',data=plot_df,size=4);"
   ]
  },
  {
   "cell_type": "code",
   "execution_count": 6,
   "metadata": {
    "colab": {
     "autoexec": {
      "startup": false,
      "wait_interval": 0
     },
     "base_uri": "https://localhost:8080/",
     "height": 369
    },
    "colab_type": "code",
    "executionInfo": {
     "elapsed": 804,
     "status": "ok",
     "timestamp": 1528989626700,
     "user": {
      "displayName": "Nikhil Bhagwat",
      "photoUrl": "//lh4.googleusercontent.com/-rmY3GxNQ0TY/AAAAAAAAAAI/AAAAAAAAEdE/SePqq1Clrc4/s50-c-k-no/photo.jpg",
      "userId": "104945077116245412065"
     },
     "user_tz": 240
    },
    "id": "2IA_YZkNHaVy",
    "outputId": "871ac4c9-2385-4a70-fcab-c2aa52e13aae"
   },
   "outputs": [
    {
     "data": {
      "image/png": "[encoded data removed]",
      "text/plain": [
       "<Figure size 803.125x360 with 2 Axes>"
      ]
     },
     "metadata": {},
     "output_type": "display_data"
    }
   ],
   "source": [
    "# Plot preds\n",
    "train_features = train_metrics['train_preds']\n",
    "test_features = test_metrics['test_preds']\n",
    "\n",
    "train_df = pd.DataFrame(columns=['x','y','labels','subset'])\n",
    "test_df = pd.DataFrame(columns=['x','y','labels','subset'])\n",
    "train_df['x'] = train_features[:,0] \n",
    "train_df['y'] = train_features[:,1] \n",
    "train_df['labels'] = y_train\n",
    "train_df['subset'] = np.tile('train',len(y_train))\n",
    "test_df['x'] = test_features[:,0] \n",
    "test_df['y'] = test_features[:,1] \n",
    "test_df['labels'] = y_test\n",
    "test_df['subset'] = np.tile('test',len(y_test))\n",
    "plot_df = train_df.append(test_df)\n",
    "sns.lmplot(x='x',y='y',hue='labels',col='subset',fit_reg=False, markers='.',data=plot_df);\n"
   ]
  },
  {
   "cell_type": "code",
   "execution_count": 0,
   "metadata": {
    "colab": {
     "autoexec": {
      "startup": false,
      "wait_interval": 0
     }
    },
    "colab_type": "code",
    "collapsed": true,
    "id": "N6VZGx8n8Y1O"
   },
   "outputs": [],
   "source": []
  }
 ],
 "metadata": {
  "accelerator": "GPU",
  "colab": {
   "collapsed_sections": [],
   "default_view": {},
   "name": "LSN.ipynb",
   "provenance": [],
   "version": "0.3.2",
   "views": {}
  },
  "kernelspec": {
   "display_name": "Python 3",
   "language": "python",
   "name": "python3"
  },
  "language_info": {
   "codemirror_mode": {
    "name": "ipython",
    "version": 3
   },
   "file_extension": ".py",
   "mimetype": "text/x-python",
   "name": "python",
   "nbconvert_exporter": "python",
   "pygments_lexer": "ipython3",
   "version": "3.5.5"
  }
 },
 "nbformat": 4,
 "nbformat_minor": 1
}
