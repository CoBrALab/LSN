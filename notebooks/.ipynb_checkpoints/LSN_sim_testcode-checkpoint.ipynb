{
 "cells": [
  {
   "cell_type": "markdown",
   "metadata": {
    "colab_type": "text",
    "id": "kLSLxAdBGHSd"
   },
   "source": [
    "# LSN - simulation test code"
   ]
  },
  {
   "cell_type": "code",
   "execution_count": 11,
   "metadata": {
    "colab": {
     "autoexec": {
      "startup": false,
      "wait_interval": 0
     }
    },
    "colab_type": "code",
    "id": "WYpfpG7UGLnX"
   },
   "outputs": [],
   "source": [
    "# Package imports\n",
    "%matplotlib inline\n",
    "import tensorflow as tf\n",
    "import numpy as np\n",
    "import random\n",
    "import time\n",
    "import math\n",
    "import pandas as pd\n",
    "from datetime import datetime"
   ]
  },
  {
   "cell_type": "code",
   "execution_count": 15,
   "metadata": {
    "colab": {
     "autoexec": {
      "startup": false,
      "wait_interval": 0
     }
    },
    "colab_type": "code",
    "id": "4nyoHfbQY-YJ"
   },
   "outputs": [],
   "source": [
    "# Main slim library\n",
    "slim = tf.contrib.slim\n",
    "\n",
    "class siamese_net(object):\n",
    "  \n",
    "    def __init__(self, net_arch):    \n",
    "        self.input_L = tf.placeholder(tf.float32, [None, net_arch['input_shape']],name='baseline')\n",
    "        self.input_R = tf.placeholder(tf.float32, [None, net_arch['input_shape']],name='follow_up')\n",
    "        self.aux_gen = tf.placeholder(tf.float32, [None,1],name='apoe')  #apoe4 status\n",
    "        self.aux_clinical = tf.placeholder(tf.float32, [None,net_arch['aux_clinical_shape']],name='clinical_attr') #demo+clinical scores\n",
    "        self.labels = tf.placeholder(tf.float32, [None,net_arch['output']],name='trajectory')         \n",
    "        self.use_aux = True #use aux branch for non-imaging variables\n",
    "        self.is_training = True  #toggles dropout in slim\n",
    "        self.dropout = 1\n",
    "        self.n_layers = net_arch['n_layers']\n",
    "\n",
    "        with tf.variable_scope(\"siamese\") as scope:\n",
    "            self.branch_L = self.mlpnet_slim(self.input_L)\n",
    "            scope.reuse_variables()\n",
    "            self.branch_R = self.mlpnet_slim(self.input_R)\n",
    "\n",
    "        # Create metrics      \n",
    "        self.distance = tf.sqrt(tf.reduce_sum(tf.pow(tf.subtract(self.branch_L,self.branch_R),2),1))\n",
    "        self.preds = self.get_predictions()\n",
    "        self.loss = self.get_loss()\n",
    "        self.accuracy = self.get_accuracy()\n",
    "\n",
    "    # Individual branch    \n",
    "    def mlpnet_slim(self, X):\n",
    "        with slim.arg_scope([slim.fully_connected], activation_fn=tf.nn.relu,\n",
    "                          weights_regularizer=slim.l2_regularizer(net_arch['reg'])):\n",
    "        \n",
    "            # If needed, within the scope layer is made linear by setting activation_fn=None.\n",
    "            # Creates a fully connected layers \n",
    "            for l in range(self.n_layers):\n",
    "                net = slim.fully_connected(X, net_arch['l{}'.format(l+1)], normalizer_fn=slim.batch_norm, scope='fc{}'.format(l))\n",
    "                net = slim.dropout(net, self.dropout, is_training=self.is_training)\n",
    "\n",
    "            # MR output\n",
    "            MR_predictions = slim.fully_connected(net, net_arch['mr_output'], \n",
    "                                                  normalizer_fn=slim.batch_norm, scope='MR_prediction')               \n",
    "\n",
    "            return MR_predictions #Later also return end_points \n",
    "    \n",
    "    # Auxilary branch for demographics, genetics, and clinical attributes\n",
    "    def auxnet(self):\n",
    "        distance_vec  = tf.concat([self.branch_L,self.branch_R],1,name='MR_embed_concat')\n",
    "        distance_vec_mod = tf.multiply(distance_vec,self.aux_gen)\n",
    "        distance_vec_mod_aux = tf.concat([distance_vec_mod,self.aux_clinical],1)\n",
    "\n",
    "        with tf.name_scope('aux_layers'):\n",
    "            aux_predictions = slim.fully_connected(distance_vec_mod_aux, net_arch['aux_output'],\n",
    "                                                   activation_fn=tf.nn.relu, \n",
    "                                                   weights_regularizer=slim.l2_regularizer(net_arch['reg']),\n",
    "                                                   normalizer_fn=slim.batch_norm) \n",
    "            #aux_predictions = slim.dropout(net, self.dropout, is_training=is_training)\n",
    "        return aux_predictions\n",
    "        \n",
    "    def get_predictions(self):\n",
    "        if self.use_aux:\n",
    "            embed_vec = self.auxnet()\n",
    "        else:\n",
    "            embed_vec = tf.concat([self.branch_L,self.branch_R],1,name='MR_embed_concat')\n",
    "\n",
    "        penult_predict = slim.fully_connected(embed_vec, net_arch['output'], activation_fn=tf.nn.softmax, \n",
    "                                               normalizer_fn=slim.batch_norm, scope='aux_prediction')\n",
    "        return penult_predict\n",
    "    \n",
    "    #-------------- net with basic/raw TF code (without slim) --------------#\n",
    "    #-------------- not used when slim is used (preferred)------------------#\n",
    "    def mlpnet(self, X):\n",
    "        l1 = self.mlp(X,layer_config['input_shape'],layer_config['l1'],name='l1')\n",
    "        l1 = tf.nn.dropout(l1,self.dropout)\n",
    "        l2 = self.mlp(l1,layer_config['l1'],layer_config['l2'],name='l2')\n",
    "        l2 = tf.nn.dropout(l2,self.dropout_f)\n",
    "        l3 = self.mlp(l2,layer_config['l2'],layer_config['l3'],name='l3')\n",
    "        l3 = tf.nn.dropout(l3,self.dropout)\n",
    "        l4 = self.mlp(l3,layer_config['l3'],layer_config['l4'],name='l4')\n",
    "        l4 = tf.nn.dropout(l4,self.dropout)\n",
    "        output = self.mlp(l4,layer_config['l4'],layer_config['output'],name='output')\n",
    "        return output\n",
    "      \n",
    "    def mlp(self, input_,input_dim,output_dim,name=\"mlp\"):\n",
    "        with tf.variable_scope(name):\n",
    "            w = tf.get_variable('w',[input_dim,output_dim],tf.float32,tf.random_normal_initializer(mean = 0.001,stddev=0.02))            \n",
    "            b = tf.get_variable('b',[output_dim],tf.float32,tf.constant_initializer(0.1))\n",
    "            return tf.nn.relu(tf.matmul(input_,w)+b)   \n",
    "    #-----------------------------------------------------------------------#\n",
    "   \n",
    "    # Set methods for class variables\n",
    "    def set_dropout(self, dropout):\n",
    "        self.dropout = dropout\n",
    "      \n",
    "    def set_aux(self, use_aux):\n",
    "        self.use_aux = use_aux\n",
    "      \n",
    "    def set_train_mode(self,is_training):  \n",
    "        self.is_training = is_training\n",
    "      \n",
    "    # Get methods for loss and acc metrics\n",
    "    def get_loss(self):            \n",
    "        return tf.reduce_mean(tf.nn.softmax_cross_entropy_with_logits(labels=self.labels,logits=self.preds)) \n",
    "\n",
    "    def get_accuracy(self):\n",
    "        correct_preds = tf.equal(tf.argmax(self.labels,1), tf.argmax(self.preds,1))\n",
    "        return tf.reduce_mean(tf.cast(correct_preds, tf.float32)) \n",
    "\n",
    "    \n",
    "# Other helper functions\n",
    "def next_batch(s,e,mr_inputs,aux_inputs,labels):\n",
    "    input1 = mr_inputs[s:e,0]\n",
    "    input2 = mr_inputs[s:e,1]        \n",
    "    input3 = aux_inputs[s:e,:]\n",
    "    y = labels[s:e,:]    \n",
    "    return input1,input2,input3,y\n",
    "  \n",
    "def check_data_shapes(data,net_arch):\n",
    "    check = True  \n",
    "    n_layers = net_arch['n_layers']\n",
    "    if data['X_MR'].shape[1] != 2:\n",
    "        print('wrong input data dimensions - need MR data for two branches')\n",
    "        check = False\n",
    "    elif data['X_MR'].shape[2] != net_arch['input_shape']:\n",
    "        print('input MR data <-> LSN arch mismatch')\n",
    "        check = False\n",
    "    elif data['X_aux'].shape[1] != net_arch['aux_clinical_shape']+1:\n",
    "        print('input aux data <-> LSN arch mismatch')\n",
    "        check = False\n",
    "    elif data['y'].shape[1] != net_arch['output']:\n",
    "        print('number of classes (2,3) <-> LSN arch mismatch')\n",
    "        check = False\n",
    "    else:\n",
    "        for l in range(n_layers):\n",
    "            try:\n",
    "                _ = net_arch['l{}'.format(l+1)]\n",
    "            except:\n",
    "                print('Specify number of nodes for layer {}'.format(l))\n",
    "                check = False        \n",
    "\n",
    "    return check\n",
    "  "
   ]
  },
  {
   "cell_type": "code",
   "execution_count": 7,
   "metadata": {
    "colab": {
     "autoexec": {
      "startup": false,
      "wait_interval": 0
     }
    },
    "colab_type": "code",
    "id": "ykpbbpRMha_r"
   },
   "outputs": [],
   "source": [
    "# Train and test defs\n",
    "def train_lsn(sess, lsn, data, optimizer, n_epochs, batch_size, dropout, validate_after):\n",
    "    valid_frac = int(0.1*len(data['y']))\n",
    "    \n",
    "    # Split into train and valid data for hyperparam tuning\n",
    "    X_MR_train = data['X_MR'][:1-valid_frac]\n",
    "    X_aux_train = data['X_aux'][:1-valid_frac]\n",
    "    y_train = data['y'][:1-valid_frac]\n",
    "\n",
    "    X_MR_valid = data['X_MR'][1-valid_frac:]\n",
    "    X_aux_valid = data['X_aux'][1-valid_frac:]\n",
    "    y_valid = data['y'][1-valid_frac:]\n",
    "\n",
    "    total_batch = int(len(y_valid)/batch_size)\n",
    "    \n",
    "    # Training cycle\n",
    "    for epoch in range(n_epochs):\n",
    "        avg_loss = 0.\n",
    "        avg_acc = 0.\n",
    "        \n",
    "        start_time = time.time()\n",
    "        # Loop over all batches\n",
    "        for i in range(total_batch):\n",
    "            s  = i * batch_size\n",
    "            e = (i+1) *batch_size\n",
    "\n",
    "            # Fit training using batch data\n",
    "            MR_L_batch,MR_R_batch,aux_batch,y_batch = next_batch(s,e,X_MR_train,X_aux_train,y_train)\n",
    "\n",
    "            # Train pass\n",
    "            lsn.set_dropout(dropout)\n",
    "            _,distance,preds,loss_value,acc_value=sess.run([optimizer,lsn.distance,lsn.preds,lsn.loss,lsn.accuracy], \n",
    "                                        feed_dict={lsn.input_L:MR_L_batch,\n",
    "                                                   lsn.input_R:MR_R_batch,\n",
    "                                                   lsn.aux_gen:aux_batch[:,0:1],\n",
    "                                                   lsn.aux_clinical:aux_batch[:,1:],\n",
    "                                                   lsn.labels:y_batch})                \n",
    "\n",
    "            avg_loss += loss_value\n",
    "            avg_acc +=acc_value*100\n",
    "\n",
    "        duration = time.time() - start_time\n",
    "        print('epoch %d  time: %.2f loss %0.4f acc %0.2f' %(epoch,duration,avg_loss/total_batch,avg_acc/total_batch))      \n",
    "\n",
    "        #Compute perf on entire training and validation sets (no need after every epoch)\n",
    "        if epoch%validate_after == 0:\n",
    "            train_acc = lsn.accuracy.eval(feed_dict={lsn.input_L:X_MR_train[:,0,:],lsn.input_R:X_MR_train[:,1,:],\n",
    "                                         lsn.aux_gen:X_aux_train[:,0:1],lsn.aux_clinical:X_aux_train[:,1:],\n",
    "                                         lsn.labels:y_train})\n",
    "            valid_acc = lsn.accuracy.eval(feed_dict={lsn.input_L:X_MR_valid[:,0,:],lsn.input_R:X_MR_valid[:,1,:],\n",
    "                                         lsn.aux_gen:X_aux_valid[:,0:1],lsn.aux_clinical:X_aux_valid[:,1:],\n",
    "                                         lsn.labels:y_valid})\n",
    "            print('performance on entire train and valid subsets')\n",
    "            print('epoch {}\\t train_acc:{}\\t valid_acc:{}\\n'.format(epoch,train_acc,valid_acc))\n",
    "  \n",
    "    # -----------TODO--------------\n",
    "    # Save trained model\n",
    "    # -----------TODO--------------\n",
    "\n",
    "    # Post training: Compute preds and metrics for entire train data\n",
    "    X_MR_train = data['X_MR']\n",
    "    X_aux_train = data['X_aux']\n",
    "    y_train = data['y']\n",
    "    train_feature_L = lsn.branch_L.eval(feed_dict={lsn.input_L:X_MR_train[:,0,:]})\n",
    "    train_feature_R = lsn.branch_R.eval(feed_dict={lsn.input_R:X_MR_train[:,1,:]})    \n",
    "    train_preds= lsn.preds.eval(feed_dict={lsn.input_L:X_MR_train[:,0,:],lsn.input_R:X_MR_train[:,1,:],\n",
    "                                  lsn.aux_gen:X_aux_train[:,0:1],lsn.aux_clinical:X_aux_train[:,1:]})\n",
    "\n",
    "    train_metrics = {'train_feature_L':train_feature_L,'train_feature_R':train_feature_R,'train_preds':train_preds}\n",
    "\n",
    "    return lsn, train_metrics\n",
    "\n",
    "def test_lsn(sess,lsn,data):\n",
    "    print('Testing model')    \n",
    "    lsn.set_dropout(1)\n",
    "    lsn.set_train_mode(False) \n",
    "    X_MR_test = data['X_MR']\n",
    "    X_aux_test = data['X_aux']\n",
    "    y_test = data['y']\n",
    "    #print(lsn.dropout)\n",
    "\n",
    "    test_feature_L = lsn.branch_L.eval(feed_dict={lsn.input_L:X_MR_test[:,0,:]})\n",
    "    test_feature_R = lsn.branch_R.eval(feed_dict={lsn.input_R:X_MR_test[:,1,:]})\n",
    "\n",
    "    test_preds = lsn.preds.eval(feed_dict={lsn.input_L:X_MR_test[:,0,:],lsn.input_R:X_MR_test[:,1,:],\n",
    "                                      lsn.aux_gen:X_aux_test[:,0:1],lsn.aux_clinical:X_aux_test[:,1:]})\n",
    "    test_acc = lsn.accuracy.eval(feed_dict={lsn.input_L:X_MR_test[:,0,:],lsn.input_R:X_MR_test[:,1,:],\n",
    "                                       lsn.aux_gen:X_aux_test[:,0:1],lsn.aux_clinical:X_aux_test[:,1:],\n",
    "                                       lsn.labels:y_test})\n",
    "\n",
    "    test_metrics = {'test_feature_L':test_feature_L,'test_feature_R':test_feature_R,'test_preds':test_preds}\n",
    "    print('Accuracy test set %0.2f' % (100 * test_acc))\n",
    "    return lsn, test_metrics\n"
   ]
  },
  {
   "cell_type": "code",
   "execution_count": 8,
   "metadata": {
    "colab": {
     "autoexec": {
      "startup": false,
      "wait_interval": 0
     },
     "base_uri": "https://localhost:8080/",
     "height": 51
    },
    "colab_type": "code",
    "executionInfo": {
     "elapsed": 376,
     "status": "ok",
     "timestamp": 1528988676971,
     "user": {
      "displayName": "Nikhil Bhagwat",
      "photoUrl": "//lh4.googleusercontent.com/-rmY3GxNQ0TY/AAAAAAAAAAI/AAAAAAAAEdE/SePqq1Clrc4/s50-c-k-no/photo.jpg",
      "userId": "104945077116245412065"
     },
     "user_tz": 240
    },
    "id": "CoG7X_s41pch",
    "outputId": "4cc20727-22d6-437f-d5f9-bbb89efc12a2"
   },
   "outputs": [
    {
     "name": "stdout",
     "output_type": "stream",
     "text": [
      "shapes of X_MR_train:(18000, 2, 100), X_aux_train:(18000, 5), y_train:(18000, 2), \n",
      "\t X_MR_test:(2000, 2, 100), X_aux_test:(18000, 5), y_test:(2000, 2)\n"
     ]
    }
   ],
   "source": [
    "# Simulation data \n",
    "sampx = 10000\n",
    "X_MR = np.squeeze(np.random.rand(2*sampx,2,100))\n",
    "X_aux = np.squeeze(np.random.rand(2*sampx,5))\n",
    "\n",
    "# Modify feature distributions of the first half of the sample \n",
    "X_MR[:sampx] = X_MR[:sampx]/1.5\n",
    "X_aux[:sampx] = X_aux[:sampx]/2.0\n",
    "y = np.concatenate((np.ones(sampx),np.zeros(sampx)))\n",
    "y = np.squeeze(np.vstack((1-y,y)).T)\n",
    " \n",
    "# Shuffle data before train-test split\n",
    "indx_shuff = np.arange(2*sampx)\n",
    "np.random.shuffle(indx_shuff)\n",
    "X_MR = np.squeeze(X_MR[indx_shuff])\n",
    "X_aux = np.squeeze(X_aux[indx_shuff])\n",
    "y = np.squeeze(y[indx_shuff])\n",
    "\n",
    "# Train-test splits\n",
    "train_frac = int(0.9*(2*sampx))\n",
    "X_MR_train = X_MR[:train_frac]\n",
    "X_aux_train = X_aux[:train_frac]\n",
    "y_train = y[:train_frac]\n",
    "\n",
    "X_MR_test = X_MR[train_frac:]\n",
    "X_aux_test = X_aux[train_frac:]\n",
    "y_test = y[train_frac:]\n",
    "subject_idx_test = indx_shuff[train_frac:]\n",
    "\n",
    "print('shapes of X_MR_train:{}, X_aux_train:{}, y_train:{}, \\n\\t X_MR_test:{}, X_aux_test:{}, y_test:{}'.format(X_MR_train.shape,X_aux_train.shape,y_train.shape,X_MR_test.shape,X_aux_train.shape,y_test.shape)) "
   ]
  },
  {
   "cell_type": "code",
   "execution_count": 9,
   "metadata": {
    "colab": {
     "autoexec": {
      "startup": false,
      "wait_interval": 0
     },
     "base_uri": "https://localhost:8080/",
     "height": 85
    },
    "colab_type": "code",
    "executionInfo": {
     "elapsed": 243,
     "status": "ok",
     "timestamp": 1528988735549,
     "user": {
      "displayName": "Nikhil Bhagwat",
      "photoUrl": "//lh4.googleusercontent.com/-rmY3GxNQ0TY/AAAAAAAAAAI/AAAAAAAAEdE/SePqq1Clrc4/s50-c-k-no/photo.jpg",
      "userId": "104945077116245412065"
     },
     "user_tz": 240
    },
    "id": "BoTQj0-C5oD2",
    "outputId": "8bb452a7-b82d-45fb-f0c5-2438bcfa5783"
   },
   "outputs": [
    {
     "name": "stdout",
     "output_type": "stream",
     "text": [
      "train distributions\n",
      "[0.24844228 0.25192463 0.24894525 0.25029122 0.2496079 ] [0.49971519 0.49966365 0.49946699 0.50655494 0.50014182]\n",
      "test distributions\n",
      "[0.24528894 0.24217826 0.25126966 0.25394395 0.24457669] [0.49863735 0.50377249 0.50713601 0.50699671 0.52036132]\n"
     ]
    }
   ],
   "source": [
    "# Check differences in feature distributions\n",
    "print('train distributions')\n",
    "class_0 = np.mean(X_aux_train[y_train[:,0]==0],axis=0)\n",
    "class_1 = np.mean(X_aux_train[y_train[:,0]==1],axis=0)\n",
    "print(class_0,class_1)\n",
    "print('test distributions')\n",
    "class_0 = np.mean(X_aux_test[y_test[:,0]==0],axis=0)\n",
    "class_1 = np.mean(X_aux_test[y_test[:,0]==1],axis=0)\n",
    "print(class_0,class_1)"
   ]
  },
  {
   "cell_type": "code",
   "execution_count": 16,
   "metadata": {
    "colab": {
     "autoexec": {
      "startup": false,
      "wait_interval": 0
     },
     "base_uri": "https://localhost:8080/",
     "height": 510
    },
    "colab_type": "code",
    "executionInfo": {
     "elapsed": 2258,
     "status": "ok",
     "timestamp": 1528990262472,
     "user": {
      "displayName": "Nikhil Bhagwat",
      "photoUrl": "//lh4.googleusercontent.com/-rmY3GxNQ0TY/AAAAAAAAAAI/AAAAAAAAEdE/SePqq1Clrc4/s50-c-k-no/photo.jpg",
      "userId": "104945077116245412065"
     },
     "user_tz": 240
    },
    "id": "tvUx-7fivyzv",
    "outputId": "17b66e25-2448-47a4-9224-022ba21e34e5"
   },
   "outputs": [
    {
     "name": "stdout",
     "output_type": "stream",
     "text": [
      "train data <-> net_arch check passed\n",
      "Start training time: 14:38:49.342850\n",
      "epoch 0  time: 3.27 loss 0.6598 acc 58.04\n",
      "performance on entire train and valid subsets\n",
      "epoch 0\t train_acc:0.7148324251174927\t valid_acc:0.7209560871124268\n",
      "\n",
      "epoch 1  time: 0.03 loss 0.5464 acc 79.24\n",
      "epoch 2  time: 0.03 loss 0.4906 acc 88.84\n",
      "epoch 3  time: 0.03 loss 0.4654 acc 93.58\n",
      "performance on entire train and valid subsets\n",
      "epoch 3\t train_acc:0.950867235660553\t valid_acc:0.9622012376785278\n",
      "\n",
      "epoch 4  time: 0.03 loss 0.4496 acc 96.65\n",
      "epoch 5  time: 0.03 loss 0.4384 acc 98.94\n",
      "epoch 6  time: 0.03 loss 0.4302 acc 99.16\n",
      "performance on entire train and valid subsets\n",
      "epoch 6\t train_acc:0.991852343082428\t valid_acc:0.9877709746360779\n",
      "\n",
      "epoch 7  time: 0.03 loss 0.4243 acc 99.00\n",
      "epoch 8  time: 0.03 loss 0.4199 acc 98.77\n",
      "epoch 9  time: 0.03 loss 0.4164 acc 98.72\n",
      "performance on entire train and valid subsets\n",
      "epoch 9\t train_acc:0.9882106184959412\t valid_acc:0.9844357967376709\n",
      "\n",
      "End training time: 14:38:53.196692\n",
      "\n",
      "test data <-> net_arch check passed\n",
      "Testing model\n",
      "Accuracy test set 99.05\n"
     ]
    }
   ],
   "source": [
    "# Train and test a sample LSN\n",
    "lr = 0.001\n",
    "n_epochs = 10\n",
    "validate_after = 3\n",
    "batch_size = 128\n",
    "dropout = 1\n",
    "net_arch = {'input_shape':100,'n_layers':3,'l1':100,'l2':100,'l3':100,'mr_output':10,\n",
    "            'aux_clinical_shape':4,'aux_output':5,'output':2,'reg':0.01}\n",
    "\n",
    "\n",
    "# minimal perf df --> append CV related attributes downstream. \n",
    "perf_df = pd.DataFrame(columns=['subject_id','label','pred_prob','pred_label'])\n",
    "\n",
    "tf.reset_default_graph()\n",
    "with tf.Session(config=tf.ConfigProto(log_device_placement=True)) as sess:        \n",
    "    # Train model    \n",
    "    data = {'X_MR':X_MR_train,'X_aux':X_aux_train,'y':y_train}    \n",
    "    if check_data_shapes(data,net_arch):      \n",
    "        print('train data <-> net_arch check passed')   \n",
    "        lsn = siamese_net(net_arch)\n",
    "        optimizer = tf.train.AdamOptimizer(learning_rate = lr).minimize(lsn.loss)\n",
    "        tf.global_variables_initializer().run()\n",
    "\n",
    "        cur_time = datetime.time(datetime.now())\n",
    "        print('Start training time: {}'.format(cur_time))\n",
    "\n",
    "        lsn, train_metrics = train_lsn(sess, lsn, data, optimizer, n_epochs, batch_size, dropout,validate_after)\n",
    "        cur_time = datetime.time(datetime.now())\n",
    "        print('End training time: {}\\n'.format(cur_time))  \n",
    "      \n",
    "    else:\n",
    "        print('train data <-> net_arch check failed')\n",
    "\n",
    "    # Test model      \n",
    "    data = {'X_MR':X_MR_test,'X_aux':X_aux_test,'y':y_test}\n",
    "    if check_data_shapes(data,net_arch):\n",
    "        print('test data <-> net_arch check passed')   \n",
    "        _,test_metrics = test_lsn(sess,lsn,data)\n",
    "\n",
    "        # populate perf dataframe\n",
    "        perf_df['subject_id']  = subject_idx_test\n",
    "        perf_df['label'] = np.argmax(y_test,1)\n",
    "        perf_df['pred_prob'] = list(test_metrics['test_preds'])\n",
    "        perf_df['pred_label'] = np.argmax(test_metrics['test_preds'],1)\n",
    "    else:\n",
    "        print('test data <-> net_arch check failed')   \n"
   ]
  },
  {
   "cell_type": "code",
   "execution_count": 22,
   "metadata": {
    "colab": {
     "autoexec": {
      "startup": false,
      "wait_interval": 0
     },
     "base_uri": "https://localhost:8080/",
     "height": 729
    },
    "colab_type": "code",
    "executionInfo": {
     "elapsed": 10585,
     "status": "ok",
     "timestamp": 1528990279108,
     "user": {
      "displayName": "Nikhil Bhagwat",
      "photoUrl": "//lh4.googleusercontent.com/-rmY3GxNQ0TY/AAAAAAAAAAI/AAAAAAAAEdE/SePqq1Clrc4/s50-c-k-no/photo.jpg",
      "userId": "104945077116245412065"
     },
     "user_tz": 240
    },
    "id": "uwCrzzgCQJJP",
    "outputId": "34495065-a74d-41cb-fdee-3f5f847e6956"
   },
   "outputs": [
    {
     "name": "stderr",
     "output_type": "stream",
     "text": [
      "/data/chamal/projects/nikhil/code/python/conda/anaconda2/envs/tensorflow_v14/lib/python3.5/site-packages/sklearn/neighbors/base.py:371: RuntimeWarning: invalid value encountered in sqrt\n",
      "  result = np.sqrt(dist[sample_range, neigh_ind]), neigh_ind\n"
     ]
    },
    {
     "data": {
      "image/png": "[encoded data removed]",
      "text/plain": [
       "<Figure size 675.875x576 with 4 Axes>"
      ]
     },
     "metadata": {},
     "output_type": "display_data"
    }
   ],
   "source": [
    "#Plots \n",
    "import matplotlib.pyplot as plt\n",
    "import seaborn as sns\n",
    "from sklearn.manifold import TSNE\n",
    "plt.style.use('seaborn-white')\n",
    "sns.set(font_scale=2)\n",
    "\n",
    "#Plot TSNE\n",
    "tsne_sampx = 100\n",
    "train_embed_L = train_metrics['train_feature_L']\n",
    "train_embed_R = train_metrics['train_feature_R']\n",
    "\n",
    "test_embed_L = test_metrics['test_feature_L']\n",
    "test_embed_R = test_metrics['test_feature_R']\n",
    "\n",
    "train_tsne_embed_L = TSNE(n_components=2,init='pca').fit_transform(train_embed_L[:tsne_sampx])\n",
    "test_tsne_embed_L = TSNE(n_components=2,init='pca').fit_transform(test_embed_L[:tsne_sampx])\n",
    "train_tsne_embed_R = TSNE(n_components=2,init='pca').fit_transform(train_embed_R[:tsne_sampx])\n",
    "test_tsne_embed_R = TSNE(n_components=2,init='pca').fit_transform(test_embed_R[:tsne_sampx])\n",
    "\n",
    "\n",
    "train_df_L = pd.DataFrame(columns=['x','y','labels','subset'])\n",
    "test_df_L = pd.DataFrame(columns=['x','y','labels','subset'])\n",
    "train_df_R = pd.DataFrame(columns=['x','y','labels','subset'])\n",
    "test_df_R = pd.DataFrame(columns=['x','y','labels','subset'])\n",
    "\n",
    "train_df_L['x'] = train_tsne_embed_L[:,0] \n",
    "train_df_L['y'] = train_tsne_embed_L[:,1] \n",
    "train_df_L['labels'] = y_train[:tsne_sampx]\n",
    "train_df_L['subset'] = np.tile('train_L',len(y_train[:tsne_sampx]))\n",
    "\n",
    "train_df_R['x'] = train_tsne_embed_R[:,0] \n",
    "train_df_R['y'] = train_tsne_embed_R[:,1] \n",
    "train_df_R['labels'] = y_train[:tsne_sampx]\n",
    "train_df_R['subset'] = np.tile('train_R',len(y_train[:tsne_sampx]))\n",
    "\n",
    "test_df_L['x'] = test_tsne_embed_L[:,0] \n",
    "test_df_L['y'] = test_tsne_embed_L[:,1] \n",
    "test_df_L['labels'] = y_test[:tsne_sampx]\n",
    "test_df_L['subset'] = np.tile('test_L',len(y_test[:tsne_sampx]))\n",
    "\n",
    "test_df_R['x'] = test_tsne_embed_R[:,0] \n",
    "test_df_R['y'] = test_tsne_embed_R[:,1] \n",
    "test_df_R['labels'] = y_test[:tsne_sampx]\n",
    "test_df_R['subset'] = np.tile('test_R',len(y_test[:tsne_sampx]))\n",
    "\n",
    "\n",
    "plot_df = train_df_L.append(train_df_R).append(test_df_L).append(test_df_R)\n",
    "sns.lmplot(x='x',y='y',hue='labels',col='subset',col_wrap=2, fit_reg=False, markers='.',data=plot_df,size=4);"
   ]
  },
  {
   "cell_type": "code",
   "execution_count": 23,
   "metadata": {
    "colab": {
     "autoexec": {
      "startup": false,
      "wait_interval": 0
     },
     "base_uri": "https://localhost:8080/",
     "height": 369
    },
    "colab_type": "code",
    "executionInfo": {
     "elapsed": 804,
     "status": "ok",
     "timestamp": 1528989626700,
     "user": {
      "displayName": "Nikhil Bhagwat",
      "photoUrl": "//lh4.googleusercontent.com/-rmY3GxNQ0TY/AAAAAAAAAAI/AAAAAAAAEdE/SePqq1Clrc4/s50-c-k-no/photo.jpg",
      "userId": "104945077116245412065"
     },
     "user_tz": 240
    },
    "id": "2IA_YZkNHaVy",
    "outputId": "871ac4c9-2385-4a70-fcab-c2aa52e13aae"
   },
   "outputs": [
    {
     "data": {
      "image/png": "[encoded data removed]",
      "text/plain": [
       "<Figure size 819.875x360 with 2 Axes>"
      ]
     },
     "metadata": {},
     "output_type": "display_data"
    }
   ],
   "source": [
    "# Plot preds\n",
    "train_features = train_metrics['train_preds']\n",
    "test_features = test_metrics['test_preds']\n",
    "\n",
    "train_df = pd.DataFrame(columns=['x','y','labels','subset'])\n",
    "test_df = pd.DataFrame(columns=['x','y','labels','subset'])\n",
    "train_df['x'] = train_features[:,0] \n",
    "train_df['y'] = train_features[:,1] \n",
    "train_df['labels'] = y_train\n",
    "train_df['subset'] = np.tile('train',len(y_train))\n",
    "test_df['x'] = test_features[:,0] \n",
    "test_df['y'] = test_features[:,1] \n",
    "test_df['labels'] = y_test\n",
    "test_df['subset'] = np.tile('test',len(y_test))\n",
    "plot_df = train_df.append(test_df)\n",
    "sns.lmplot(x='x',y='y',hue='labels',col='subset',fit_reg=False, markers='.',data=plot_df);\n"
   ]
  },
  {
   "cell_type": "code",
   "execution_count": 0,
   "metadata": {
    "colab": {
     "autoexec": {
      "startup": false,
      "wait_interval": 0
     }
    },
    "colab_type": "code",
    "collapsed": true,
    "id": "N6VZGx8n8Y1O"
   },
   "outputs": [],
   "source": []
  }
 ],
 "metadata": {
  "accelerator": "GPU",
  "colab": {
   "collapsed_sections": [],
   "default_view": {},
   "name": "LSN.ipynb",
   "provenance": [],
   "version": "0.3.2",
   "views": {}
  },
  "kernelspec": {
   "display_name": "Python 3",
   "language": "python",
   "name": "python3"
  },
  "language_info": {
   "codemirror_mode": {
    "name": "ipython",
    "version": 3
   },
   "file_extension": ".py",
   "mimetype": "text/x-python",
   "name": "python",
   "nbconvert_exporter": "python",
   "pygments_lexer": "ipython3",
   "version": "3.5.5"
  }
 },
 "nbformat": 4,
 "nbformat_minor": 1
}
