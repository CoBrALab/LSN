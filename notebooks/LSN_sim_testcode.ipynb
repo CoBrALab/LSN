{
  "nbformat": 4,
  "nbformat_minor": 0,
  "metadata": {
    "colab": {
      "name": "LSN.ipynb",
      "version": "0.3.2",
      "views": {},
      "default_view": {},
      "provenance": [],
      "collapsed_sections": []
    },
    "kernelspec": {
      "name": "python3",
      "display_name": "Python 3"
    },
    "accelerator": "GPU"
  },
  "cells": [
    {
      "metadata": {
        "id": "kLSLxAdBGHSd",
        "colab_type": "text"
      },
      "cell_type": "markdown",
      "source": [
        "# LSN - simulation test code"
      ]
    },
    {
      "metadata": {
        "id": "WYpfpG7UGLnX",
        "colab_type": "code",
        "colab": {
          "autoexec": {
            "startup": false,
            "wait_interval": 0
          }
        }
      },
      "cell_type": "code",
      "source": [
        "# Package imports\n",
        "%matplotlib inline\n",
        "import tensorflow as tf\n",
        "import numpy as np\n",
        "import random\n",
        "import time\n",
        "import math\n",
        "from datetime import datetime"
      ],
      "execution_count": 0,
      "outputs": []
    },
    {
      "metadata": {
        "id": "4nyoHfbQY-YJ",
        "colab_type": "code",
        "colab": {
          "autoexec": {
            "startup": false,
            "wait_interval": 0
          }
        }
      },
      "cell_type": "code",
      "source": [
        "# Main slim library\n",
        "slim = tf.contrib.slim\n",
        "\n",
        "class siamese_net(object):\n",
        "  \n",
        "    def __init__(self, net_arch):\n",
        "              \n",
        "      self.input_L = tf.placeholder(tf.float32, [None, net_arch['input_shape']],name='baseline')\n",
        "      self.input_R = tf.placeholder(tf.float32, [None, net_arch['input_shape']],name='follow_up')\n",
        "      self.aux_gen = tf.placeholder(tf.float32, [None,1],name='apoe')  #apoe4 status\n",
        "      self.aux_clinical = tf.placeholder(tf.float32, [None,net_arch['aux_clinical_shape']],name='clinical_attr') #demo+clinical scores\n",
        "      self.labels = tf.placeholder(tf.float32, [None,net_arch['output']],name='trajectory')         \n",
        "      self.use_aux = True #use aux branch for non-imaging variables\n",
        "      self.is_training = True  #toggles dropout in slim\n",
        "      self.dropout = 1\n",
        "      self.n_layers = net_arch['n_layers']\n",
        "\n",
        "      with tf.variable_scope(\"siamese\") as scope:\n",
        "          self.branch_L = self.mlpnet_slim(self.input_L)\n",
        "          scope.reuse_variables()\n",
        "          self.branch_R = self.mlpnet_slim(self.input_R)\n",
        "          \n",
        "      # Create metrics      \n",
        "      self.distance = tf.sqrt(tf.reduce_sum(tf.pow(tf.subtract(self.branch_L,self.branch_R),2),1,keepdims=True))\n",
        "      self.preds = self.get_predictions()\n",
        "      self.loss = self.get_loss()\n",
        "      self.accuracy = self.get_accuracy()\n",
        "\n",
        "    # Individual branch    \n",
        "    def mlpnet_slim(self, X):\n",
        "      with slim.arg_scope([slim.fully_connected], activation_fn=tf.nn.relu,\n",
        "                          weights_regularizer=slim.l2_regularizer(net_arch['reg'])):\n",
        "        \n",
        "        # If needed, within the scope layer is made linear by setting activation_fn=None.\n",
        "        # Creates a fully connected layers \n",
        "        for l in range(self.n_layers):\n",
        "          net = slim.fully_connected(X, net_arch['l{}'.format(l+1)], normalizer_fn=slim.batch_norm, scope='fc{}'.format(l))\n",
        "          net = slim.dropout(net, self.dropout, is_training=self.is_training)\n",
        "\n",
        "        # MR output\n",
        "        MR_predictions = slim.fully_connected(net, net_arch['mr_output'], \n",
        "                                              normalizer_fn=slim.batch_norm, scope='MR_prediction')               \n",
        " \n",
        "        return MR_predictions #Later also return end_points \n",
        "    \n",
        "    # Auxilary branch for demographics, genetics, and clinical attributes\n",
        "    def auxnet(self):\n",
        "      distance_vec  = tf.concat([self.branch_L,self.branch_R],1,name='MR_embed_concat')\n",
        "      distance_vec_mod = tf.multiply(distance_vec,self.aux_gen)\n",
        "      distance_vec_mod_aux = tf.concat([distance_vec_mod,self.aux_clinical],1)\n",
        "      \n",
        "      with tf.name_scope('aux_layers'):\n",
        "        aux_predictions = slim.fully_connected(distance_vec_mod_aux, net_arch['aux_output'],\n",
        "                                               activation_fn=tf.nn.relu, \n",
        "                                               weights_regularizer=slim.l2_regularizer(net_arch['reg']),\n",
        "                                               normalizer_fn=slim.batch_norm) \n",
        "        #aux_predictions = slim.dropout(net, self.dropout, is_training=is_training)\n",
        "        return aux_predictions\n",
        "        \n",
        "    def get_predictions(self):\n",
        "      if self.use_aux:\n",
        "        embed_vec = self.auxnet()\n",
        "      else:\n",
        "        embed_vec = tf.concat([self.branch_L,self.branch_R],1,name='MR_embed_concat')\n",
        "        \n",
        "      penult_predict = slim.fully_connected(embed_vec, net_arch['output'], activation_fn=tf.nn.softmax, \n",
        "                                           normalizer_fn=slim.batch_norm, scope='aux_prediction')\n",
        "      return penult_predict\n",
        "    \n",
        "    #-------------- net with basic/raw TF code (without slim) --------------#\n",
        "    #-------------- not used when slim is used (preferred)------------------#\n",
        "    def mlpnet(self, X):\n",
        "      l1 = self.mlp(X,layer_config['input_shape'],layer_config['l1'],name='l1')\n",
        "      l1 = tf.nn.dropout(l1,self.dropout)\n",
        "      l2 = self.mlp(l1,layer_config['l1'],layer_config['l2'],name='l2')\n",
        "      l2 = tf.nn.dropout(l2,self.dropout_f)\n",
        "      l3 = self.mlp(l2,layer_config['l2'],layer_config['l3'],name='l3')\n",
        "      l3 = tf.nn.dropout(l3,self.dropout)\n",
        "      l4 = self.mlp(l3,layer_config['l3'],layer_config['l4'],name='l4')\n",
        "      l4 = tf.nn.dropout(l4,self.dropout)\n",
        "      output = self.mlp(l4,layer_config['l4'],layer_config['output'],name='output')\n",
        "      return output\n",
        "      \n",
        "    def mlp(self, input_,input_dim,output_dim,name=\"mlp\"):\n",
        "      with tf.variable_scope(name):\n",
        "        w = tf.get_variable('w',[input_dim,output_dim],tf.float32,tf.random_normal_initializer(mean = 0.001,stddev=0.02))            \n",
        "        b = tf.get_variable('b',[output_dim],tf.float32,tf.constant_initializer(0.1))\n",
        "        return tf.nn.relu(tf.matmul(input_,w)+b)   \n",
        "    #-----------------------------------------------------------------------#\n",
        "   \n",
        "    # Set methods for class variables\n",
        "    def set_dropout(self, dropout):\n",
        "      self.dropout = dropout\n",
        "      \n",
        "    def set_aux(self, use_aux):\n",
        "      self.use_aux = use_aux\n",
        "      \n",
        "    def set_train_mode(self,is_training):  \n",
        "      self.is_training = is_training\n",
        "      \n",
        "    # Get methods for loss and acc metrics\n",
        "    def get_loss(self):            \n",
        "      return tf.reduce_mean(tf.nn.softmax_cross_entropy_with_logits(labels=self.labels,logits=self.preds)) \n",
        "\n",
        "    def get_accuracy(self):\n",
        "      correct_preds = tf.equal(tf.argmax(self.labels,1), tf.argmax(self.preds,1))\n",
        "      return tf.reduce_mean(tf.cast(correct_preds, tf.float32)) \n",
        "       \n",
        "    \n",
        "# Other helper functions\n",
        "def next_batch(s,e,mr_inputs,aux_inputs,labels):\n",
        "    input1 = mr_inputs[s:e,0]\n",
        "    input2 = mr_inputs[s:e,1]        \n",
        "    input3 = aux_inputs[s:e,:]\n",
        "    y = labels[s:e,:]    \n",
        "    return input1,input2,input3,y\n",
        "  \n",
        "  \n",
        "{'input_shape':100,'l1':100,'l2':100,'l3':100,'l4':100,'mr_output':10,\n",
        "            'aux_clinical_shape':4,'aux_output':5,'output':2,'reg':0.01}  \n",
        "  \n",
        "def check_data_shapes(data,net_arch):\n",
        "  check = True\n",
        "  X_MR_train = data['X_MR']\n",
        "  X_aux_train = data['X_aux']\n",
        "  y_train = data['y']\n",
        "  n_layers = net_arch['n_layers']\n",
        "  if data['X_MR'].shape[1] != 2:\n",
        "    print('wrong input data dimensions - need MR data for two branches')\n",
        "    check = False\n",
        "  elif data['X_MR'].shape[2] != net_arch['input_shape']:\n",
        "    print('input MR data <-> LSN arch mismatch')\n",
        "    check = False\n",
        "  elif data['X_aux'].shape[1] != net_arch['aux_clinical_shape']+1:\n",
        "    print('input aux data <-> LSN arch mismatch')\n",
        "    check = False\n",
        "  elif y.shape[1] != net_arch['output']:\n",
        "    print('number of classes (2,3) <-> LSN arch mismatch')\n",
        "    check = False\n",
        "  else:\n",
        "    for l in range(n_layers):\n",
        "      try:\n",
        "        _ = net_arch['l{}'.format(l+1)]\n",
        "      except:\n",
        "        print('Specify number of nodes for layer {}'.format(l))\n",
        "        check = False        \n",
        "  \n",
        "  return check\n",
        "  "
      ],
      "execution_count": 0,
      "outputs": []
    },
    {
      "metadata": {
        "id": "ykpbbpRMha_r",
        "colab_type": "code",
        "colab": {
          "autoexec": {
            "startup": false,
            "wait_interval": 0
          }
        }
      },
      "cell_type": "code",
      "source": [
        "# Train and test defs\n",
        "def train_lsn(sess, lsn, data, optimizer, n_epochs, batch_size, dropout, validate_after):\n",
        "  valid_frac = int(0.1*len(data['y']))\n",
        "\n",
        "  # Training cycle\n",
        "  for epoch in range(n_epochs):\n",
        "      avg_loss = 0.\n",
        "      avg_acc = 0.\n",
        "  \n",
        "      # Split into train and valid data for hyperparam tuning\n",
        "      X_MR_train = data['X_MR'][:1-valid_frac]\n",
        "      X_aux_train = data['X_aux'][:1-valid_frac]\n",
        "      y_train = data['y'][:1-valid_frac]\n",
        "      \n",
        "      X_MR_valid = data['X_MR'][1-valid_frac:]\n",
        "      X_aux_valid = data['X_aux'][1-valid_frac:]\n",
        "      y_valid = data['y'][1-valid_frac:]\n",
        "      \n",
        "      total_batch = int(len(y_valid)/batch_size)\n",
        "      \n",
        "      start_time = time.time()\n",
        "      # Loop over all batches\n",
        "      for i in range(total_batch):\n",
        "          s  = i * batch_size\n",
        "          e = (i+1) *batch_size\n",
        "\n",
        "          # Fit training using batch data\n",
        "          MR_L_batch,MR_R_batch,aux_batch,y_batch = next_batch(s,e,X_MR_train,X_aux_train,y_train)\n",
        "          \n",
        "          # Train pass\n",
        "          lsn.set_dropout(dropout)\n",
        "          _,distance,preds,loss_value,acc_value=sess.run([optimizer,lsn.distance,lsn.preds,lsn.loss,lsn.accuracy], \n",
        "                                        feed_dict={lsn.input_L:MR_L_batch,\n",
        "                                                   lsn.input_R:MR_R_batch,\n",
        "                                                   lsn.aux_gen:aux_batch[:,0:1],\n",
        "                                                   lsn.aux_clinical:aux_batch[:,1:],\n",
        "                                                   lsn.labels:y_batch})                \n",
        "\n",
        "          avg_loss += loss_value\n",
        "          avg_acc +=acc_value*100\n",
        "\n",
        "      duration = time.time() - start_time\n",
        "      print('epoch %d  time: %.2f loss %0.4f acc %0.2f' %(epoch,duration,avg_loss/total_batch,avg_acc/total_batch))      \n",
        "  \n",
        "      #Compute perf on entire training and validation sets (no need after every epoch)\n",
        "      if epoch%validate_after == 0:\n",
        "        train_acc = lsn.accuracy.eval(feed_dict={lsn.input_L:X_MR_train[:,0,:],lsn.input_R:X_MR_train[:,1,:],\n",
        "                                     lsn.aux_gen:X_aux_train[:,0:1],lsn.aux_clinical:X_aux_train[:,1:],\n",
        "                                     lsn.labels:y_train})\n",
        "        valid_acc = lsn.accuracy.eval(feed_dict={lsn.input_L:X_MR_valid[:,0,:],lsn.input_R:X_MR_valid[:,1,:],\n",
        "                                     lsn.aux_gen:X_aux_valid[:,0:1],lsn.aux_clinical:X_aux_valid[:,1:],\n",
        "                                     lsn.labels:y_valid})\n",
        "        print('performance on entire train and valid subsets')\n",
        "        print('epoch {}\\t train_acc:{}\\t valid_acc:{}\\n'.format(epoch,train_acc,valid_acc))\n",
        "  \n",
        "  # -----------TODO--------------\n",
        "  # Save trained model\n",
        "  # -----------TODO--------------\n",
        "      \n",
        "  # Post training: Compute preds and metrics for entire train data\n",
        "  X_MR_train = data['X_MR']\n",
        "  X_aux_train = data['X_aux']\n",
        "  y_train = data['y']\n",
        "  train_feature_L = lsn.branch_L.eval(feed_dict={lsn.input_L:X_MR_train[:,0,:]})\n",
        "  train_feature_R = lsn.branch_R.eval(feed_dict={lsn.input_R:X_MR_train[:,1,:]})    \n",
        "  train_preds= lsn.preds.eval(feed_dict={lsn.input_L:X_MR_train[:,0,:],lsn.input_R:X_MR_train[:,1,:],\n",
        "                                  lsn.aux_gen:X_aux_train[:,0:1],lsn.aux_clinical:X_aux_train[:,1:]})\n",
        "\n",
        "  train_metrics = {'train_feature_L':train_feature_L,'train_feature_R':train_feature_R,'train_preds':train_preds}\n",
        "\n",
        "  return lsn, train_metrics\n",
        "\n",
        "def test_lsn(sess,lsn,data):\n",
        "  print('Testing model')    \n",
        "  lsn.set_dropout(1)\n",
        "  lsn.set_train_mode(False) \n",
        "  X_MR_test = data['X_MR']\n",
        "  X_aux_test = data['X_aux']\n",
        "  y_test = data['y']\n",
        "  #print(lsn.dropout)\n",
        "  \n",
        "  test_feature_L = lsn.branch_L.eval(feed_dict={lsn.input_L:X_MR_test[:,0,:]})\n",
        "  test_feature_R = lsn.branch_R.eval(feed_dict={lsn.input_R:X_MR_test[:,1,:]})\n",
        "\n",
        "  test_preds = lsn.preds.eval(feed_dict={lsn.input_L:X_MR_test[:,0,:],lsn.input_R:X_MR_test[:,1,:],\n",
        "                                      lsn.aux_gen:X_aux_test[:,0:1],lsn.aux_clinical:X_aux_test[:,1:]})\n",
        "  test_acc = lsn.accuracy.eval(feed_dict={lsn.input_L:X_MR_test[:,0,:],lsn.input_R:X_MR_test[:,1,:],\n",
        "                                       lsn.aux_gen:X_aux_test[:,0:1],lsn.aux_clinical:X_aux_test[:,1:],\n",
        "                                       lsn.labels:y_test})\n",
        "\n",
        "  test_metrics = {'test_feature_L':test_feature_L,'test_feature_R':test_feature_R,'test_preds':test_preds}\n",
        "  print('Accuracy test set %0.2f' % (100 * test_acc))\n",
        "  return lsn, test_metrics\n"
      ],
      "execution_count": 0,
      "outputs": []
    },
    {
      "metadata": {
        "id": "CoG7X_s41pch",
        "colab_type": "code",
        "colab": {
          "autoexec": {
            "startup": false,
            "wait_interval": 0
          },
          "base_uri": "https://localhost:8080/",
          "height": 51
        },
        "outputId": "4cc20727-22d6-437f-d5f9-bbb89efc12a2",
        "executionInfo": {
          "status": "ok",
          "timestamp": 1528988676971,
          "user_tz": 240,
          "elapsed": 376,
          "user": {
            "displayName": "Nikhil Bhagwat",
            "photoUrl": "//lh4.googleusercontent.com/-rmY3GxNQ0TY/AAAAAAAAAAI/AAAAAAAAEdE/SePqq1Clrc4/s50-c-k-no/photo.jpg",
            "userId": "104945077116245412065"
          }
        }
      },
      "cell_type": "code",
      "source": [
        "# Simulation data \n",
        "sampx = 10000\n",
        "X_MR = np.squeeze(np.random.rand(2*sampx,2,100))\n",
        "X_aux = np.squeeze(np.random.rand(2*sampx,5))\n",
        "\n",
        "# Modify feature distributions of the first half of the sample \n",
        "X_MR[:sampx] = X_MR[:sampx]/1.5\n",
        "X_aux[:sampx] = X_aux[:sampx]/2.0\n",
        "y = np.concatenate((np.ones(sampx),np.zeros(sampx)))\n",
        "y = np.squeeze(np.vstack((1-y,y)).T)\n",
        " \n",
        "# Shuffle data before train-test split\n",
        "indx_shuff = np.arange(2*sampx)\n",
        "np.random.shuffle(indx_shuff)\n",
        "X_MR = np.squeeze(X_MR[indx_shuff])\n",
        "X_aux = np.squeeze(X_aux[indx_shuff])\n",
        "y = np.squeeze(y[indx_shuff])\n",
        "\n",
        "# Train-test splits\n",
        "train_frac = int(0.9*(2*sampx))\n",
        "X_MR_train = X_MR[:train_frac]\n",
        "X_aux_train = X_aux[:train_frac]\n",
        "y_train = y[:train_frac]\n",
        "\n",
        "X_MR_test = X_MR[train_frac:]\n",
        "X_aux_test = X_aux[train_frac:]\n",
        "y_test = y[train_frac:]\n",
        "subject_idx_test = indx_shuff[train_frac:]\n",
        "\n",
        "print('shapes of X_MR_train:{}, X_aux_train:{}, y_train:{}, \\n\\t X_MR_test:{}, X_aux_test:{}, y_test:{}'.format(X_MR_train.shape,X_aux_train.shape,y_train.shape,X_MR_test.shape,X_aux_train.shape,y_test.shape)) "
      ],
      "execution_count": 4,
      "outputs": [
        {
          "output_type": "stream",
          "text": [
            "shapes of X_MR_train:(18000, 2, 100), X_aux_train:(18000, 5), y_train:(18000, 2), \n",
            "\t X_MR_test:(2000, 2, 100), X_aux_test:(18000, 5), y_test:(2000, 2)\n"
          ],
          "name": "stdout"
        }
      ]
    },
    {
      "metadata": {
        "id": "BoTQj0-C5oD2",
        "colab_type": "code",
        "colab": {
          "autoexec": {
            "startup": false,
            "wait_interval": 0
          },
          "base_uri": "https://localhost:8080/",
          "height": 85
        },
        "outputId": "8bb452a7-b82d-45fb-f0c5-2438bcfa5783",
        "executionInfo": {
          "status": "ok",
          "timestamp": 1528988735549,
          "user_tz": 240,
          "elapsed": 243,
          "user": {
            "displayName": "Nikhil Bhagwat",
            "photoUrl": "//lh4.googleusercontent.com/-rmY3GxNQ0TY/AAAAAAAAAAI/AAAAAAAAEdE/SePqq1Clrc4/s50-c-k-no/photo.jpg",
            "userId": "104945077116245412065"
          }
        }
      },
      "cell_type": "code",
      "source": [
        "# Check differences in feature distributions\n",
        "print('train distributions')\n",
        "class_0 = np.mean(X_aux_train[y_train[:,0]==0],axis=0)\n",
        "class_1 = np.mean(X_aux_train[y_train[:,0]==1],axis=0)\n",
        "print(class_0,class_1)\n",
        "print('test distributions')\n",
        "class_0 = np.mean(X_aux_test[y_test[:,0]==0],axis=0)\n",
        "class_1 = np.mean(X_aux_test[y_test[:,0]==1],axis=0)\n",
        "print(class_0,class_1)"
      ],
      "execution_count": 8,
      "outputs": [
        {
          "output_type": "stream",
          "text": [
            "train distributions\n",
            "[0.24826256 0.25132727 0.25026673 0.24895929 0.24912857] [0.50121449 0.50101788 0.504834   0.50481265 0.50295424]\n",
            "test distributions\n",
            "[0.25055699 0.2554488  0.2528788  0.25056409 0.24895815] [0.51318776 0.49720612 0.50203259 0.50590156 0.4940968 ]\n"
          ],
          "name": "stdout"
        }
      ]
    },
    {
      "metadata": {
        "id": "tvUx-7fivyzv",
        "colab_type": "code",
        "colab": {
          "autoexec": {
            "startup": false,
            "wait_interval": 0
          },
          "base_uri": "https://localhost:8080/",
          "height": 510
        },
        "outputId": "17b66e25-2448-47a4-9224-022ba21e34e5",
        "executionInfo": {
          "status": "ok",
          "timestamp": 1528990262472,
          "user_tz": 240,
          "elapsed": 2258,
          "user": {
            "displayName": "Nikhil Bhagwat",
            "photoUrl": "//lh4.googleusercontent.com/-rmY3GxNQ0TY/AAAAAAAAAAI/AAAAAAAAEdE/SePqq1Clrc4/s50-c-k-no/photo.jpg",
            "userId": "104945077116245412065"
          }
        }
      },
      "cell_type": "code",
      "source": [
        "# Train and test a sample LSN\n",
        "lr = 0.001\n",
        "n_epochs = 10\n",
        "validate_after = 3\n",
        "batch_size = 128\n",
        "dropout = 1\n",
        "net_arch = {'input_shape':100,'n_layers':3,'l1':100,'l2':100,'l3':100,'mr_output':10,\n",
        "            'aux_clinical_shape':4,'aux_output':5,'output':2,'reg':0.01}\n",
        "\n",
        "\n",
        "# minimal perf df --> append CV related attributes downstream. \n",
        "perf_df = pd.DataFrame(columns=['subject_id','label','pred_prob','pred_label'])\n",
        "\n",
        "tf.reset_default_graph()\n",
        "with tf.Session(config=tf.ConfigProto(log_device_placement=True)) as sess:        \n",
        "    # Train model    \n",
        "    data = {'X_MR':X_MR_train,'X_aux':X_aux_train,'y':y_train}    \n",
        "    if check_data_shapes(data,net_arch):      \n",
        "      print('train data <-> net_arch check passed')   \n",
        "      lsn = siamese_net(net_arch)\n",
        "      optimizer = tf.train.AdamOptimizer(learning_rate = lr).minimize(lsn.loss)\n",
        "      tf.global_variables_initializer().run()\n",
        "\n",
        "      cur_time = datetime.time(datetime.now())\n",
        "      print('Start training time: {}'.format(cur_time))\n",
        "      \n",
        "      lsn, train_metrics = train_lsn(sess, lsn, data, optimizer, n_epochs, batch_size, dropout,validate_after)\n",
        "      cur_time = datetime.time(datetime.now())\n",
        "      print('End training time: {}\\n'.format(cur_time))  \n",
        "      \n",
        "    else:\n",
        "      print('train data <-> net_arch check failed')\n",
        "\n",
        "    # Test model      \n",
        "    data = {'X_MR':X_MR_test,'X_aux':X_aux_test,'y':y_test}\n",
        "    if check_data_shapes(data,net_arch):\n",
        "      print('test data <-> net_arch check passed')   \n",
        "      _,test_metrics = test_lsn(sess,lsn,data)\n",
        "\n",
        "      # populate perf dataframe\n",
        "      perf_df['subject_id']  = subject_idx_test\n",
        "      perf_df['label'] = np.argmax(y_test,1)\n",
        "      perf_df['pred_prob'] = list(test_metrics['test_preds'])\n",
        "      perf_df['pred_label'] = np.argmax(test_metrics['test_preds'],1)\n",
        "    else:\n",
        "      print('test data <-> net_arch check failed')   \n"
      ],
      "execution_count": 17,
      "outputs": [
        {
          "output_type": "stream",
          "text": [
            "train data <-> net_arch check passed\n",
            "Start training time: 15:31:01.195377\n",
            "epoch 0  time: 0.15 loss 0.5477 acc 80.25\n",
            "performance on entire train and valid subsets\n",
            "epoch 0\t train_acc:0.8218628764152527\t valid_acc:0.8360199928283691\n",
            "\n",
            "epoch 1  time: 0.06 loss 0.5079 acc 85.71\n",
            "epoch 2  time: 0.07 loss 0.4888 acc 88.39\n",
            "epoch 3  time: 0.07 loss 0.4720 acc 90.79\n",
            "performance on entire train and valid subsets\n",
            "epoch 3\t train_acc:0.8658725023269653\t valid_acc:0.8738188147544861\n",
            "\n",
            "epoch 4  time: 0.06 loss 0.4580 acc 93.14\n",
            "epoch 5  time: 0.06 loss 0.4465 acc 94.14\n",
            "epoch 6  time: 0.07 loss 0.4369 acc 95.31\n",
            "performance on entire train and valid subsets\n",
            "epoch 6\t train_acc:0.901117205619812\t valid_acc:0.904391348361969\n",
            "\n",
            "epoch 7  time: 0.07 loss 0.4295 acc 96.32\n",
            "epoch 8  time: 0.07 loss 0.4236 acc 96.93\n",
            "epoch 9  time: 0.07 loss 0.4190 acc 97.27\n",
            "performance on entire train and valid subsets\n",
            "epoch 9\t train_acc:0.9159928560256958\t valid_acc:0.9205114245414734\n",
            "\n",
            "End training time: 15:31:02.297055\n",
            "\n",
            "test data <-> net_arch check passed\n",
            "Testing model\n",
            "Accuracy test set 89.95\n"
          ],
          "name": "stdout"
        }
      ]
    },
    {
      "metadata": {
        "id": "uwCrzzgCQJJP",
        "colab_type": "code",
        "colab": {
          "autoexec": {
            "startup": false,
            "wait_interval": 0
          },
          "base_uri": "https://localhost:8080/",
          "height": 729
        },
        "outputId": "34495065-a74d-41cb-fdee-3f5f847e6956",
        "executionInfo": {
          "status": "ok",
          "timestamp": 1528990279108,
          "user_tz": 240,
          "elapsed": 10585,
          "user": {
            "displayName": "Nikhil Bhagwat",
            "photoUrl": "//lh4.googleusercontent.com/-rmY3GxNQ0TY/AAAAAAAAAAI/AAAAAAAAEdE/SePqq1Clrc4/s50-c-k-no/photo.jpg",
            "userId": "104945077116245412065"
          }
        }
      },
      "cell_type": "code",
      "source": [
        "import matplotlib.pyplot as plt\n",
        "import pandas as pd\n",
        "import seaborn as sns\n",
        "from sklearn.manifold import TSNE\n",
        "\n",
        "#Plot TSNE\n",
        "tsne_sampx = 100\n",
        "train_embed_L = train_metrics['train_feature_L']\n",
        "train_embed_R = train_metrics['train_feature_R']\n",
        "\n",
        "test_embed_L = test_metrics['test_feature_L']\n",
        "test_embed_R = test_metrics['test_feature_R']\n",
        "\n",
        "train_tsne_embed_L = TSNE(n_components=2,init='pca').fit_transform(train_embed_L[:tsne_sampx])\n",
        "test_tsne_embed_L = TSNE(n_components=2,init='pca').fit_transform(test_embed_L[:tsne_sampx])\n",
        "train_tsne_embed_R = TSNE(n_components=2,init='pca').fit_transform(train_embed_R[:tsne_sampx])\n",
        "test_tsne_embed_R = TSNE(n_components=2,init='pca').fit_transform(test_embed_R[:tsne_sampx])\n",
        "\n",
        "\n",
        "train_df_L = pd.DataFrame(columns=['x','y','labels','subset'])\n",
        "test_df_L = pd.DataFrame(columns=['x','y','labels','subset'])\n",
        "train_df_R = pd.DataFrame(columns=['x','y','labels','subset'])\n",
        "test_df_R = pd.DataFrame(columns=['x','y','labels','subset'])\n",
        "\n",
        "train_df_L['x'] = train_tsne_embed_L[:,0] \n",
        "train_df_L['y'] = train_tsne_embed_L[:,1] \n",
        "train_df_L['labels'] = y_train[:tsne_sampx]\n",
        "train_df_L['subset'] = np.tile('train_L',len(y_train[:tsne_sampx]))\n",
        "\n",
        "train_df_R['x'] = train_tsne_embed_R[:,0] \n",
        "train_df_R['y'] = train_tsne_embed_R[:,1] \n",
        "train_df_R['labels'] = y_train[:tsne_sampx]\n",
        "train_df_R['subset'] = np.tile('train_R',len(y_train[:tsne_sampx]))\n",
        "\n",
        "test_df_L['x'] = test_tsne_embed_L[:,0] \n",
        "test_df_L['y'] = test_tsne_embed_L[:,1] \n",
        "test_df_L['labels'] = y_test[:tsne_sampx]\n",
        "test_df_L['subset'] = np.tile('test_L',len(y_test[:tsne_sampx]))\n",
        "\n",
        "test_df_R['x'] = test_tsne_embed_R[:,0] \n",
        "test_df_R['y'] = test_tsne_embed_R[:,1] \n",
        "test_df_R['labels'] = y_test[:tsne_sampx]\n",
        "test_df_R['subset'] = np.tile('test_R',len(y_test[:tsne_sampx]))\n",
        "\n",
        "\n",
        "plot_df = train_df_L.append(train_df_R).append(test_df_L).append(test_df_R)\n",
        "sns.lmplot(x='x',y='y',hue='labels',col='subset',col_wrap=2, fit_reg=False, markers='.',data=plot_df);"
      ],
      "execution_count": 18,
      "outputs": [
        {
          "output_type": "display_data",
          "data": {
            "image/png": "[encoded data removed]",
            "text/plain": [
              "<matplotlib.figure.Figure at 0x7f148d144710>"
            ]
          },
          "metadata": {
            "tags": []
          }
        }
      ]
    },
    {
      "metadata": {
        "id": "2IA_YZkNHaVy",
        "colab_type": "code",
        "colab": {
          "autoexec": {
            "startup": false,
            "wait_interval": 0
          },
          "base_uri": "https://localhost:8080/",
          "height": 369
        },
        "outputId": "871ac4c9-2385-4a70-fcab-c2aa52e13aae",
        "executionInfo": {
          "status": "ok",
          "timestamp": 1528989626700,
          "user_tz": 240,
          "elapsed": 804,
          "user": {
            "displayName": "Nikhil Bhagwat",
            "photoUrl": "//lh4.googleusercontent.com/-rmY3GxNQ0TY/AAAAAAAAAAI/AAAAAAAAEdE/SePqq1Clrc4/s50-c-k-no/photo.jpg",
            "userId": "104945077116245412065"
          }
        }
      },
      "cell_type": "code",
      "source": [
        "# Plot preds\n",
        "plt.style.use('seaborn-white')\n",
        "\n",
        "train_features = train_metrics['train_preds']\n",
        "test_features = test_metrics['test_preds']\n",
        "\n",
        "train_df = pd.DataFrame(columns=['x','y','labels','subset'])\n",
        "test_df = pd.DataFrame(columns=['x','y','labels','subset'])\n",
        "train_df['x'] = train_features[:,0] \n",
        "train_df['y'] = train_features[:,1] \n",
        "train_df['labels'] = y_train\n",
        "train_df['subset'] = np.tile('train',len(y_train))\n",
        "test_df['x'] = test_features[:,0] \n",
        "test_df['y'] = test_features[:,1] \n",
        "test_df['labels'] = y_test\n",
        "test_df['subset'] = np.tile('test',len(y_test))\n",
        "plot_df = train_df.append(test_df)\n",
        "sns.lmplot(x='x',y='y',hue='labels',col='subset',fit_reg=False, markers='.',data=plot_df);\n"
      ],
      "execution_count": 12,
      "outputs": [
        {
          "output_type": "display_data",
          "data": {
            "image/png": "[encoded data removed]",
            "text/plain": [
              "<matplotlib.figure.Figure at 0x7f148cfcdf98>"
            ]
          },
          "metadata": {
            "tags": []
          }
        }
      ]
    },
    {
      "metadata": {
        "id": "N6VZGx8n8Y1O",
        "colab_type": "code",
        "colab": {
          "autoexec": {
            "startup": false,
            "wait_interval": 0
          }
        }
      },
      "cell_type": "code",
      "source": [
        ""
      ],
      "execution_count": 0,
      "outputs": []
    }
  ]
}