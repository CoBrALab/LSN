{
  "nbformat": 4,
  "nbformat_minor": 0,
  "metadata": {
    "colab": {
      "name": "LSN.ipynb",
      "version": "0.3.2",
      "views": {},
      "default_view": {},
      "provenance": [],
      "collapsed_sections": []
    },
    "kernelspec": {
      "name": "python3",
      "display_name": "Python 3"
    },
    "accelerator": "GPU"
  },
  "cells": [
    {
      "metadata": {
        "id": "kLSLxAdBGHSd",
        "colab_type": "text"
      },
      "cell_type": "markdown",
      "source": [
        "# LSN - simulation test code"
      ]
    },
    {
      "metadata": {
        "id": "WYpfpG7UGLnX",
        "colab_type": "code",
        "colab": {
          "autoexec": {
            "startup": false,
            "wait_interval": 0
          }
        }
      },
      "cell_type": "code",
      "source": [
        "# Package imports\n",
        "%matplotlib inline\n",
        "import tensorflow as tf\n",
        "import numpy as np\n",
        "import matplotlib.pyplot as plt\n",
        "import pandas as pd\n",
        "import seaborn as sns\n",
        "import random\n",
        "import time\n",
        "import math\n",
        "from datetime import datetime"
      ],
      "execution_count": 0,
      "outputs": []
    },
    {
      "metadata": {
        "id": "4nyoHfbQY-YJ",
        "colab_type": "code",
        "colab": {
          "autoexec": {
            "startup": false,
            "wait_interval": 0
          }
        }
      },
      "cell_type": "code",
      "source": [
        "# Main slim library\n",
        "slim = tf.contrib.slim\n",
        "\n",
        "class siamese_net(object):\n",
        "  \n",
        "    def __init__(self, net_arch):\n",
        "              \n",
        "      self.input_L = tf.placeholder(tf.float32, [None, net_arch['input_shape']],name='baseline')\n",
        "      self.input_R = tf.placeholder(tf.float32, [None, net_arch['input_shape']],name='follow_up')\n",
        "      self.aux_gen = tf.placeholder(tf.float32, [None,1],name='apoe')  #apoe4 status\n",
        "      self.aux_clinical = tf.placeholder(tf.float32, [None,net_arch['aux_clinical_shape']],name='clinical_attr') #demo+clinical scores\n",
        "      self.labels = tf.placeholder(tf.float32, [None,2],name='trajectory')         \n",
        "      self.use_aux = True #use aux branch for non-imaging variables\n",
        "      self.is_training = True  #toggles dropout in slim\n",
        "      self.dropout = 1\n",
        "\n",
        "      with tf.variable_scope(\"siamese\") as scope:\n",
        "          self.branch_L = self.mlpnet_slim(self.input_L)\n",
        "          scope.reuse_variables()\n",
        "          self.branch_R = self.mlpnet_slim(self.input_R)\n",
        "          \n",
        "      # Create metrics      \n",
        "      self.distance = tf.sqrt(tf.reduce_sum(tf.pow(tf.subtract(self.branch_L,self.branch_R),2),1,keepdims=True))\n",
        "      self.preds = self.get_predictions()\n",
        "      self.loss = self.get_loss()\n",
        "      self.accuracy = self.get_accuracy()\n",
        "\n",
        "    # Individual branch    \n",
        "    def mlpnet_slim(self, X):\n",
        "      with slim.arg_scope([slim.fully_connected], activation_fn=tf.nn.relu,\n",
        "                          weights_regularizer=slim.l2_regularizer(net_arch['reg'])):\n",
        "        \n",
        "        # within the scope layer is made linear by setting activation_fn=None.\n",
        "\n",
        "        # Creates a fully connected layer from the inputs \n",
        "        net = slim.fully_connected(X, net_arch['l1'], normalizer_fn=slim.batch_norm, scope='fc1')\n",
        "        #end_points['fc1'] = net                \n",
        "        net = slim.dropout(net, self.dropout, is_training=self.is_training)\n",
        "\n",
        "        # Adds another fully connected layer \n",
        "        net = slim.fully_connected(net, net_arch['l2'], normalizer_fn=slim.batch_norm, scope='fc2')                                                \n",
        "        #end_points['fc2'] = net                \n",
        "        net = slim.dropout(net, self.dropout, is_training=self.is_training)\n",
        "\n",
        "        # Adds another fully connected layer \n",
        "        net = slim.fully_connected(net, net_arch['l3'], normalizer_fn=slim.batch_norm, scope='fc3')                                                \n",
        "        #end_points['fc3'] = net \n",
        "        net = slim.dropout(net, self.dropout, is_training=self.is_training)\n",
        "\n",
        "        # Adds another fully connected layer \n",
        "        net = slim.fully_connected(net, net_arch['l4'], normalizer_fn=slim.batch_norm, scope='fc4')                                                \n",
        "        #end_points['fc4'] = net \n",
        "        net = slim.dropout(net, self.dropout, is_training=self.is_training)\n",
        "\n",
        "        # MR output\n",
        "        MR_predictions = slim.fully_connected(net, net_arch['mr_output'], \n",
        "                                              normalizer_fn=slim.batch_norm, scope='MR_prediction')               \n",
        "        #end_points['out'] = MR_predictions            \n",
        "        return MR_predictions #Later also return end_points \n",
        "    \n",
        "    # Auxilary branch for demographics, genetics, and clinical attributes\n",
        "    def auxnet(self):\n",
        "      distance_vec  = tf.concat([self.branch_L,self.branch_R],1,name='MR_embed_concat')\n",
        "      distance_vec_mod = tf.multiply(distance_vec,self.aux_gen)\n",
        "      distance_vec_mod_aux = tf.concat([distance_vec_mod,self.aux_clinical],1)\n",
        "      \n",
        "      with tf.name_scope('aux_layers'):\n",
        "        aux_predictions = slim.fully_connected(distance_vec_mod_aux, net_arch['aux_output'],\n",
        "                                               activation_fn=tf.nn.relu, \n",
        "                                               weights_regularizer=slim.l2_regularizer(net_arch['reg']),\n",
        "                                               normalizer_fn=slim.batch_norm) \n",
        "        #aux_predictions = slim.dropout(net, self.dropout, is_training=is_training)\n",
        "        return aux_predictions\n",
        "        \n",
        "    def get_predictions(self):\n",
        "      if self.use_aux:\n",
        "        embed_vec = self.auxnet()\n",
        "      else:\n",
        "        embed_vec = tf.concat([self.branch_L,self.branch_R],1,name='MR_embed_concat')\n",
        "        \n",
        "      penult_predict = slim.fully_connected(embed_vec, net_arch['output'], activation_fn=tf.nn.softmax, \n",
        "                                           normalizer_fn=slim.batch_norm, scope='aux_prediction')\n",
        "      return penult_predict\n",
        "    \n",
        "    #-------------- net with basic/raw TF code (without slim) --------------#\n",
        "    #-------------- not used when slim is used -----------------------------#\n",
        "    def mlpnet(self, X):\n",
        "      l1 = self.mlp(X,layer_config['input_shape'],layer_config['l1'],name='l1')\n",
        "      l1 = tf.nn.dropout(l1,self.dropout)\n",
        "      l2 = self.mlp(l1,layer_config['l1'],layer_config['l2'],name='l2')\n",
        "      l2 = tf.nn.dropout(l2,self.dropout_f)\n",
        "      l3 = self.mlp(l2,layer_config['l2'],layer_config['l3'],name='l3')\n",
        "      l3 = tf.nn.dropout(l3,self.dropout)\n",
        "      l4 = self.mlp(l3,layer_config['l3'],layer_config['l4'],name='l4')\n",
        "      l4 = tf.nn.dropout(l4,self.dropout)\n",
        "      output = self.mlp(l4,layer_config['l4'],layer_config['output'],name='output')\n",
        "      return output\n",
        "      \n",
        "    def mlp(self, input_,input_dim,output_dim,name=\"mlp\"):\n",
        "      with tf.variable_scope(name):\n",
        "        w = tf.get_variable('w',[input_dim,output_dim],tf.float32,tf.random_normal_initializer(mean = 0.001,stddev=0.02))            \n",
        "        b = tf.get_variable('b',[output_dim],tf.float32,tf.constant_initializer(0.1))\n",
        "        return tf.nn.relu(tf.matmul(input_,w)+b)   \n",
        "    #-----------------------------------------------------------------------#\n",
        "   \n",
        "    # Set methods class variables\n",
        "    def set_dropout(self, dropout):\n",
        "      self.dropout = dropout\n",
        "      \n",
        "    def set_aux(self, use_aux):\n",
        "      self.use_aux = use_aux\n",
        "      \n",
        "    def set_train_mode(self,is_training):  \n",
        "      self.is_training = is_training\n",
        "      \n",
        "    # Get methods for loss and acc  \n",
        "    def get_loss(self):            \n",
        "      return tf.reduce_mean(tf.nn.softmax_cross_entropy_with_logits(labels=self.labels,logits=self.preds)) \n",
        "\n",
        "    def get_accuracy(self):\n",
        "      correct_preds = tf.equal(tf.argmax(self.labels,1), tf.argmax(self.preds,1))\n",
        "      return tf.reduce_mean(tf.cast(correct_preds, tf.float32)) \n",
        "       \n",
        "    \n",
        "# Other helper functions\n",
        "def next_batch(s,e,mr_inputs,aux_inputs,labels):\n",
        "    input1 = mr_inputs[s:e,0]\n",
        "    input2 = mr_inputs[s:e,1]        \n",
        "    input3 = aux_inputs[s:e,:]\n",
        "    y = np.reshape(labels[s:e],(len(range(s,e)),2))    \n",
        "    return input1,input2,input3,y\n",
        "  \n",
        "def create_pairs(x, digit_indices):\n",
        "    '''Positive and negative pair creation.\n",
        "    Alternates between positive and negative pairs.\n",
        "    '''\n",
        "    pairs = []\n",
        "    labels = []\n",
        "    left_digits = []\n",
        "    right_digits = []\n",
        "    n = min([len(digit_indices[d]) for d in range(10)]) - 1\n",
        "    for d in range(10):\n",
        "        for i in range(n):\n",
        "            z1, z2 = digit_indices[d][i], digit_indices[d][i+1]\n",
        "            pairs += [[x[z1], x[z2]]]            \n",
        "            left_digits.append(d)\n",
        "            right_digits.append(d)            \n",
        "            inc = random.randrange(1, 10)\n",
        "            dn = (d + inc) % 10\n",
        "            z1, z2 = digit_indices[d][i], digit_indices[dn][i]\n",
        "            pairs += [[x[z1], x[z2]]]\n",
        "            labels += [1, 0]\n",
        "            left_digits.append(d)\n",
        "            right_digits.append(dn)\n",
        "    return np.array(pairs), np.array(labels), np.array(left_digits), np.array(right_digits)\n"
      ],
      "execution_count": 0,
      "outputs": []
    },
    {
      "metadata": {
        "id": "XnqTuSoiVqa-",
        "colab_type": "code",
        "colab": {
          "autoexec": {
            "startup": false,
            "wait_interval": 0
          },
          "base_uri": "https://localhost:8080/",
          "height": 51
        },
        "outputId": "3c4b3afc-c9c9-46de-bd00-aef25590a921",
        "executionInfo": {
          "status": "ok",
          "timestamp": 1528840298658,
          "user_tz": 240,
          "elapsed": 227,
          "user": {
            "displayName": "Nikhil Bhagwat",
            "photoUrl": "//lh4.googleusercontent.com/-rmY3GxNQ0TY/AAAAAAAAAAI/AAAAAAAAEdE/SePqq1Clrc4/s50-c-k-no/photo.jpg",
            "userId": "104945077116245412065"
          }
        }
      },
      "cell_type": "code",
      "source": [
        "lr = 0.001\n",
        "n_epochs = 10\n",
        "batch_size = 128\n",
        "dropout = 0.5\n",
        "net_arch = {'input_shape':100,'l1':100,'l2':100,'l3':100,'l4':100,'mr_output':10,\n",
        "            'aux_clinical_shape':4,'aux_output':5,'output':2,'reg':0.01}\n",
        "sampx = 10000\n",
        "X_MR_train = np.random.rand(sampx,2,100)\n",
        "X_aux_train = np.random.rand(sampx,5)\n",
        "y_train = np.vstack((np.random.rand(sampx) > 0.5, np.random.rand(sampx) <= 0.5)).T\n",
        "\n",
        "X_MR_test = np.random.rand(int(sampx/10),2,100)\n",
        "X_aux_test = np.random.rand(int(sampx/10),5)\n",
        "y_test = np.vstack((np.random.rand(int(sampx/10)) > 0.5, np.random.rand(int(sampx/10)) <= 0.5)).T\n",
        "\n",
        "total_batch = int(y_train.shape[0]/batch_size)\n",
        "\n",
        "print('shapes of X_MR_train:{}, X_aux_train:{}, y_train:{}, \\n\\t X_MR_test:{}, X_aux_test:{}, y_test:{}'.format(X_MR_train.shape,X_aux_train.shape,y_train.shape,X_MR_test.shape,X_aux_train.shape,y_test.shape)) "
      ],
      "execution_count": 10,
      "outputs": [
        {
          "output_type": "stream",
          "text": [
            "shapes of X_MR_train:(10000, 2, 100), X_aux_train:(10000, 5), y_train:(10000, 2), \n",
            "\t X_MR_test:(1000, 2, 100), X_aux_test:(10000, 5), y_test:(1000, 2)\n"
          ],
          "name": "stdout"
        }
      ]
    },
    {
      "metadata": {
        "id": "ykpbbpRMha_r",
        "colab_type": "code",
        "colab": {
          "autoexec": {
            "startup": false,
            "wait_interval": 0
          }
        }
      },
      "cell_type": "code",
      "source": [
        "# Train and test defs\n",
        "def train_lsn(sess, lsn, data, n_epochs, batch_size, dropout):\n",
        "  # Training cycle\n",
        "  for epoch in range(n_epochs):\n",
        "      avg_loss = 0.\n",
        "      avg_acc = 0.\n",
        "\n",
        "      X_MR_train = data['X_MR_train']\n",
        "      X_aux_train = data['X_aux_train']\n",
        "      y_train = data['y_train']\n",
        "      \n",
        "      start_time = time.time()\n",
        "\n",
        "      # Loop over all batches\n",
        "      for i in range(total_batch):\n",
        "          s  = i * batch_size\n",
        "          e = (i+1) *batch_size\n",
        "\n",
        "          # Fit training using batch data\n",
        "          MR_L_batch,MR_R_batch,aux_batch,y_batch = next_batch(s,e,X_MR_train,X_aux_train,y_train)\n",
        "\n",
        "          #print(input1.shape, input2.shape, y.shape)                \n",
        "\n",
        "          # Train pass\n",
        "          lsn.set_dropout(dropout)\n",
        "          _,distance,preds,loss_value,acc_value=sess.run([optimizer,lsn.distance,lsn.preds,lsn.loss,lsn.accuracy], \n",
        "                                        feed_dict={lsn.input_L:MR_L_batch,\n",
        "                                                   lsn.input_R:MR_R_batch,\n",
        "                                                   lsn.aux_gen:aux_batch[:,0:1],\n",
        "                                                   lsn.aux_clinical:aux_batch[:,1:],\n",
        "                                                   lsn.labels:y_batch})                \n",
        "\n",
        "          #tr_acc = compute_accuracy(predict,y)\n",
        "          #print(tr_acc)\n",
        "\n",
        "          avg_loss += loss_value\n",
        "          avg_acc +=acc_value*100\n",
        "\n",
        "      # Compute preds and metrics for entire train data\n",
        "      train_feature_1 = lsn.branch_L.eval(feed_dict={lsn.input_L:X_MR_train[:,0,:]})\n",
        "      train_feature_2 = lsn.branch_R.eval(feed_dict={lsn.input_R:X_MR_train[:,1,:]})    \n",
        "      train_preds= lsn.preds.eval(feed_dict={lsn.input_L:X_MR_train[:,0,:],lsn.input_R:X_MR_train[:,1,:],\n",
        "                                      lsn.aux_gen:X_aux_train[:,0:1],lsn.aux_clinical:X_aux_train[:,1:]})\n",
        "      \n",
        "      train_metrics = {'train_feature_1':train_feature_1,'train_feature_2':train_feature_2,'train_preds':train_preds}\n",
        "      duration = time.time() - start_time\n",
        "      print('epoch %d  time: %.2f loss %0.4f acc %0.2f' %(epoch,duration,avg_loss/(total_batch),avg_acc/total_batch))      \n",
        "      \n",
        "  return lsn, train_metrics\n",
        "\n",
        "def test_lsn(sess,lsn,data):\n",
        "  print('Testing model')    \n",
        "  lsn.set_dropout(1)\n",
        "  lsn.set_train_mode(False) \n",
        "  X_MR_test = data['X_MR_test']\n",
        "  X_aux_test = data['X_aux_test']\n",
        "  y_test = data['y_test']\n",
        "  #print(lsn.dropout)\n",
        "  \n",
        "  test_feature_1 = lsn.branch_L.eval(feed_dict={lsn.input_L:X_MR_test[:,0,:]})\n",
        "  test_feature_2 = lsn.branch_R.eval(feed_dict={lsn.input_R:X_MR_test[:,1,:]})\n",
        "\n",
        "  test_preds = lsn.preds.eval(feed_dict={lsn.input_L:X_MR_test[:,0,:],lsn.input_R:X_MR_test[:,1,:],\n",
        "                                      lsn.aux_gen:X_aux_test[:,0:1],lsn.aux_clinical:X_aux_test[:,1:]})\n",
        "  test_acc = lsn.accuracy.eval(feed_dict={lsn.input_L:X_MR_test[:,0,:],lsn.input_R:X_MR_test[:,1,:],\n",
        "                                       lsn.aux_gen:X_aux_test[:,0:1],lsn.aux_clinical:X_aux_test[:,1:],\n",
        "                                       lsn.labels:y_test})\n",
        "\n",
        "  test_metrics = {'test_feature_1':test_feature_1,'test_feature_2':test_feature_2,'test_preds':test_preds}\n",
        "  print('Accuract test set %0.2f' % (100 * test_acc))\n",
        "  return lsn, test_metrics\n"
      ],
      "execution_count": 0,
      "outputs": []
    },
    {
      "metadata": {
        "id": "tvUx-7fivyzv",
        "colab_type": "code",
        "colab": {
          "autoexec": {
            "startup": false,
            "wait_interval": 0
          },
          "base_uri": "https://localhost:8080/",
          "height": 255
        },
        "outputId": "19206834-9e07-496f-e105-2e32871e0b0b",
        "executionInfo": {
          "status": "ok",
          "timestamp": 1528840682828,
          "user_tz": 240,
          "elapsed": 7752,
          "user": {
            "displayName": "Nikhil Bhagwat",
            "photoUrl": "//lh4.googleusercontent.com/-rmY3GxNQ0TY/AAAAAAAAAAI/AAAAAAAAEdE/SePqq1Clrc4/s50-c-k-no/photo.jpg",
            "userId": "104945077116245412065"
          }
        }
      },
      "cell_type": "code",
      "source": [
        "tf.reset_default_graph()\n",
        "with tf.Session(config=tf.ConfigProto(log_device_placement=True)) as sess:\n",
        "    lsn = siamese_net(net_arch)\n",
        "    optimizer = tf.train.AdamOptimizer(learning_rate = lr).minimize(lsn.loss)\n",
        "    #sess.run(init)\n",
        "    tf.global_variables_initializer().run()\n",
        "\n",
        "    cur_time = datetime.time(datetime.now())\n",
        "    print('Start training time: {}'.format(cur_time))\n",
        "    \n",
        "    # Train model\n",
        "    data = {'X_MR_train':X_MR_train,'X_aux_train':X_aux_train,'y_train':y_train}\n",
        "    lsn, train_metrics = train_lsn(sess, lsn, data, n_epochs, batch_size, dropout)\n",
        "       \n",
        "    cur_time = datetime.time(datetime.now())\n",
        "    print('End training time: {}'.format(cur_time))      \n",
        "    \n",
        "    # Test model      \n",
        "    data = {'X_MR_test':X_MR_test,'X_aux_test':X_aux_test,'y_test':y_test}\n",
        "    _,test_metrics = test_lsn(sess,lsn,data)"
      ],
      "execution_count": 19,
      "outputs": [
        {
          "output_type": "stream",
          "text": [
            "Start training time: 21:57:56.203134\n",
            "epoch 0  time: 0.81 loss 0.7133 acc 48.76\n",
            "epoch 1  time: 0.61 loss 0.6716 acc 56.25\n",
            "epoch 2  time: 0.62 loss 0.6503 acc 58.93\n",
            "epoch 3  time: 0.62 loss 0.6321 acc 60.75\n",
            "epoch 4  time: 0.62 loss 0.6187 acc 62.43\n",
            "epoch 5  time: 0.61 loss 0.6100 acc 63.57\n",
            "epoch 6  time: 0.61 loss 0.6006 acc 64.90\n",
            "epoch 7  time: 0.62 loss 0.5956 acc 65.72\n",
            "epoch 8  time: 0.62 loss 0.5901 acc 66.60\n",
            "epoch 9  time: 0.61 loss 0.5844 acc 67.09\n",
            "End training time: 21:58:02.558718\n",
            "Testing model\n",
            "Accuract test set 47.80\n"
          ],
          "name": "stdout"
        }
      ]
    },
    {
      "metadata": {
        "id": "2IA_YZkNHaVy",
        "colab_type": "code",
        "colab": {
          "autoexec": {
            "startup": false,
            "wait_interval": 0
          },
          "base_uri": "https://localhost:8080/",
          "height": 369
        },
        "outputId": "e1887ebe-0589-468d-e11d-fba4c20d3895",
        "executionInfo": {
          "status": "ok",
          "timestamp": 1528842134159,
          "user_tz": 240,
          "elapsed": 799,
          "user": {
            "displayName": "Nikhil Bhagwat",
            "photoUrl": "//lh4.googleusercontent.com/-rmY3GxNQ0TY/AAAAAAAAAAI/AAAAAAAAEdE/SePqq1Clrc4/s50-c-k-no/photo.jpg",
            "userId": "104945077116245412065"
          }
        }
      },
      "cell_type": "code",
      "source": [
        "#Plot embeddings\n",
        "train_features = train_metrics['train_preds']\n",
        "test_features = test_metrics['test_preds']\n",
        "\n",
        "plt.style.use('seaborn-white')\n",
        "\n",
        "train_df = pd.DataFrame(columns=['x','y','labels','subset'])\n",
        "test_df = pd.DataFrame(columns=['x','y','labels','subset'])\n",
        "train_df['x'] = train_features[:,0] \n",
        "train_df['y'] = train_features[:,1] \n",
        "train_df['labels'] = y_train\n",
        "train_df['subset'] = np.tile('train',len(y_train))\n",
        "test_df['x'] = test_features[:,0] \n",
        "test_df['y'] = test_features[:,1] \n",
        "test_df['labels'] = y_test\n",
        "test_df['subset'] = np.tile('test',len(y_test))\n",
        "plot_df = train_df.append(test_df)\n",
        "sns.lmplot(x='x',y='y',hue='labels',col='subset',fit_reg=False, markers='.',data=plot_df);\n",
        "\n",
        "\n",
        "\n",
        "\n",
        "\n"
      ],
      "execution_count": 46,
      "outputs": [
        {
          "output_type": "display_data",
          "data": {
            "image/png": "[encoded data removed]",
            "text/plain": [
              "<matplotlib.figure.Figure at 0x7fbd5ae9e128>"
            ]
          },
          "metadata": {
            "tags": []
          }
        }
      ]
    },
    {
      "metadata": {
        "id": "U8wXCjSS4AwS",
        "colab_type": "code",
        "colab": {
          "autoexec": {
            "startup": false,
            "wait_interval": 0
          }
        }
      },
      "cell_type": "code",
      "source": [
        ""
      ],
      "execution_count": 0,
      "outputs": []
    },
    {
      "metadata": {
        "id": "N6VZGx8n8Y1O",
        "colab_type": "code",
        "colab": {
          "autoexec": {
            "startup": false,
            "wait_interval": 0
          }
        }
      },
      "cell_type": "code",
      "source": [
        ""
      ],
      "execution_count": 0,
      "outputs": []
    }
  ]
}