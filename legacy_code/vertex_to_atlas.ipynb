{
 "cells": [
  {
   "cell_type": "code",
   "execution_count": 1,
   "metadata": {},
   "outputs": [],
   "source": [
    "# Basic lib imports\n",
    "import numpy as np\n",
    "import pandas as pd \n",
    "import matplotlib.pyplot as plt\n",
    "from scipy import stats\n",
    "import seaborn as sns"
   ]
  },
  {
   "cell_type": "code",
   "execution_count": 8,
   "metadata": {},
   "outputs": [],
   "source": [
    "#AAL atlas paths\n",
    "AAL_LEFT = '/opt/quarantine/CIVET/1.1.12/build/CIVET-1.1.12/models/AAL_atlas_left.txt'\n",
    "AAL_RIGHT = '/opt/quarantine/CIVET/1.1.12/build/CIVET-1.1.12/models/AAL_atlas_right.txt'\n",
    "\n",
    "AAL_lowres_threshold = 40962"
   ]
  },
  {
   "cell_type": "code",
   "execution_count": 9,
   "metadata": {},
   "outputs": [],
   "source": [
    "# Return mean thickness per ROI for a given subject-vertex data\n",
    "def apply_atlas(atlas_data,sub_data):\n",
    "    assert len(atlas_data) == len(sub_data)\n",
    "    label_set = np.unique(atlas_data)\n",
    "    \n",
    "    # mask subject data with atlas\n",
    "    sub_roi_dict = {}\n",
    "    for label in label_set:\n",
    "        sub_roi_dist = sub_data[atlas_data==label]\n",
    "        sub_roi_dict[label] = np.mean(sub_roi_dist)\n",
    "        \n",
    "    return sub_roi_dict"
   ]
  },
  {
   "cell_type": "code",
   "execution_count": 10,
   "metadata": {},
   "outputs": [
    {
     "name": "stdout",
     "output_type": "stream",
     "text": [
      "# of unique labels: 40, max label: 89, min label: 0\n"
     ]
    }
   ],
   "source": [
    "# Read atlas file\n",
    "atlas_data = pd.read_csv(AAL_LEFT,header=None).values[:AAL_lowres_threshold]\n",
    "label_set = np.unique(atlas_data)\n",
    "print('# of unique labels: {}, max label: {}, min label: {}'.format(len(label_set),np.max(atlas_data),np.min(atlas_data)))\n",
    "\n",
    "# Read subject file\n",
    "subject_dir = '/data/chamal/projects/nikhil/data/ASD_ML/data/armin_data/civet_out/mallar_all/'\n",
    "sub_file = '02493/thickness/nih_chp_02493_native_rms_rsl_tlink_30mm_left.txt'\n",
    "sub_data = pd.read_csv(subject_dir + sub_file,header=None).values\n",
    "\n",
    "sub_roi_dict = apply_atlas(atlas_data,sub_data)\n",
    "\n",
    "# TODO\n",
    "# convert to df so we can append multiple subjects"
   ]
  },
  {
   "cell_type": "code",
   "execution_count": null,
   "metadata": {},
   "outputs": [],
   "source": []
  }
 ],
 "metadata": {
  "kernelspec": {
   "display_name": "Python 3",
   "language": "python",
   "name": "python3"
  },
  "language_info": {
   "codemirror_mode": {
    "name": "ipython",
    "version": 3
   },
   "file_extension": ".py",
   "mimetype": "text/x-python",
   "name": "python",
   "nbconvert_exporter": "python",
   "pygments_lexer": "ipython3",
   "version": "3.5.5"
  }
 },
 "nbformat": 4,
 "nbformat_minor": 2
}
