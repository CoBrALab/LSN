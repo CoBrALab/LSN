{
 "cells": [
  {
   "cell_type": "markdown",
   "metadata": {},
   "source": [
    "# Prognositc (trajectory prediction) performance of baseline ML models\n",
    "\n",
    "* **Objectives:** \n",
    "    1. Predict Trajectory classes based on previously trained models (only MMSE based trajectories) \n",
    "\n",
    "\n",
    "* **Timepoints:**\n",
    "    1. baseline (bl)\n",
    "    2. baseline + follow-up (var_tp: since second tp can be from varying interval)\n",
    "\n",
    "\n",
    "* **Input modalities:**\n",
    "    1. clinical features (CS)\n",
    "    2. structural features (CT)    \n",
    "    3. both (CS+CT)\n",
    "\n",
    "\n",
    "* **Models:** (10 model instances (per fold) are saved for each input combination)\n",
    "    1. Logistic regression (Lasso)\n",
    "    2. SVM\n",
    "    3. Random Forest\n",
    "    4. ANN\n",
    "    5. LSM\n",
    "    "
   ]
  },
  {
   "cell_type": "code",
   "execution_count": 3,
   "metadata": {},
   "outputs": [],
   "source": [
    "# Basic Imports\n",
    "import numpy as np\n",
    "import pandas as pd\n",
    "from scipy import stats\n",
    "import pickle\n",
    "import re\n",
    "import collections\n",
    "#import tables as tb\n",
    "from math import isnan\n",
    "import matplotlib.pyplot as plt\n",
    "import seaborn as sns\n",
    "from sklearn import preprocessing\n",
    "from sklearn.cross_validation import StratifiedKFold\n",
    "from sklearn.cross_validation import KFold\n",
    "\n",
    "%matplotlib inline\n",
    "#plt.rcParams['figure.figsize'] = (15, 10)\n",
    "import warnings; warnings.simplefilter('ignore') #to ignore old sKF iterator warning not used in this notebook"
   ]
  },
  {
   "cell_type": "markdown",
   "metadata": {},
   "source": [
    "# Naming:\n",
    "    1. tp_name in ['bl','var_tp']\n",
    "    2. modality in ['CS','CT','CS_CT']\n",
    "    3. model in ['RFC','SVC','LR_L1','ANN','LSN']\n",
    "    \n",
    "# Order of variables\n",
    "    1. ['CS(bl,tp)','AGE','APOE4', CT(bl,tp)]\n",
    "    2. CT ROI order is grabbed from an exp_setup file"
   ]
  },
  {
   "cell_type": "code",
   "execution_count": 4,
   "metadata": {
    "scrolled": true
   },
   "outputs": [],
   "source": [
    "# Data dirs\n",
    "model_dir = '/data/chamal/projects/nikhil/data/Traj_prediction/trained_models/'\n",
    "project_dir = '/data/chamal/projects/nikhil/data/ADB/'\n",
    "adb_civet_dir = '{}/civet/'.format(project_dir)\n",
    "\n",
    "#To grab order of CT ROIs\n",
    "AAL_roi_names = '{}/AAL_ROI_names_number_map.txt'.format(project_dir)\n",
    "sample_exp_setup_path = '{}/Exp_502_ALL_ADNI_traj_MMSE_tp_var_tp_sample_setup_grab_CT_order.pkl'.format(project_dir)\n"
   ]
  },
  {
   "cell_type": "code",
   "execution_count": 5,
   "metadata": {
    "scrolled": true
   },
   "outputs": [],
   "source": [
    "# Create ordered CT ROIs\n",
    "exp_setup = pd.read_pickle(sample_exp_setup_path)\n",
    "df = exp_setup['df']\n",
    "ct_cols_bl = list(df.columns[pd.Series(df.columns).str.contains('CT_bl')])\n",
    "ct_cols_tp = list(df.columns[pd.Series(df.columns).str.contains('CT_var_tp')])\n",
    "#ct_cols\n",
    "\n",
    "# roi - name map\n",
    "aal_roi_names = pd.read_csv(AAL_roi_names,delimiter='\\'',header=None)\n",
    "aal_roi_names = aal_roi_names[[0,1,3]]\n",
    "aal_roi_names.columns = ['id','roi','name']\n",
    "aal_roi_names['roi'] = aal_roi_names['roi']+'_CT_bl'\n",
    "aal_roi_names_dict = dict(zip((aal_roi_names['id'].astype(str)), aal_roi_names['roi']))\n",
    "aal_roi_names_dict['0_x'] = 'background_L'\n",
    "aal_roi_names_dict['0_y'] = 'background_R'"
   ]
  },
  {
   "cell_type": "code",
   "execution_count": 6,
   "metadata": {},
   "outputs": [],
   "source": [
    "def get_trained_model(model_dir,tp,modality,model,fold):\n",
    "    if model in ['RFC','SVC','LR_L1']:\n",
    "        saved_model_path = '{}/reference_models/baseline_models_tp_{}_{}.pkl'.format(model_dir,tp,modality)\n",
    "    elif model == 'ann': # need to modify this\n",
    "        saved_model_path = '{}/ann_models/'.format(model_dir,tp,modality)\n",
    "    elif model == 'lsn': # need to modify this\n",
    "        saved_model_path = '{}/lsn_models/'.format(model_dir,tp,modality)\n",
    "    else:\n",
    "        print('unknown model')\n",
    "    saved_model_data = pd.read_pickle(saved_model_path)\n",
    "    \n",
    "    # grab the scaler and classifier from the pickle\n",
    "    if model in ['SVC']:\n",
    "        scaler = saved_model_data[model]['scaler_list'][fold]\n",
    "    else:\n",
    "        scaler = []\n",
    "    clf = saved_model_data[model]['parallel_result'][fold]['clf']\n",
    "    #feat_imp = saved_model_data[model]['parallel_result'][fold]['feat_imp']\n",
    "    #print('required input shape: {}'.format(feat_imp.shape))\n",
    "    \n",
    "    return scaler, clf\n",
    "\n",
    "def read_AAL_summary(subject_dir,sub_idx):\n",
    "    # Subject naming: ADB_0226_AAL_lobe_thickness_tlaplace_30mm_left.dat    \n",
    "    subject_file = subject_dir + 'ADB_{}_AAL_lobe_thickness_tlaplace_30mm_{}.dat'\n",
    "    sub_df = pd.DataFrame(columns=['ROI','value'])\n",
    "    for hemi in ['left','right']:\n",
    "        df = pd.read_csv(subject_file.format(sub_idx,hemi),header=1,delim_whitespace=True)    \n",
    "        df = df[['#','Label']]\n",
    "        df.rename(columns={'#':'ROI','Label':'value'},inplace=True)\n",
    "        df = df[df['ROI']!='Total']        \n",
    "        df = df[df['ROI']!='0']        \n",
    "        sub_df = sub_df.append(df)\n",
    "    \n",
    "    sub_df_T = sub_df.set_index('ROI').T    \n",
    "    sub_df_T['sub_idx'] = 'ADB{}'.format(sub_idx)\n",
    "    return sub_df_T\n"
   ]
  },
  {
   "cell_type": "markdown",
   "metadata": {},
   "source": [
    "# Read clinical data\n",
    "- this is for entire cohort"
   ]
  },
  {
   "cell_type": "code",
   "execution_count": 109,
   "metadata": {
    "scrolled": true
   },
   "outputs": [
    {
     "name": "stdout",
     "output_type": "stream",
     "text": [
      "number of subjects: 208\n",
      "number of subjects with demograph not missing: 208\n",
      "number of subjects: 107\n",
      "number of subjects with apoe status not missing: 107\n",
      "number of subjects: 203\n",
      "number of subjects with mmse not missing: 191\n"
     ]
    }
   ],
   "source": [
    "# Read demo data\n",
    "adb_demo = pd.read_csv('{}/csv/ADB_scanqc_2018-07-05_ST.csv'.format(project_dir))\n",
    "adb_demo.rename(columns={'ID':'sub_idx'},inplace=True)\n",
    "_,adb_demo['sub_number'] = adb_demo['sub_idx'].str.split('B', 1).str\n",
    "print('number of subjects: {}'.format(len(adb_demo)))\n",
    "adb_demo.dropna(inplace=True)\n",
    "print('number of subjects with demograph not missing: {}'.format(len(adb_demo)))\n",
    "\n",
    "# Read apoe4 data\n",
    "adb_apoe = pd.read_csv('{}/csv/adb_apoestatus.csv'.format(project_dir))\n",
    "adb_apoe.rename(columns={'subject':'sub_idx'},inplace=True)\n",
    "adb_apoe = adb_apoe[~adb_apoe['apoe_genotype'].isnull()]\n",
    "adb_apoe['apoe_A'],adb_apoe['apoe_B'] = adb_apoe['apoe_genotype'].str.split('-', 1).str\n",
    "adb_apoe['apoe_A4'] = 0\n",
    "adb_apoe['apoe_B4'] = 0\n",
    "adb_apoe.loc[adb_apoe['apoe_A']=='4','apoe_A4'] = 1\n",
    "adb_apoe.loc[adb_apoe['apoe_B']=='4','apoe_B4'] = 1\n",
    "adb_apoe['APOE_status'] = adb_apoe['apoe_A4'] + adb_apoe['apoe_B4']\n",
    "print('number of subjects: {}'.format(len(adb_apoe)))\n",
    "adb_apoe.dropna(inplace=True)\n",
    "print('number of subjects with apoe status not missing: {}'.format(len(adb_apoe)))\n",
    "\n",
    "# Read MMSE data\n",
    "# use 'total_world_man':'mmse_world' to be similar to ADNI\n",
    "adb_mmse = pd.read_csv('{}/csv/ADB_MMSE_grant_2017-03-24.csv'.format(project_dir))\n",
    "adb_mmse.rename(columns={'subject_ID':'sub_idx','mmse_total_world':'mmse_world'},inplace=True)\n",
    "print('number of subjects: {}'.format(len(adb_mmse)))\n",
    "adb_mmse.dropna(inplace=True)\n",
    "adb_mmse = adb_mmse[(adb_mmse['mmse_world']>0)&(adb_mmse['mmse_world']<=30)]\n",
    "print('number of subjects with mmse not missing: {}'.format(len(adb_mmse)))"
   ]
  },
  {
   "cell_type": "markdown",
   "metadata": {},
   "source": [
    "# Read civet data\n",
    "- this is per subject"
   ]
  },
  {
   "cell_type": "code",
   "execution_count": 110,
   "metadata": {
    "scrolled": true
   },
   "outputs": [
    {
     "name": "stdout",
     "output_type": "stream",
     "text": [
      "number of subjects: 180\n"
     ]
    }
   ],
   "source": [
    "# CIVET 2.1\n",
    "# civet_df_concat = pd.DataFrame()\n",
    "\n",
    "# for sub_idx in adb_demo['sub_number'].values:\n",
    "#     try:\n",
    "#         civet_df = read_AAL_summary(adb_civet_dir,sub_idx)\n",
    "#         if len(civet_df_concat) == 0:\n",
    "#             civet_df_concat = civet_df\n",
    "#         else:\n",
    "#             civet_df_concat = civet_df_concat.append(civet_df)\n",
    "#     except:\n",
    "#         print('subject not found {}'.format(sub_idx))\n",
    "    \n",
    "# civet_df_concat.rename(columns=aal_roi_names_dict,inplace=True)\n",
    "\n",
    "# # ***tmp*** include dummy IPL columns (civet 2.1 has made them obsolete)\n",
    "# civet_df_concat['IPL.L_CT_bl'] = 0\n",
    "# civet_df_concat['IPL.R_CT_bl'] = 0\n",
    "\n",
    "# CIVET 1.12\n",
    "civet_df_concat = pd.read_csv('{}/csv/ADB_civet_AAL.csv'.format(project_dir))\n",
    "civet_df_concat.columns = [str(col) + '_bl' for col in civet_df_concat.columns]\n",
    "civet_df_concat.rename(columns={'Subject_ID_bl':'sub_idx'},inplace=True)\n",
    "civet_df_concat['sub_idx'] = civet_df_concat['sub_idx']\n",
    "\n",
    "# read QC file\n",
    "civet_qc = pd.read_csv('{}/csv/ADB_qc_civet1_12.csv'.format(project_dir))\n",
    "_,civet_qc['sub_idx'] = civet_qc['sub_idx'].str.split('_', 1).str\n",
    "civet_df_concat = pd.merge(civet_df_concat,civet_qc,on='sub_idx',how='inner')\n",
    "civet_df_concat['sub_idx'] = 'ADB'+civet_df_concat['sub_idx']\n",
    "civet_df_concat = civet_df_concat[civet_df_concat['qc']==1]\n",
    "# reorder based on trained model expectations\n",
    "civet_df_concat = civet_df_concat[['sub_idx']+ct_cols_bl]\n",
    "print('number of subjects: {}'.format(len(civet_df_concat)))\n"
   ]
  },
  {
   "cell_type": "markdown",
   "metadata": {},
   "source": [
    "# Merge all input datatypes "
   ]
  },
  {
   "cell_type": "code",
   "execution_count": 111,
   "metadata": {},
   "outputs": [
    {
     "data": {
      "text/plain": [
       "(162, 81)"
      ]
     },
     "execution_count": 111,
     "metadata": {},
     "output_type": "execute_result"
    }
   ],
   "source": [
    "# Create X matrix (order: ['CS(bl,tp)','AGE','APOE4', CT(bl,tp)])\n",
    "input_data = pd.merge(adb_demo,adb_mmse,on='sub_idx',how='inner')\n",
    "input_data = pd.merge(input_data,adb_apoe[['sub_idx','APOE_status']],on='sub_idx',how='left')\n",
    "input_data.fillna(0,inplace=True)\n",
    "input_data = pd.merge(input_data,civet_df_concat,on='sub_idx',how='inner')\n",
    "\n",
    "# TODO # check mmse column with Mallar\n",
    "X = input_data[['mmse_world','age','APOE_status']+ct_cols_bl].values\n",
    "X.shape"
   ]
  },
  {
   "cell_type": "markdown",
   "metadata": {},
   "source": [
    "# Apply model"
   ]
  },
  {
   "cell_type": "code",
   "execution_count": 115,
   "metadata": {
    "scrolled": true
   },
   "outputs": [],
   "source": [
    "tp = 'bl'\n",
    "modality = 'CS_CT'\n",
    "model = 'RFC'\n",
    "#fold = 0\n",
    "\n",
    "pred_df = input_data[['mmse_world','age','APOE_status','group']]\n",
    "for fold in range(10):\n",
    "    scaler, clf = get_trained_model(model_dir,tp,modality,model,fold)\n",
    "\n",
    "    if model in ['SVC']: # LR_L1 didn't make a difference with a scaler\n",
    "        X = scaler.transform(X) \n",
    "\n",
    "    traj_pred = clf.predict_proba(X)[:,1]\n",
    "    pred_df['traj_pred_{}_{}_{}_{}'.format(tp,modality,model,fold)] = traj_pred"
   ]
  },
  {
   "cell_type": "code",
   "execution_count": 116,
   "metadata": {
    "scrolled": true
   },
   "outputs": [],
   "source": [
    "# Aggregate probabilities across folds\n",
    "sum_cols = list(pred_df.columns[pd.Series(pred_df.columns).str.contains('traj_pred_bl_CS_CT_{}'.format(model))])\n",
    "pred_df['probability_of_decline'] = pred_df[sum_cols].sum(axis=1)/len(sum_cols)"
   ]
  },
  {
   "cell_type": "code",
   "execution_count": 117,
   "metadata": {
    "scrolled": true
   },
   "outputs": [],
   "source": [
    "#\n",
    "pred_df['group'].unique()\n",
    "pred_df['group_cat'] = pred_df['group'].replace({'HC':'controls','FAMHX':'mci_variant', 'AD(PCA)':'dementia', 'AD(PPA)':'dementia',\n",
    "                                                 'MCI':'mci_variant','AD(LPA)':'dementia','MCI (ADHD)':'mci_variant',\n",
    "                                                 'AD':'dementia', 'EOAD':'dementia', 'AAD':'dementia',\n",
    "                                                 'AD (EOAD)':'dementia', 'MCI/SCI':'mci_variant', \n",
    "                                                 'SCI':'mci_variant', 'SCI/MCI':'mci_variant'})"
   ]
  },
  {
   "cell_type": "code",
   "execution_count": 128,
   "metadata": {
    "scrolled": false
   },
   "outputs": [
    {
     "data": {
      "image/png": "[encoded data removed]",
      "text/plain": [
       "<Figure size 576x576 with 1 Axes>"
      ]
     },
     "metadata": {},
     "output_type": "display_data"
    }
   ],
   "source": [
    "sns.set(font_scale=2)\n",
    "with sns.axes_style(\"whitegrid\"):\n",
    "    sns.factorplot(x='group_cat',y='probability_of_decline',hue='group_cat',\n",
    "               sharex=True, kind='violin',cut=0,data=pred_df,size=8);"
   ]
  },
  {
   "cell_type": "code",
   "execution_count": 122,
   "metadata": {},
   "outputs": [
    {
     "name": "stdout",
     "output_type": "stream",
     "text": [
      "stable_high_liklihood_count (<20%) :50\n",
      "decline_high_liklihood_count (>80%): 15\n",
      "\n",
      "middle_range_count (20<->80) :97\n",
      "more_than_50_percent_count (>50%): 45\n",
      "\n"
     ]
    }
   ],
   "source": [
    "stable_high_liklihood_count = len(pred_df[pred_df['probability_of_decline']<0.2])\n",
    "decline_high_liklihood_count = len(pred_df[pred_df['probability_of_decline']>0.8])\n",
    "middle_range_count = len(pred_df[(pred_df['probability_of_decline']>0.2)&(pred_df['probability_of_decline']<0.8)])\n",
    "more_than_50_percent_count = len(pred_df[pred_df['probability_of_decline']>0.5])\n",
    "\n",
    "print('stable_high_liklihood_count (<20%) :{}\\ndecline_high_liklihood_count (>80%): {}\\n'.format(stable_high_liklihood_count,\n",
    "                                                                                    decline_high_liklihood_count))\n",
    "print('middle_range_count (20<->80) :{}\\nmore_than_50_percent_count (>50%): {}\\n'.format(middle_range_count,\n",
    "                                                                                    more_than_50_percent_count))"
   ]
  },
  {
   "cell_type": "code",
   "execution_count": null,
   "metadata": {},
   "outputs": [],
   "source": [
    "'FAMHX':'mci_variant', 'AD(PCA)':'dementia', 'AD(PPA)':'dementia',\n",
    "                                                 'MCI':'mci_variant','AD(LPA)':'dementia','MCI (ADHD)':'mci_variant',\n",
    "                                                 'AD':'dementia', 'EOAD':'dementia', 'AAD':'dementia',\n",
    "                                                 'AD (EOAD)':'dementia', 'MCI/SCI':'mci_variant', \n",
    "                                                 'SCI':'mci_variant', 'SCI/MCI':'mci_variant'}\n",
    "                                                        \n",
    "mci_variant: [MCI,FAMHX,MCI (ADHD),MCI/SCI,SCI,SCI/MCI]\n",
    "dementia: [AD(PCA),AD(PPA),AD(LPA),AD,EOAD,AAD,AD (EOAD)]"
   ]
  }
 ],
 "metadata": {
  "kernelspec": {
   "display_name": "Python 3",
   "language": "python",
   "name": "python3"
  },
  "language_info": {
   "codemirror_mode": {
    "name": "ipython",
    "version": 3
   },
   "file_extension": ".py",
   "mimetype": "text/x-python",
   "name": "python",
   "nbconvert_exporter": "python",
   "pygments_lexer": "ipython3",
   "version": "3.5.5"
  }
 },
 "nbformat": 4,
 "nbformat_minor": 2
}
