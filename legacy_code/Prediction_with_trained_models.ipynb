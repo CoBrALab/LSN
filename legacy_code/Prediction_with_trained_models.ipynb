{
 "cells": [
  {
   "cell_type": "markdown",
   "metadata": {},
   "source": [
    "# Prognositc (trajectory prediction) performance of baseline ML models\n",
    "\n",
    "* **Objectives:** \n",
    "    1. Predict Trajectory classes based on previously trained models (only MMSE based trajectories) \n",
    "\n",
    "\n",
    "* **Timepoints:**\n",
    "    1. baseline (bl)\n",
    "    2. baseline + follow-up (var_tp: since second tp can be from varying interval)\n",
    "\n",
    "\n",
    "* **Input modalities:**\n",
    "    1. clinical features (CS)\n",
    "    2. structural features (CT)    \n",
    "    3. both (CS+CT)\n",
    "\n",
    "\n",
    "* **Models:** (10 model instances (per fold) are saved for each input combination)\n",
    "    1. Logistic regression (Lasso)\n",
    "    2. SVM\n",
    "    3. Random Forest\n",
    "    4. ANN\n",
    "    5. LSM\n",
    "    "
   ]
  },
  {
   "cell_type": "code",
   "execution_count": 1,
   "metadata": {},
   "outputs": [
    {
     "name": "stderr",
     "output_type": "stream",
     "text": [
      "/opt/quarantine/anaconda/5.0.1-python3/install/lib/python3.6/site-packages/sklearn/cross_validation.py:41: DeprecationWarning: This module was deprecated in version 0.18 in favor of the model_selection module into which all the refactored classes and functions are moved. Also note that the interface of the new CV iterators are different from that of this module. This module will be removed in 0.20.\n",
      "  \"This module will be removed in 0.20.\", DeprecationWarning)\n"
     ]
    }
   ],
   "source": [
    "# Basic Imports\n",
    "import numpy as np\n",
    "import pandas as pd\n",
    "from scipy import stats\n",
    "import pickle\n",
    "import re\n",
    "import collections\n",
    "#import tables as tb\n",
    "from math import isnan\n",
    "import matplotlib.pyplot as plt\n",
    "import seaborn as sns\n",
    "from sklearn import preprocessing\n",
    "from sklearn.cross_validation import StratifiedKFold\n",
    "from sklearn.cross_validation import KFold\n",
    "\n",
    "%matplotlib inline\n",
    "#plt.rcParams['figure.figsize'] = (15, 10)\n",
    "import warnings; warnings.simplefilter('ignore') #to ignore old sKF iterator warning not used in this notebook"
   ]
  },
  {
   "cell_type": "markdown",
   "metadata": {},
   "source": [
    "# Naming:\n",
    "    1. tp_name in ['bl','var_tp']\n",
    "    2. modality in ['CS','CT','CS_CT']\n",
    "    3. model in ['RFC','SVC','LR_L1','ANN','LSN']"
   ]
  },
  {
   "cell_type": "code",
   "execution_count": 2,
   "metadata": {},
   "outputs": [],
   "source": [
    "# Data dirs\n",
    "model_dir = '/data/chamal/projects/nikhil/data/Traj_prediction/trained_models/'\n",
    "project_dir = '/data/chamal/projects/nikhil/data/ADB/'\n",
    "adb_civet_dir = '{}/civet/'.format(project_dir)"
   ]
  },
  {
   "cell_type": "code",
   "execution_count": 98,
   "metadata": {},
   "outputs": [],
   "source": [
    "def get_trained_model(model_dir,tp,modality,model,fold):\n",
    "    if model in ['RFC','SVC','LR_L1']:\n",
    "        saved_model_path = '{}/reference_models/baseline_models_tp_{}_{}.pkl'.format(model_dir,tp_name,modality)\n",
    "    elif model == 'ann':\n",
    "        saved_model_path = '{}/ann_models/baseline_models_tp_{}_{}.pkl'.format(model_dir,tp_name,modality)\n",
    "    elif model == 'lsn':\n",
    "        saved_model_path = '{}/lsn_models/baseline_models_tp_{}_{}.pkl'.format(model_dir,tp_name,modality)\n",
    "    else:\n",
    "        print('unknown model')\n",
    "    saved_model_data = pd.read_pickle(saved_model_path)\n",
    "    # grab the classifier from the pickle\n",
    "    clf = saved_model_data[model]['parallel_result'][fold]['clf']\n",
    "    feat_imp = saved_model_data[model]['parallel_result'][fold]['feat_imp']\n",
    "    print('required input shape: {}'.format(feat_imp.shape))\n",
    "    \n",
    "    return clf\n",
    "\n",
    "def read_AAL_summary(subject_dir,sub_idx):\n",
    "    # Subject naming: ADB_0226_AAL_lobe_thickness_tlaplace_30mm_left.dat    \n",
    "    subject_file = subject_dir + 'ADB_{}_AAL_lobe_thickness_tlaplace_30mm_{}.dat'\n",
    "    sub_df = pd.DataFrame(columns=['ROI','value'])\n",
    "    for hemi in ['left','right']:\n",
    "        df = pd.read_csv(subject_file.format(sub_idx,hemi),header=1,delim_whitespace=True)    \n",
    "        df = df[['#','Label']]\n",
    "        df.rename(columns={'#':'ROI','Label':'value'},inplace=True)\n",
    "        df = df[df['ROI']!='Total']        \n",
    "        df = df[df['ROI']!='0']        \n",
    "        sub_df = sub_df.append(df)\n",
    "    \n",
    "    sub_df_T = sub_df.set_index('ROI').T    \n",
    "    sub_df_T['sub_idx'] = 'ADB{}'.format(sub_idx)\n",
    "    return sub_df_T\n"
   ]
  },
  {
   "cell_type": "markdown",
   "metadata": {},
   "source": [
    "# Read clinical data\n",
    "- this is for entire cohort"
   ]
  },
  {
   "cell_type": "code",
   "execution_count": 116,
   "metadata": {
    "scrolled": true
   },
   "outputs": [],
   "source": [
    "# Read demo data\n",
    "adb_demo = pd.read_csv('{}/csv/ADB_scanqc_2018-07-05_ST.csv'.format(project_dir))\n",
    "adb_demo.rename(columns={'ID':'sub_idx'},inplace=True)\n",
    "\n",
    "# Read apoe4 data\n",
    "adb_apoe = pd.read_csv('{}/csv/adb_apoestatus.csv'.format(project_dir))\n",
    "adb_apoe.rename(columns={'subject':'sub_idx'},inplace=True)\n",
    "adb_apoe = adb_apoe[~adb_apoe['apoe_genotype'].isnull()]\n",
    "adb_apoe['apoe_A'],adb_apoe['apoe_B'] = adb_apoe['apoe_genotype'].str.split('-', 1).str\n",
    "adb_apoe['apoe_A4'] = 0\n",
    "adb_apoe['apoe_B4'] = 0\n",
    "adb_apoe.loc[adb_apoe['apoe_A']=='4','apoe_A4'] = 1\n",
    "adb_apoe.loc[adb_apoe['apoe_B']=='4','apoe_B4'] = 1\n",
    "adb_apoe['APOE_status'] = adb_apoe['apoe_A4'] + adb_apoe['apoe_B4']\n",
    "\n",
    "# Read MMSE data\n",
    "adb_mmse = pd.read_csv('{}/csv/ADB_MMSE_grant_2017-03-24.csv'.format(project_dir))\n",
    "adb_mmse.rename(columns={'subject_ID':'sub_idx','total_man':'mmse_calc','total_world_man':'mmse_world'},inplace=True)"
   ]
  },
  {
   "cell_type": "markdown",
   "metadata": {},
   "source": [
    "# Read civet data\n",
    "- this is per subject"
   ]
  },
  {
   "cell_type": "code",
   "execution_count": 117,
   "metadata": {
    "collapsed": true
   },
   "outputs": [],
   "source": [
    "sub_idx = '0124'\n",
    "civet_df = read_AAL_summary(adb_civet_dir,sub_idx)"
   ]
  },
  {
   "cell_type": "markdown",
   "metadata": {},
   "source": [
    "# Merge all input datatypes "
   ]
  },
  {
   "cell_type": "code",
   "execution_count": 118,
   "metadata": {},
   "outputs": [
    {
     "name": "stdout",
     "output_type": "stream",
     "text": [
      "(1, 83)\n"
     ]
    },
    {
     "data": {
      "text/html": [
       "<div>\n",
       "<style>\n",
       "    .dataframe thead tr:only-child th {\n",
       "        text-align: right;\n",
       "    }\n",
       "\n",
       "    .dataframe thead th {\n",
       "        text-align: left;\n",
       "    }\n",
       "\n",
       "    .dataframe tbody tr th {\n",
       "        vertical-align: top;\n",
       "    }\n",
       "</style>\n",
       "<table border=\"1\" class=\"dataframe\">\n",
       "  <thead>\n",
       "    <tr style=\"text-align: right;\">\n",
       "      <th></th>\n",
       "      <th>sub_idx</th>\n",
       "      <th>age</th>\n",
       "      <th>sex</th>\n",
       "      <th>group</th>\n",
       "      <th>APOE_status</th>\n",
       "      <th>mmse_calc</th>\n",
       "      <th>mmse_world</th>\n",
       "      <th>1</th>\n",
       "      <th>3</th>\n",
       "      <th>5</th>\n",
       "      <th>...</th>\n",
       "      <th>64</th>\n",
       "      <th>66</th>\n",
       "      <th>68</th>\n",
       "      <th>70</th>\n",
       "      <th>80</th>\n",
       "      <th>82</th>\n",
       "      <th>84</th>\n",
       "      <th>86</th>\n",
       "      <th>88</th>\n",
       "      <th>90</th>\n",
       "    </tr>\n",
       "  </thead>\n",
       "  <tbody>\n",
       "    <tr>\n",
       "      <th>0</th>\n",
       "      <td>ADB0124</td>\n",
       "      <td>74</td>\n",
       "      <td>F</td>\n",
       "      <td>AD</td>\n",
       "      <td>2</td>\n",
       "      <td>21.0</td>\n",
       "      <td>23.0</td>\n",
       "      <td>2.6661</td>\n",
       "      <td>2.8307</td>\n",
       "      <td>2.5833</td>\n",
       "      <td>...</td>\n",
       "      <td>2.7062</td>\n",
       "      <td>2.825</td>\n",
       "      <td>2.7066</td>\n",
       "      <td>2.7154</td>\n",
       "      <td>2.556</td>\n",
       "      <td>2.7519</td>\n",
       "      <td>3.0807</td>\n",
       "      <td>2.828</td>\n",
       "      <td>3.2014</td>\n",
       "      <td>2.812</td>\n",
       "    </tr>\n",
       "  </tbody>\n",
       "</table>\n",
       "<p>1 rows × 83 columns</p>\n",
       "</div>"
      ],
      "text/plain": [
       "   sub_idx  age sex group  APOE_status  mmse_calc  mmse_world       1       3  \\\n",
       "0  ADB0124   74   F    AD            2       21.0        23.0  2.6661  2.8307   \n",
       "\n",
       "        5  ...        64     66      68      70     80      82      84     86  \\\n",
       "0  2.5833  ...    2.7062  2.825  2.7066  2.7154  2.556  2.7519  3.0807  2.828   \n",
       "\n",
       "       88     90  \n",
       "0  3.2014  2.812  \n",
       "\n",
       "[1 rows x 83 columns]"
      ]
     },
     "execution_count": 118,
     "metadata": {},
     "output_type": "execute_result"
    }
   ],
   "source": [
    "input_data = pd.merge(adb_demo,adb_apoe[['sub_idx','APOE_status']],on='sub_idx',how='inner')\n",
    "input_data = pd.merge(input_data,adb_mmse,on='sub_idx',how='inner')\n",
    "input_data = pd.merge(input_data,civet_df,on='sub_idx',how='inner')\n",
    "print(input_data.shape)\n",
    "\n",
    "# Create X matrix\n",
    "# TODO\n",
    "input_data"
   ]
  },
  {
   "cell_type": "markdown",
   "metadata": {},
   "source": [
    "# Try a model"
   ]
  },
  {
   "cell_type": "code",
   "execution_count": 51,
   "metadata": {
    "scrolled": true
   },
   "outputs": [
    {
     "name": "stdout",
     "output_type": "stream",
     "text": [
      "required input shape: (1, 81)\n"
     ]
    }
   ],
   "source": [
    "tp = 'bl'\n",
    "modality = 'CS_CT'\n",
    "model = 'LR_L1'\n",
    "fold = 0\n",
    "\n",
    "clf = get_trained_model(baseline_dir,tp,modality,model,fold)\n",
    "traj_pred = clf.predict(input_data)\n",
    "traj_pred"
   ]
  },
  {
   "cell_type": "code",
   "execution_count": null,
   "metadata": {
    "collapsed": true
   },
   "outputs": [],
   "source": []
  }
 ],
 "metadata": {
  "kernelspec": {
   "display_name": "Python 3",
   "language": "python",
   "name": "python3"
  },
  "language_info": {
   "codemirror_mode": {
    "name": "ipython",
    "version": 3
   },
   "file_extension": ".py",
   "mimetype": "text/x-python",
   "name": "python",
   "nbconvert_exporter": "python",
   "pygments_lexer": "ipython3",
   "version": "3.6.3"
  }
 },
 "nbformat": 4,
 "nbformat_minor": 2
}
