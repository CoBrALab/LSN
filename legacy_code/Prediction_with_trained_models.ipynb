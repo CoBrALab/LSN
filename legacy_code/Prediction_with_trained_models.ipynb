{
 "cells": [
  {
   "cell_type": "markdown",
   "metadata": {},
   "source": [
    "# Prognositc (trajectory prediction) performance of baseline ML models\n",
    "\n",
    "* **Objectives:** \n",
    "    1. Predict Trajectory classes based on previously trained models (only MMSE based trajectories) \n",
    "\n",
    "\n",
    "* **Timepoints:**\n",
    "    1. baseline (bl)\n",
    "    2. baseline + follow-up (var_tp: since second tp can be from varying interval)\n",
    "\n",
    "\n",
    "* **Input modalities:**\n",
    "    1. clinical features (CS)\n",
    "    2. structural features (CT)    \n",
    "    3. both (CS+CT)\n",
    "\n",
    "\n",
    "* **Models:** (10 model instances (per fold) are saved for each input combination)\n",
    "    1. Logistic regression (Lasso)\n",
    "    2. SVM\n",
    "    3. Random Forest\n",
    "    4. ANN\n",
    "    5. LSM\n",
    "    "
   ]
  },
  {
   "cell_type": "code",
   "execution_count": 1,
   "metadata": {},
   "outputs": [
    {
     "name": "stderr",
     "output_type": "stream",
     "text": [
      "/opt/quarantine/anaconda/5.0.1-python3/install/lib/python3.6/site-packages/sklearn/cross_validation.py:41: DeprecationWarning: This module was deprecated in version 0.18 in favor of the model_selection module into which all the refactored classes and functions are moved. Also note that the interface of the new CV iterators are different from that of this module. This module will be removed in 0.20.\n",
      "  \"This module will be removed in 0.20.\", DeprecationWarning)\n"
     ]
    }
   ],
   "source": [
    "# Basic Imports\n",
    "import numpy as np\n",
    "import pandas as pd\n",
    "from scipy import stats\n",
    "import pickle\n",
    "import re\n",
    "import collections\n",
    "#import tables as tb\n",
    "from math import isnan\n",
    "import matplotlib.pyplot as plt\n",
    "import seaborn as sns\n",
    "from sklearn import preprocessing\n",
    "from sklearn.cross_validation import StratifiedKFold\n",
    "from sklearn.cross_validation import KFold\n",
    "\n",
    "%matplotlib inline\n",
    "#plt.rcParams['figure.figsize'] = (15, 10)\n",
    "import warnings; warnings.simplefilter('ignore') #to ignore old sKF iterator warning not used in this notebook"
   ]
  },
  {
   "cell_type": "markdown",
   "metadata": {},
   "source": [
    "# Naming:\n",
    "    1. tp_name in ['bl','var_tp']\n",
    "    2. modality in ['CS','CT','CS_CT']\n",
    "    3. model in ['RFC','SVC','LR_L1','ANN','LSN']\n",
    "    \n",
    "# Order of variables\n",
    "    1. ['CS(bl,tp)','AGE','APOE4', CT(bl,tp)]\n",
    "    2. CT ROI order is grabbed from an exp_setup file"
   ]
  },
  {
   "cell_type": "code",
   "execution_count": 128,
   "metadata": {
    "scrolled": true
   },
   "outputs": [],
   "source": [
    "# Data dirs\n",
    "model_dir = '/data/chamal/projects/nikhil/data/Traj_prediction/trained_models/'\n",
    "project_dir = '/data/chamal/projects/nikhil/data/ADB/'\n",
    "adb_civet_dir = '{}/civet/'.format(project_dir)\n",
    "\n",
    "#To grab order of CT ROIs\n",
    "AAL_roi_names = '{}/AAL_ROI_names_number_map.txt'.format(project_dir)\n",
    "sample_exp_setup_path = '{}/Exp_502_ALL_ADNI_traj_MMSE_tp_var_tp_sample_setup_grab_CT_order.pkl'.format(project_dir)\n"
   ]
  },
  {
   "cell_type": "code",
   "execution_count": 149,
   "metadata": {
    "scrolled": true
   },
   "outputs": [],
   "source": [
    "# Create ordered CT ROIs\n",
    "exp_setup = pd.read_pickle(sample_exp_setup_path)\n",
    "df = exp_setup['df']\n",
    "ct_cols_bl = list(df.columns[pd.Series(df.columns).str.contains('CT_bl')])\n",
    "ct_cols_tp = list(df.columns[pd.Series(df.columns).str.contains('CT_var_tp')])\n",
    "#ct_cols\n",
    "\n",
    "# roi - name map\n",
    "aal_roi_names = pd.read_csv(AAL_roi_names,delimiter='\\'',header=None)\n",
    "aal_roi_names = aal_roi_names[[0,1,3]]\n",
    "aal_roi_names.columns = ['id','roi','name']\n",
    "aal_roi_names['roi'] = aal_roi_names['roi']+'_CT_bl'\n",
    "aal_roi_names_dict = dict(zip((aal_roi_names['id'].astype(str)), aal_roi_names['roi']))\n",
    "aal_roi_names_dict['0_x'] = 'background_L'\n",
    "aal_roi_names_dict['0_y'] = 'background_R'"
   ]
  },
  {
   "cell_type": "code",
   "execution_count": 185,
   "metadata": {},
   "outputs": [],
   "source": [
    "def get_trained_model(model_dir,tp,modality,model,fold):\n",
    "    if model in ['RFC','SVC','LR_L1']:\n",
    "        saved_model_path = '{}/reference_models/baseline_models_tp_{}_{}.pkl'.format(model_dir,tp,modality)\n",
    "    elif model == 'ann': # need to modify this\n",
    "        saved_model_path = '{}/ann_models/'.format(model_dir,tp,modality)\n",
    "    elif model == 'lsn': # need to modify this\n",
    "        saved_model_path = '{}/lsn_models/'.format(model_dir,tp,modality)\n",
    "    else:\n",
    "        print('unknown model')\n",
    "    saved_model_data = pd.read_pickle(saved_model_path)\n",
    "    \n",
    "    # grab the scaler and classifier from the pickle\n",
    "    if model in ['SVC']:\n",
    "        scaler = saved_model_data[model]['scaler_list'][fold]\n",
    "    else:\n",
    "        scaler = []\n",
    "    clf = saved_model_data[model]['parallel_result'][fold]['clf']\n",
    "    feat_imp = saved_model_data[model]['parallel_result'][fold]['feat_imp']\n",
    "    print('required input shape: {}'.format(feat_imp.shape))\n",
    "    \n",
    "    return scaler, clf\n",
    "\n",
    "def read_AAL_summary(subject_dir,sub_idx):\n",
    "    # Subject naming: ADB_0226_AAL_lobe_thickness_tlaplace_30mm_left.dat    \n",
    "    subject_file = subject_dir + 'ADB_{}_AAL_lobe_thickness_tlaplace_30mm_{}.dat'\n",
    "    sub_df = pd.DataFrame(columns=['ROI','value'])\n",
    "    for hemi in ['left','right']:\n",
    "        df = pd.read_csv(subject_file.format(sub_idx,hemi),header=1,delim_whitespace=True)    \n",
    "        df = df[['#','Label']]\n",
    "        df.rename(columns={'#':'ROI','Label':'value'},inplace=True)\n",
    "        df = df[df['ROI']!='Total']        \n",
    "        df = df[df['ROI']!='0']        \n",
    "        sub_df = sub_df.append(df)\n",
    "    \n",
    "    sub_df_T = sub_df.set_index('ROI').T    \n",
    "    sub_df_T['sub_idx'] = 'ADB{}'.format(sub_idx)\n",
    "    return sub_df_T\n"
   ]
  },
  {
   "cell_type": "markdown",
   "metadata": {},
   "source": [
    "# Read clinical data\n",
    "- this is for entire cohort"
   ]
  },
  {
   "cell_type": "code",
   "execution_count": 116,
   "metadata": {
    "scrolled": true
   },
   "outputs": [],
   "source": [
    "# Read demo data\n",
    "adb_demo = pd.read_csv('{}/csv/ADB_scanqc_2018-07-05_ST.csv'.format(project_dir))\n",
    "adb_demo.rename(columns={'ID':'sub_idx'},inplace=True)\n",
    "\n",
    "# Read apoe4 data\n",
    "adb_apoe = pd.read_csv('{}/csv/adb_apoestatus.csv'.format(project_dir))\n",
    "adb_apoe.rename(columns={'subject':'sub_idx'},inplace=True)\n",
    "adb_apoe = adb_apoe[~adb_apoe['apoe_genotype'].isnull()]\n",
    "adb_apoe['apoe_A'],adb_apoe['apoe_B'] = adb_apoe['apoe_genotype'].str.split('-', 1).str\n",
    "adb_apoe['apoe_A4'] = 0\n",
    "adb_apoe['apoe_B4'] = 0\n",
    "adb_apoe.loc[adb_apoe['apoe_A']=='4','apoe_A4'] = 1\n",
    "adb_apoe.loc[adb_apoe['apoe_B']=='4','apoe_B4'] = 1\n",
    "adb_apoe['APOE_status'] = adb_apoe['apoe_A4'] + adb_apoe['apoe_B4']\n",
    "\n",
    "# Read MMSE data\n",
    "adb_mmse = pd.read_csv('{}/csv/ADB_MMSE_grant_2017-03-24.csv'.format(project_dir))\n",
    "adb_mmse.rename(columns={'subject_ID':'sub_idx','total_man':'mmse_calc','total_world_man':'mmse_world'},inplace=True)"
   ]
  },
  {
   "cell_type": "markdown",
   "metadata": {},
   "source": [
    "# Read civet data\n",
    "- this is per subject"
   ]
  },
  {
   "cell_type": "code",
   "execution_count": 148,
   "metadata": {},
   "outputs": [
    {
     "data": {
      "text/html": [
       "<div>\n",
       "<style>\n",
       "    .dataframe thead tr:only-child th {\n",
       "        text-align: right;\n",
       "    }\n",
       "\n",
       "    .dataframe thead th {\n",
       "        text-align: left;\n",
       "    }\n",
       "\n",
       "    .dataframe tbody tr th {\n",
       "        vertical-align: top;\n",
       "    }\n",
       "</style>\n",
       "<table border=\"1\" class=\"dataframe\">\n",
       "  <thead>\n",
       "    <tr style=\"text-align: right;\">\n",
       "      <th>ROI</th>\n",
       "      <th>sub_idx</th>\n",
       "      <th>PreCG.L_CT_bl</th>\n",
       "      <th>PreCG.R_CT_bl</th>\n",
       "      <th>SFGdor.L_CT_bl</th>\n",
       "      <th>SFGdor.R_CT_bl</th>\n",
       "      <th>ORBsup.L_CT_bl</th>\n",
       "      <th>ORBsup.R_CT_bl</th>\n",
       "      <th>MFG.L_CT_bl</th>\n",
       "      <th>MFG.R_CT_bl</th>\n",
       "      <th>ORBmid.L_CT_bl</th>\n",
       "      <th>...</th>\n",
       "      <th>STG.L_CT_bl</th>\n",
       "      <th>STG.R_CT_bl</th>\n",
       "      <th>TPOsup.L_CT_bl</th>\n",
       "      <th>TPOsup.R_CT_bl</th>\n",
       "      <th>MTG.L_CT_bl</th>\n",
       "      <th>MTG.R_CT_bl</th>\n",
       "      <th>TPOmid.L_CT_bl</th>\n",
       "      <th>TPOmid.R_CT_bl</th>\n",
       "      <th>ITG.L_CT_bl</th>\n",
       "      <th>ITG.R_CT_bl</th>\n",
       "    </tr>\n",
       "  </thead>\n",
       "  <tbody>\n",
       "    <tr>\n",
       "      <th>value</th>\n",
       "      <td>ADB0124</td>\n",
       "      <td>2.6661</td>\n",
       "      <td>2.7267</td>\n",
       "      <td>2.8307</td>\n",
       "      <td>2.7755</td>\n",
       "      <td>2.5833</td>\n",
       "      <td>2.4283</td>\n",
       "      <td>2.7453</td>\n",
       "      <td>2.8895</td>\n",
       "      <td>2.5981</td>\n",
       "      <td>...</td>\n",
       "      <td>2.7995</td>\n",
       "      <td>2.7519</td>\n",
       "      <td>3.0018</td>\n",
       "      <td>3.0807</td>\n",
       "      <td>2.9008</td>\n",
       "      <td>2.828</td>\n",
       "      <td>3.0054</td>\n",
       "      <td>3.2014</td>\n",
       "      <td>2.8375</td>\n",
       "      <td>2.812</td>\n",
       "    </tr>\n",
       "  </tbody>\n",
       "</table>\n",
       "<p>1 rows × 79 columns</p>\n",
       "</div>"
      ],
      "text/plain": [
       "ROI    sub_idx  PreCG.L_CT_bl  PreCG.R_CT_bl  SFGdor.L_CT_bl  SFGdor.R_CT_bl  \\\n",
       "value  ADB0124         2.6661         2.7267          2.8307          2.7755   \n",
       "\n",
       "ROI    ORBsup.L_CT_bl  ORBsup.R_CT_bl  MFG.L_CT_bl  MFG.R_CT_bl  \\\n",
       "value          2.5833          2.4283       2.7453       2.8895   \n",
       "\n",
       "ROI    ORBmid.L_CT_bl     ...       STG.L_CT_bl  STG.R_CT_bl  TPOsup.L_CT_bl  \\\n",
       "value          2.5981     ...            2.7995       2.7519          3.0018   \n",
       "\n",
       "ROI    TPOsup.R_CT_bl  MTG.L_CT_bl  MTG.R_CT_bl  TPOmid.L_CT_bl  \\\n",
       "value          3.0807       2.9008        2.828          3.0054   \n",
       "\n",
       "ROI    TPOmid.R_CT_bl  ITG.L_CT_bl  ITG.R_CT_bl  \n",
       "value          3.2014       2.8375        2.812  \n",
       "\n",
       "[1 rows x 79 columns]"
      ]
     },
     "execution_count": 148,
     "metadata": {},
     "output_type": "execute_result"
    }
   ],
   "source": [
    "sub_idx = '0124'\n",
    "civet_df = read_AAL_summary(adb_civet_dir,sub_idx)\n",
    "civet_df.rename(columns=aal_roi_names_dict,inplace=True)\n",
    "\n",
    "# ***tmp*** include dummy IPL columns (civet 2.1 has made them obsolete)\n",
    "civet_df['IPL.L_CT_bl'] = 0\n",
    "civet_df['IPL.R_CT_bl'] = 0\n",
    "\n",
    "# reorder based on trained model expectations\n",
    "civet_df = civet_df[['sub_idx']+ct_cols_bl]\n",
    "civet_df"
   ]
  },
  {
   "cell_type": "markdown",
   "metadata": {},
   "source": [
    "# Merge all input datatypes "
   ]
  },
  {
   "cell_type": "code",
   "execution_count": 188,
   "metadata": {},
   "outputs": [
    {
     "name": "stdout",
     "output_type": "stream",
     "text": [
      "(1, 85)\n"
     ]
    }
   ],
   "source": [
    "input_data = pd.merge(adb_demo,adb_mmse,on='sub_idx',how='inner')\n",
    "input_data = pd.merge(input_data,adb_apoe[['sub_idx','APOE_status']],on='sub_idx',how='inner')\n",
    "input_data = pd.merge(input_data,civet_df,on='sub_idx',how='inner')\n",
    "print(input_data.shape)\n",
    "\n",
    "# Create X matrix (order: ['CS(bl,tp)','AGE','APOE4', CT(bl,tp)])\n",
    "# TODO # check mmse column with Mallar\n",
    "X = input_data[['mmse_world','age','APOE_status']+ct_cols_bl].values"
   ]
  },
  {
   "cell_type": "markdown",
   "metadata": {},
   "source": [
    "# Try a model"
   ]
  },
  {
   "cell_type": "code",
   "execution_count": 187,
   "metadata": {
    "scrolled": true
   },
   "outputs": [
    {
     "name": "stdout",
     "output_type": "stream",
     "text": [
      "required input shape: (127,)\n",
      "predicted trajectory: [1]\n"
     ]
    }
   ],
   "source": [
    "tp = 'bl'\n",
    "modality = 'CS_CT'\n",
    "model = 'SVC'\n",
    "fold = 0\n",
    "\n",
    "scaler, clf = get_trained_model(model_dir,tp,modality,model,fold)\n",
    "\n",
    "if model in ['SVC']: # LR_L1 didn't make a difference with a scaler\n",
    "    X = scaler.transform(X) \n",
    "    \n",
    "traj_pred = clf.predict(X)\n",
    "print('predicted trajectory: {}'.format(traj_pred))"
   ]
  },
  {
   "cell_type": "code",
   "execution_count": null,
   "metadata": {
    "collapsed": true
   },
   "outputs": [],
   "source": []
  }
 ],
 "metadata": {
  "kernelspec": {
   "display_name": "Python 3",
   "language": "python",
   "name": "python3"
  },
  "language_info": {
   "codemirror_mode": {
    "name": "ipython",
    "version": 3
   },
   "file_extension": ".py",
   "mimetype": "text/x-python",
   "name": "python",
   "nbconvert_exporter": "python",
   "pygments_lexer": "ipython3",
   "version": "3.6.3"
  }
 },
 "nbformat": 4,
 "nbformat_minor": 2
}
